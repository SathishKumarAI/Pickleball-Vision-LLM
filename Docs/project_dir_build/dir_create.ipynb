{
 "cells": [
  {
   "cell_type": "markdown",
   "metadata": {},
   "source": []
  },
  {
   "cell_type": "code",
   "execution_count": 2,
   "metadata": {},
   "outputs": [],
   "source": [
    "import os\n",
    "import shutil\n",
    "from pathlib import Path\n",
    "\n",
    "# Create a new project directory and move README.md there\n",
    "project_dir = Path(r\"C:\\Users\\devil\\Documents\\Projects\\Pickleball-Vision-LLM\")\n",
    "project_dir.mkdir(exist_ok=True)\n",
    "\n"
   ]
  },
  {
   "cell_type": "code",
   "execution_count": 8,
   "metadata": {},
   "outputs": [
    {
     "name": "stdout",
     "output_type": "stream",
     "text": [
      "Requirement already satisfied: uv in c:\\users\\devil\\.conda\\envs\\test\\lib\\site-packages (0.6.13)\n"
     ]
    }
   ],
   "source": [
    "# conda env create -f environment.yml\n",
    "# conda activate pickleball_llm\n",
    "! pip install uv\n",
    "# ! uv --version\n",
    "\n"
   ]
  },
  {
   "cell_type": "code",
   "execution_count": 7,
   "metadata": {},
   "outputs": [
    {
     "name": "stderr",
     "output_type": "stream",
     "text": [
      "\u001b[2mUsing Python 3.11.11 environment at: C:\\Users\\devil\\.conda\\envs\\test\u001b[0m\n",
      "\u001b[2mResolved \u001b[1m77 packages\u001b[0m \u001b[2min 12.95s\u001b[0m\u001b[0m\n",
      "   \u001b[36m\u001b[1mBuilding\u001b[0m\u001b[39m pickleball-llm\u001b[2m @ file:///C:/Users/devil/Documents/Projects/Pickleball-Vision-LLM\u001b[0m\n",
      "\u001b[36m\u001b[1mDownloading\u001b[0m\u001b[39m imageio-ffmpeg \u001b[2m(29.8MiB)\u001b[0m\n",
      "\u001b[36m\u001b[1mDownloading\u001b[0m\u001b[39m scikit-learn \u001b[2m(10.6MiB)\u001b[0m\n",
      "\u001b[36m\u001b[1mDownloading\u001b[0m\u001b[39m transformers \u001b[2m(9.9MiB)\u001b[0m\n",
      "\u001b[36m\u001b[1mDownloading\u001b[0m\u001b[39m pillow \u001b[2m(2.4MiB)\u001b[0m\n",
      "\u001b[36m\u001b[1mDownloading\u001b[0m\u001b[39m tokenizers \u001b[2m(2.3MiB)\u001b[0m\n",
      "\u001b[36m\u001b[1mDownloading\u001b[0m\u001b[39m sqlalchemy \u001b[2m(2.0MiB)\u001b[0m\n",
      "\u001b[36m\u001b[1mDownloading\u001b[0m\u001b[39m pydantic-core \u001b[2m(1.9MiB)\u001b[0m\n",
      " \u001b[32m\u001b[1mDownloaded\u001b[0m\u001b[39m pydantic-core\n",
      " \u001b[32m\u001b[1mDownloaded\u001b[0m\u001b[39m tokenizers\n",
      " \u001b[32m\u001b[1mDownloaded\u001b[0m\u001b[39m pillow\n",
      " \u001b[32m\u001b[1mDownloaded\u001b[0m\u001b[39m sqlalchemy\n",
      "      \u001b[32m\u001b[1mBuilt\u001b[0m\u001b[39m pickleball-llm\u001b[2m @ file:///C:/Users/devil/Documents/Projects/Pickleball-Vision-LLM\u001b[0m\n",
      " \u001b[32m\u001b[1mDownloaded\u001b[0m\u001b[39m imageio-ffmpeg\n",
      " \u001b[32m\u001b[1mDownloaded\u001b[0m\u001b[39m scikit-learn\n",
      " \u001b[32m\u001b[1mDownloaded\u001b[0m\u001b[39m transformers\n",
      "\u001b[2mPrepared \u001b[1m48 packages\u001b[0m \u001b[2min 1m 29s\u001b[0m\u001b[0m\n",
      "\u001b[2mUninstalled \u001b[1m3 packages\u001b[0m \u001b[2min 562ms\u001b[0m\u001b[0m\n",
      "\u001b[2mInstalled \u001b[1m48 packages\u001b[0m \u001b[2min 9.15s\u001b[0m\u001b[0m\n",
      " \u001b[32m+\u001b[39m \u001b[1mannotated-types\u001b[0m\u001b[2m==0.7.0\u001b[0m\n",
      " \u001b[32m+\u001b[39m \u001b[1manyio\u001b[0m\u001b[2m==4.9.0\u001b[0m\n",
      " \u001b[32m+\u001b[39m \u001b[1mcolorama\u001b[0m\u001b[2m==0.4.6\u001b[0m\n",
      " \u001b[32m+\u001b[39m \u001b[1mdecorator\u001b[0m\u001b[2m==5.2.1\u001b[0m\n",
      " \u001b[32m+\u001b[39m \u001b[1mdistro\u001b[0m\u001b[2m==1.9.0\u001b[0m\n",
      " \u001b[32m+\u001b[39m \u001b[1mfastapi\u001b[0m\u001b[2m==0.115.12\u001b[0m\n",
      " \u001b[32m+\u001b[39m \u001b[1mgreenlet\u001b[0m\u001b[2m==3.1.1\u001b[0m\n",
      " \u001b[32m+\u001b[39m \u001b[1mh11\u001b[0m\u001b[2m==0.14.0\u001b[0m\n",
      " \u001b[32m+\u001b[39m \u001b[1mhttpcore\u001b[0m\u001b[2m==1.0.7\u001b[0m\n",
      " \u001b[32m+\u001b[39m \u001b[1mhttpx\u001b[0m\u001b[2m==0.28.1\u001b[0m\n",
      " \u001b[31m-\u001b[39m \u001b[1mhuggingface-hub\u001b[0m\u001b[2m==0.28.1\u001b[0m\n",
      " \u001b[32m+\u001b[39m \u001b[1mhuggingface-hub\u001b[0m\u001b[2m==0.30.1\u001b[0m\n",
      " \u001b[32m+\u001b[39m \u001b[1mimageio\u001b[0m\u001b[2m==2.37.0\u001b[0m\n",
      " \u001b[32m+\u001b[39m \u001b[1mimageio-ffmpeg\u001b[0m\u001b[2m==0.6.0\u001b[0m\n",
      " \u001b[32m+\u001b[39m \u001b[1mjiter\u001b[0m\u001b[2m==0.9.0\u001b[0m\n",
      " \u001b[32m+\u001b[39m \u001b[1mjoblib\u001b[0m\u001b[2m==1.4.2\u001b[0m\n",
      " \u001b[32m+\u001b[39m \u001b[1mjsonpatch\u001b[0m\u001b[2m==1.33\u001b[0m\n",
      " \u001b[32m+\u001b[39m \u001b[1mjsonpointer\u001b[0m\u001b[2m==3.0.0\u001b[0m\n",
      " \u001b[32m+\u001b[39m \u001b[1mlangchain\u001b[0m\u001b[2m==0.3.23\u001b[0m\n",
      " \u001b[32m+\u001b[39m \u001b[1mlangchain-core\u001b[0m\u001b[2m==0.3.51\u001b[0m\n",
      " \u001b[32m+\u001b[39m \u001b[1mlangchain-text-splitters\u001b[0m\u001b[2m==0.3.8\u001b[0m\n",
      " \u001b[32m+\u001b[39m \u001b[1mlangsmith\u001b[0m\u001b[2m==0.3.26\u001b[0m\n",
      " \u001b[32m+\u001b[39m \u001b[1mmoviepy\u001b[0m\u001b[2m==2.1.2\u001b[0m\n",
      " \u001b[32m+\u001b[39m \u001b[1mopenai\u001b[0m\u001b[2m==1.71.0\u001b[0m\n",
      " \u001b[32m+\u001b[39m \u001b[1morjson\u001b[0m\u001b[2m==3.10.16\u001b[0m\n",
      " \u001b[31m-\u001b[39m \u001b[1mpackaging\u001b[0m\u001b[2m==21.3\u001b[0m\n",
      " \u001b[32m+\u001b[39m \u001b[1mpackaging\u001b[0m\u001b[2m==24.2\u001b[0m\n",
      " \u001b[32m+\u001b[39m \u001b[1mpickleball-llm\u001b[0m\u001b[2m==0.1.0 (from file:///C:/Users/devil/Documents/Projects/Pickleball-Vision-LLM)\u001b[0m\n",
      " \u001b[31m-\u001b[39m \u001b[1mpillow\u001b[0m\u001b[2m==11.1.0\u001b[0m\n",
      " \u001b[32m+\u001b[39m \u001b[1mpillow\u001b[0m\u001b[2m==10.4.0\u001b[0m\n",
      " \u001b[32m+\u001b[39m \u001b[1mproglog\u001b[0m\u001b[2m==0.1.11\u001b[0m\n",
      " \u001b[32m+\u001b[39m \u001b[1mpydantic\u001b[0m\u001b[2m==2.11.2\u001b[0m\n",
      " \u001b[32m+\u001b[39m \u001b[1mpydantic-core\u001b[0m\u001b[2m==2.33.1\u001b[0m\n",
      " \u001b[32m+\u001b[39m \u001b[1mpython-dateutil\u001b[0m\u001b[2m==2.9.0.post0\u001b[0m\n",
      " \u001b[32m+\u001b[39m \u001b[1mpytube\u001b[0m\u001b[2m==15.0.0\u001b[0m\n",
      " \u001b[32m+\u001b[39m \u001b[1mregex\u001b[0m\u001b[2m==2024.11.6\u001b[0m\n",
      " \u001b[32m+\u001b[39m \u001b[1mrequests-toolbelt\u001b[0m\u001b[2m==1.0.0\u001b[0m\n",
      " \u001b[32m+\u001b[39m \u001b[1msafetensors\u001b[0m\u001b[2m==0.5.3\u001b[0m\n",
      " \u001b[32m+\u001b[39m \u001b[1mscikit-learn\u001b[0m\u001b[2m==1.6.1\u001b[0m\n",
      " \u001b[32m+\u001b[39m \u001b[1msix\u001b[0m\u001b[2m==1.17.0\u001b[0m\n",
      " \u001b[32m+\u001b[39m \u001b[1msniffio\u001b[0m\u001b[2m==1.3.1\u001b[0m\n",
      " \u001b[32m+\u001b[39m \u001b[1msqlalchemy\u001b[0m\u001b[2m==2.0.40\u001b[0m\n",
      " \u001b[32m+\u001b[39m \u001b[1mstarlette\u001b[0m\u001b[2m==0.46.1\u001b[0m\n",
      " \u001b[32m+\u001b[39m \u001b[1mtenacity\u001b[0m\u001b[2m==9.1.2\u001b[0m\n",
      " \u001b[32m+\u001b[39m \u001b[1mthreadpoolctl\u001b[0m\u001b[2m==3.6.0\u001b[0m\n",
      " \u001b[32m+\u001b[39m \u001b[1mtokenizers\u001b[0m\u001b[2m==0.21.1\u001b[0m\n",
      " \u001b[32m+\u001b[39m \u001b[1mtransformers\u001b[0m\u001b[2m==4.51.0\u001b[0m\n",
      " \u001b[32m+\u001b[39m \u001b[1mtyping-extensions\u001b[0m\u001b[2m==4.13.1\u001b[0m\n",
      " \u001b[32m+\u001b[39m \u001b[1mtyping-inspection\u001b[0m\u001b[2m==0.4.0\u001b[0m\n",
      " \u001b[32m+\u001b[39m \u001b[1muvicorn\u001b[0m\u001b[2m==0.34.0\u001b[0m\n",
      " \u001b[32m+\u001b[39m \u001b[1mzstandard\u001b[0m\u001b[2m==0.23.0\u001b[0m\n"
     ]
    }
   ],
   "source": [
    "# uv pip install -r requirements.txt\n",
    "# # or\n",
    "# ! uv pip install .\n",
    "! uv pip install \"C:\\Users\\devil\\Documents\\Projects\\Pickleball-Vision-LLM\"\n"
   ]
  },
  {
   "cell_type": "code",
   "execution_count": 9,
   "metadata": {},
   "outputs": [
    {
     "name": "stderr",
     "output_type": "stream",
     "text": [
      "\u001b[2mUsing Python 3.11.11 environment at: C:\\Users\\devil\\.conda\\envs\\test\u001b[0m\n"
     ]
    }
   ],
   "source": [
    "! uv pip freeze > requirements.lock.txt\n"
   ]
  },
  {
   "cell_type": "code",
   "execution_count": null,
   "metadata": {},
   "outputs": [
    {
     "name": "stderr",
     "output_type": "stream",
     "text": [
      "\u001b[1m\u001b[31merror\u001b[39m\u001b[0m: File not found: `requirements.txt`\n"
     ]
    }
   ],
   "source": [
    "# ! uv pip install -r requirements.txt\n",
    "# "
   ]
  },
  {
   "cell_type": "code",
   "execution_count": null,
   "metadata": {},
   "outputs": [
    {
     "name": "stdout",
     "output_type": "stream",
     "text": [
      "Collecting rich"
     ]
    },
    {
     "name": "stderr",
     "output_type": "stream",
     "text": [
      "\n",
      "[notice] A new release of pip is available: 23.2.1 -> 25.0.1\n",
      "[notice] To update, run: C:\\Users\\devil\\AppData\\Local\\Programs\\Python\\Python311\\python.exe -m pip install --upgrade pip\n"
     ]
    },
    {
     "name": "stdout",
     "output_type": "stream",
     "text": [
      "\n",
      "  Obtaining dependency information for rich from https://files.pythonhosted.org/packages/0d/9b/63f4c7ebc259242c89b3acafdb37b41d1185c07ff0011164674e9076b491/rich-14.0.0-py3-none-any.whl.metadata\n",
      "  Downloading rich-14.0.0-py3-none-any.whl.metadata (18 kB)\n",
      "Collecting markdown-it-py>=2.2.0 (from rich)\n",
      "  Obtaining dependency information for markdown-it-py>=2.2.0 from https://files.pythonhosted.org/packages/42/d7/1ec15b46af6af88f19b8e5ffea08fa375d433c998b8a7639e76935c14f1f/markdown_it_py-3.0.0-py3-none-any.whl.metadata\n",
      "  Downloading markdown_it_py-3.0.0-py3-none-any.whl.metadata (6.9 kB)\n",
      "Requirement already satisfied: pygments<3.0.0,>=2.13.0 in c:\\users\\devil\\appdata\\roaming\\python\\python311\\site-packages (from rich) (2.18.0)\n",
      "Collecting mdurl~=0.1 (from markdown-it-py>=2.2.0->rich)\n",
      "  Obtaining dependency information for mdurl~=0.1 from https://files.pythonhosted.org/packages/b3/38/89ba8ad64ae25be8de66a6d463314cf1eb366222074cfda9ee839c56a4b4/mdurl-0.1.2-py3-none-any.whl.metadata\n",
      "  Downloading mdurl-0.1.2-py3-none-any.whl.metadata (1.6 kB)\n",
      "Downloading rich-14.0.0-py3-none-any.whl (243 kB)\n",
      "   ---------------------------------------- 0.0/243.2 kB ? eta -:--:--\n",
      "   ------------------------- -------------- 153.6/243.2 kB 3.1 MB/s eta 0:00:01\n",
      "   ---------------------------------------- 243.2/243.2 kB 3.0 MB/s eta 0:00:00\n",
      "Downloading markdown_it_py-3.0.0-py3-none-any.whl (87 kB)\n",
      "   ---------------------------------------- 0.0/87.5 kB ? eta -:--:--\n",
      "   ---------------------------------------- 87.5/87.5 kB ? eta 0:00:00\n",
      "Downloading mdurl-0.1.2-py3-none-any.whl (10.0 kB)\n",
      "Installing collected packages: mdurl, markdown-it-py, rich\n",
      "Successfully installed markdown-it-py-3.0.0 mdurl-0.1.2 rich-14.0.0\n"
     ]
    }
   ],
   "source": [
    "! pip install rich"
   ]
  },
  {
   "cell_type": "code",
   "execution_count": null,
   "metadata": {},
   "outputs": [],
   "source": []
  },
  {
   "cell_type": "code",
   "execution_count": 2,
   "metadata": {},
   "outputs": [
    {
     "data": {
      "text/html": [
       "<pre style=\"white-space:pre;overflow-x:auto;line-height:normal;font-family:Menlo,'DejaVu Sans Mono',consolas,'Courier New',monospace\"><span style=\"color: #7fbfbf; text-decoration-color: #7fbfbf\">[22:42:06] </span><span style=\"color: #000080; text-decoration-color: #000080\">INFO    </span> <span style=\"font-weight: bold\">[</span>green<span style=\"font-weight: bold\">]</span>Created:<span style=\"font-weight: bold\">[</span><span style=\"color: #800080; text-decoration-color: #800080\">/</span><span style=\"color: #ff00ff; text-decoration-color: #ff00ff\">green</span><span style=\"font-weight: bold\">]</span> root\\README.md                                         <a href=\"file://C:\\Users\\devil\\AppData\\Local\\Temp\\ipykernel_20900\\3340130049.py\" target=\"_blank\"><span style=\"color: #7f7f7f; text-decoration-color: #7f7f7f\">3340130049.py</span></a><span style=\"color: #7f7f7f; text-decoration-color: #7f7f7f\">:</span><a href=\"file://C:\\Users\\devil\\AppData\\Local\\Temp\\ipykernel_20900\\3340130049.py#37\" target=\"_blank\"><span style=\"color: #7f7f7f; text-decoration-color: #7f7f7f\">37</span></a>\n",
       "</pre>\n"
      ],
      "text/plain": [
       "\u001b[2;36m[22:42:06]\u001b[0m\u001b[2;36m \u001b[0m\u001b[34mINFO    \u001b[0m \u001b[1m[\u001b[0mgreen\u001b[1m]\u001b[0mCreated:\u001b[1m[\u001b[0m\u001b[35m/\u001b[0m\u001b[95mgreen\u001b[0m\u001b[1m]\u001b[0m root\\README.md                                         \u001b]8;id=94166;file://C:\\Users\\devil\\AppData\\Local\\Temp\\ipykernel_20900\\3340130049.py\u001b\\\u001b[2m3340130049.py\u001b[0m\u001b]8;;\u001b\\\u001b[2m:\u001b[0m\u001b]8;id=325569;file://C:\\Users\\devil\\AppData\\Local\\Temp\\ipykernel_20900\\3340130049.py#37\u001b\\\u001b[2m37\u001b[0m\u001b]8;;\u001b\\\n"
      ]
     },
     "metadata": {},
     "output_type": "display_data"
    },
    {
     "data": {
      "text/html": [
       "<pre style=\"white-space:pre;overflow-x:auto;line-height:normal;font-family:Menlo,'DejaVu Sans Mono',consolas,'Courier New',monospace\"><span style=\"color: #7fbfbf; text-decoration-color: #7fbfbf\">           </span><span style=\"color: #000080; text-decoration-color: #000080\">INFO    </span> <span style=\"font-weight: bold\">[</span>green<span style=\"font-weight: bold\">]</span>Created:<span style=\"font-weight: bold\">[</span><span style=\"color: #800080; text-decoration-color: #800080\">/</span><span style=\"color: #ff00ff; text-decoration-color: #ff00ff\">green</span><span style=\"font-weight: bold\">]</span> root\\.gitignore                                        <a href=\"file://C:\\Users\\devil\\AppData\\Local\\Temp\\ipykernel_20900\\3340130049.py\" target=\"_blank\"><span style=\"color: #7f7f7f; text-decoration-color: #7f7f7f\">3340130049.py</span></a><span style=\"color: #7f7f7f; text-decoration-color: #7f7f7f\">:</span><a href=\"file://C:\\Users\\devil\\AppData\\Local\\Temp\\ipykernel_20900\\3340130049.py#37\" target=\"_blank\"><span style=\"color: #7f7f7f; text-decoration-color: #7f7f7f\">37</span></a>\n",
       "</pre>\n"
      ],
      "text/plain": [
       "\u001b[2;36m          \u001b[0m\u001b[2;36m \u001b[0m\u001b[34mINFO    \u001b[0m \u001b[1m[\u001b[0mgreen\u001b[1m]\u001b[0mCreated:\u001b[1m[\u001b[0m\u001b[35m/\u001b[0m\u001b[95mgreen\u001b[0m\u001b[1m]\u001b[0m root\\.gitignore                                        \u001b]8;id=301773;file://C:\\Users\\devil\\AppData\\Local\\Temp\\ipykernel_20900\\3340130049.py\u001b\\\u001b[2m3340130049.py\u001b[0m\u001b]8;;\u001b\\\u001b[2m:\u001b[0m\u001b]8;id=717772;file://C:\\Users\\devil\\AppData\\Local\\Temp\\ipykernel_20900\\3340130049.py#37\u001b\\\u001b[2m37\u001b[0m\u001b]8;;\u001b\\\n"
      ]
     },
     "metadata": {},
     "output_type": "display_data"
    },
    {
     "data": {
      "text/html": [
       "<pre style=\"white-space:pre;overflow-x:auto;line-height:normal;font-family:Menlo,'DejaVu Sans Mono',consolas,'Courier New',monospace\"><span style=\"color: #7fbfbf; text-decoration-color: #7fbfbf\">           </span><span style=\"color: #000080; text-decoration-color: #000080\">INFO    </span> <span style=\"font-weight: bold\">[</span>green<span style=\"font-weight: bold\">]</span>Created:<span style=\"font-weight: bold\">[</span><span style=\"color: #800080; text-decoration-color: #800080\">/</span><span style=\"color: #ff00ff; text-decoration-color: #ff00ff\">green</span><span style=\"font-weight: bold\">]</span> root\\environment.yml                                   <a href=\"file://C:\\Users\\devil\\AppData\\Local\\Temp\\ipykernel_20900\\3340130049.py\" target=\"_blank\"><span style=\"color: #7f7f7f; text-decoration-color: #7f7f7f\">3340130049.py</span></a><span style=\"color: #7f7f7f; text-decoration-color: #7f7f7f\">:</span><a href=\"file://C:\\Users\\devil\\AppData\\Local\\Temp\\ipykernel_20900\\3340130049.py#37\" target=\"_blank\"><span style=\"color: #7f7f7f; text-decoration-color: #7f7f7f\">37</span></a>\n",
       "</pre>\n"
      ],
      "text/plain": [
       "\u001b[2;36m          \u001b[0m\u001b[2;36m \u001b[0m\u001b[34mINFO    \u001b[0m \u001b[1m[\u001b[0mgreen\u001b[1m]\u001b[0mCreated:\u001b[1m[\u001b[0m\u001b[35m/\u001b[0m\u001b[95mgreen\u001b[0m\u001b[1m]\u001b[0m root\\environment.yml                                   \u001b]8;id=764636;file://C:\\Users\\devil\\AppData\\Local\\Temp\\ipykernel_20900\\3340130049.py\u001b\\\u001b[2m3340130049.py\u001b[0m\u001b]8;;\u001b\\\u001b[2m:\u001b[0m\u001b]8;id=809371;file://C:\\Users\\devil\\AppData\\Local\\Temp\\ipykernel_20900\\3340130049.py#37\u001b\\\u001b[2m37\u001b[0m\u001b]8;;\u001b\\\n"
      ]
     },
     "metadata": {},
     "output_type": "display_data"
    },
    {
     "data": {
      "text/html": [
       "<pre style=\"white-space:pre;overflow-x:auto;line-height:normal;font-family:Menlo,'DejaVu Sans Mono',consolas,'Courier New',monospace\"><span style=\"color: #7fbfbf; text-decoration-color: #7fbfbf\">           </span><span style=\"color: #000080; text-decoration-color: #000080\">INFO    </span> <span style=\"font-weight: bold\">[</span>green<span style=\"font-weight: bold\">]</span>Created:<span style=\"font-weight: bold\">[</span><span style=\"color: #800080; text-decoration-color: #800080\">/</span><span style=\"color: #ff00ff; text-decoration-color: #ff00ff\">green</span><span style=\"font-weight: bold\">]</span> root\\pyproject.toml                                    <a href=\"file://C:\\Users\\devil\\AppData\\Local\\Temp\\ipykernel_20900\\3340130049.py\" target=\"_blank\"><span style=\"color: #7f7f7f; text-decoration-color: #7f7f7f\">3340130049.py</span></a><span style=\"color: #7f7f7f; text-decoration-color: #7f7f7f\">:</span><a href=\"file://C:\\Users\\devil\\AppData\\Local\\Temp\\ipykernel_20900\\3340130049.py#37\" target=\"_blank\"><span style=\"color: #7f7f7f; text-decoration-color: #7f7f7f\">37</span></a>\n",
       "</pre>\n"
      ],
      "text/plain": [
       "\u001b[2;36m          \u001b[0m\u001b[2;36m \u001b[0m\u001b[34mINFO    \u001b[0m \u001b[1m[\u001b[0mgreen\u001b[1m]\u001b[0mCreated:\u001b[1m[\u001b[0m\u001b[35m/\u001b[0m\u001b[95mgreen\u001b[0m\u001b[1m]\u001b[0m root\\pyproject.toml                                    \u001b]8;id=916208;file://C:\\Users\\devil\\AppData\\Local\\Temp\\ipykernel_20900\\3340130049.py\u001b\\\u001b[2m3340130049.py\u001b[0m\u001b]8;;\u001b\\\u001b[2m:\u001b[0m\u001b]8;id=541995;file://C:\\Users\\devil\\AppData\\Local\\Temp\\ipykernel_20900\\3340130049.py#37\u001b\\\u001b[2m37\u001b[0m\u001b]8;;\u001b\\\n"
      ]
     },
     "metadata": {},
     "output_type": "display_data"
    },
    {
     "data": {
      "text/html": [
       "<pre style=\"white-space:pre;overflow-x:auto;line-height:normal;font-family:Menlo,'DejaVu Sans Mono',consolas,'Courier New',monospace\"><span style=\"color: #7fbfbf; text-decoration-color: #7fbfbf\">           </span><span style=\"color: #000080; text-decoration-color: #000080\">INFO    </span> <span style=\"font-weight: bold\">[</span>green<span style=\"font-weight: bold\">]</span>Created:<span style=\"font-weight: bold\">[</span><span style=\"color: #800080; text-decoration-color: #800080\">/</span><span style=\"color: #ff00ff; text-decoration-color: #ff00ff\">green</span><span style=\"font-weight: bold\">]</span> root\\LICENSE                                           <a href=\"file://C:\\Users\\devil\\AppData\\Local\\Temp\\ipykernel_20900\\3340130049.py\" target=\"_blank\"><span style=\"color: #7f7f7f; text-decoration-color: #7f7f7f\">3340130049.py</span></a><span style=\"color: #7f7f7f; text-decoration-color: #7f7f7f\">:</span><a href=\"file://C:\\Users\\devil\\AppData\\Local\\Temp\\ipykernel_20900\\3340130049.py#37\" target=\"_blank\"><span style=\"color: #7f7f7f; text-decoration-color: #7f7f7f\">37</span></a>\n",
       "</pre>\n"
      ],
      "text/plain": [
       "\u001b[2;36m          \u001b[0m\u001b[2;36m \u001b[0m\u001b[34mINFO    \u001b[0m \u001b[1m[\u001b[0mgreen\u001b[1m]\u001b[0mCreated:\u001b[1m[\u001b[0m\u001b[35m/\u001b[0m\u001b[95mgreen\u001b[0m\u001b[1m]\u001b[0m root\\LICENSE                                           \u001b]8;id=875412;file://C:\\Users\\devil\\AppData\\Local\\Temp\\ipykernel_20900\\3340130049.py\u001b\\\u001b[2m3340130049.py\u001b[0m\u001b]8;;\u001b\\\u001b[2m:\u001b[0m\u001b]8;id=595360;file://C:\\Users\\devil\\AppData\\Local\\Temp\\ipykernel_20900\\3340130049.py#37\u001b\\\u001b[2m37\u001b[0m\u001b]8;;\u001b\\\n"
      ]
     },
     "metadata": {},
     "output_type": "display_data"
    },
    {
     "data": {
      "text/html": [
       "<pre style=\"white-space:pre;overflow-x:auto;line-height:normal;font-family:Menlo,'DejaVu Sans Mono',consolas,'Courier New',monospace\"><span style=\"color: #7fbfbf; text-decoration-color: #7fbfbf\">[22:42:07] </span><span style=\"color: #000080; text-decoration-color: #000080\">INFO    </span> <span style=\"font-weight: bold\">[</span>green<span style=\"font-weight: bold\">]</span>Created:<span style=\"font-weight: bold\">[</span><span style=\"color: #800080; text-decoration-color: #800080\">/</span><span style=\"color: #ff00ff; text-decoration-color: #ff00ff\">green</span><span style=\"font-weight: bold\">]</span> root\\CHANGELOG.md                                      <a href=\"file://C:\\Users\\devil\\AppData\\Local\\Temp\\ipykernel_20900\\3340130049.py\" target=\"_blank\"><span style=\"color: #7f7f7f; text-decoration-color: #7f7f7f\">3340130049.py</span></a><span style=\"color: #7f7f7f; text-decoration-color: #7f7f7f\">:</span><a href=\"file://C:\\Users\\devil\\AppData\\Local\\Temp\\ipykernel_20900\\3340130049.py#37\" target=\"_blank\"><span style=\"color: #7f7f7f; text-decoration-color: #7f7f7f\">37</span></a>\n",
       "</pre>\n"
      ],
      "text/plain": [
       "\u001b[2;36m[22:42:07]\u001b[0m\u001b[2;36m \u001b[0m\u001b[34mINFO    \u001b[0m \u001b[1m[\u001b[0mgreen\u001b[1m]\u001b[0mCreated:\u001b[1m[\u001b[0m\u001b[35m/\u001b[0m\u001b[95mgreen\u001b[0m\u001b[1m]\u001b[0m root\\CHANGELOG.md                                      \u001b]8;id=547345;file://C:\\Users\\devil\\AppData\\Local\\Temp\\ipykernel_20900\\3340130049.py\u001b\\\u001b[2m3340130049.py\u001b[0m\u001b]8;;\u001b\\\u001b[2m:\u001b[0m\u001b]8;id=128293;file://C:\\Users\\devil\\AppData\\Local\\Temp\\ipykernel_20900\\3340130049.py#37\u001b\\\u001b[2m37\u001b[0m\u001b]8;;\u001b\\\n"
      ]
     },
     "metadata": {},
     "output_type": "display_data"
    },
    {
     "data": {
      "text/html": [
       "<pre style=\"white-space:pre;overflow-x:auto;line-height:normal;font-family:Menlo,'DejaVu Sans Mono',consolas,'Courier New',monospace\"><span style=\"color: #7fbfbf; text-decoration-color: #7fbfbf\">           </span><span style=\"color: #000080; text-decoration-color: #000080\">INFO    </span> <span style=\"font-weight: bold\">[</span>green<span style=\"font-weight: bold\">]</span>Created:<span style=\"font-weight: bold\">[</span><span style=\"color: #800080; text-decoration-color: #800080\">/</span><span style=\"color: #ff00ff; text-decoration-color: #ff00ff\">green</span><span style=\"font-weight: bold\">]</span> root\\CONTRIBUTING.md                                   <a href=\"file://C:\\Users\\devil\\AppData\\Local\\Temp\\ipykernel_20900\\3340130049.py\" target=\"_blank\"><span style=\"color: #7f7f7f; text-decoration-color: #7f7f7f\">3340130049.py</span></a><span style=\"color: #7f7f7f; text-decoration-color: #7f7f7f\">:</span><a href=\"file://C:\\Users\\devil\\AppData\\Local\\Temp\\ipykernel_20900\\3340130049.py#37\" target=\"_blank\"><span style=\"color: #7f7f7f; text-decoration-color: #7f7f7f\">37</span></a>\n",
       "</pre>\n"
      ],
      "text/plain": [
       "\u001b[2;36m          \u001b[0m\u001b[2;36m \u001b[0m\u001b[34mINFO    \u001b[0m \u001b[1m[\u001b[0mgreen\u001b[1m]\u001b[0mCreated:\u001b[1m[\u001b[0m\u001b[35m/\u001b[0m\u001b[95mgreen\u001b[0m\u001b[1m]\u001b[0m root\\CONTRIBUTING.md                                   \u001b]8;id=172365;file://C:\\Users\\devil\\AppData\\Local\\Temp\\ipykernel_20900\\3340130049.py\u001b\\\u001b[2m3340130049.py\u001b[0m\u001b]8;;\u001b\\\u001b[2m:\u001b[0m\u001b]8;id=792722;file://C:\\Users\\devil\\AppData\\Local\\Temp\\ipykernel_20900\\3340130049.py#37\u001b\\\u001b[2m37\u001b[0m\u001b]8;;\u001b\\\n"
      ]
     },
     "metadata": {},
     "output_type": "display_data"
    },
    {
     "data": {
      "text/html": [
       "<pre style=\"white-space:pre;overflow-x:auto;line-height:normal;font-family:Menlo,'DejaVu Sans Mono',consolas,'Courier New',monospace\"><span style=\"color: #7fbfbf; text-decoration-color: #7fbfbf\">           </span><span style=\"color: #000080; text-decoration-color: #000080\">INFO    </span> <span style=\"font-weight: bold\">[</span>green<span style=\"font-weight: bold\">]</span>Created:<span style=\"font-weight: bold\">[</span><span style=\"color: #800080; text-decoration-color: #800080\">/</span><span style=\"color: #ff00ff; text-decoration-color: #ff00ff\">green</span><span style=\"font-weight: bold\">]</span> root\\CODE_OF_CONDUCT.md                                <a href=\"file://C:\\Users\\devil\\AppData\\Local\\Temp\\ipykernel_20900\\3340130049.py\" target=\"_blank\"><span style=\"color: #7f7f7f; text-decoration-color: #7f7f7f\">3340130049.py</span></a><span style=\"color: #7f7f7f; text-decoration-color: #7f7f7f\">:</span><a href=\"file://C:\\Users\\devil\\AppData\\Local\\Temp\\ipykernel_20900\\3340130049.py#37\" target=\"_blank\"><span style=\"color: #7f7f7f; text-decoration-color: #7f7f7f\">37</span></a>\n",
       "</pre>\n"
      ],
      "text/plain": [
       "\u001b[2;36m          \u001b[0m\u001b[2;36m \u001b[0m\u001b[34mINFO    \u001b[0m \u001b[1m[\u001b[0mgreen\u001b[1m]\u001b[0mCreated:\u001b[1m[\u001b[0m\u001b[35m/\u001b[0m\u001b[95mgreen\u001b[0m\u001b[1m]\u001b[0m root\\CODE_OF_CONDUCT.md                                \u001b]8;id=427316;file://C:\\Users\\devil\\AppData\\Local\\Temp\\ipykernel_20900\\3340130049.py\u001b\\\u001b[2m3340130049.py\u001b[0m\u001b]8;;\u001b\\\u001b[2m:\u001b[0m\u001b]8;id=596805;file://C:\\Users\\devil\\AppData\\Local\\Temp\\ipykernel_20900\\3340130049.py#37\u001b\\\u001b[2m37\u001b[0m\u001b]8;;\u001b\\\n"
      ]
     },
     "metadata": {},
     "output_type": "display_data"
    },
    {
     "data": {
      "text/html": [
       "<pre style=\"white-space:pre;overflow-x:auto;line-height:normal;font-family:Menlo,'DejaVu Sans Mono',consolas,'Courier New',monospace\"><span style=\"color: #7fbfbf; text-decoration-color: #7fbfbf\">           </span><span style=\"color: #000080; text-decoration-color: #000080\">INFO    </span> <span style=\"font-weight: bold\">[</span>green<span style=\"font-weight: bold\">]</span>Created:<span style=\"font-weight: bold\">[</span><span style=\"color: #800080; text-decoration-color: #800080\">/</span><span style=\"color: #ff00ff; text-decoration-color: #ff00ff\">green</span><span style=\"font-weight: bold\">]</span> root\\mlflow_setup.sh                                   <a href=\"file://C:\\Users\\devil\\AppData\\Local\\Temp\\ipykernel_20900\\3340130049.py\" target=\"_blank\"><span style=\"color: #7f7f7f; text-decoration-color: #7f7f7f\">3340130049.py</span></a><span style=\"color: #7f7f7f; text-decoration-color: #7f7f7f\">:</span><a href=\"file://C:\\Users\\devil\\AppData\\Local\\Temp\\ipykernel_20900\\3340130049.py#37\" target=\"_blank\"><span style=\"color: #7f7f7f; text-decoration-color: #7f7f7f\">37</span></a>\n",
       "</pre>\n"
      ],
      "text/plain": [
       "\u001b[2;36m          \u001b[0m\u001b[2;36m \u001b[0m\u001b[34mINFO    \u001b[0m \u001b[1m[\u001b[0mgreen\u001b[1m]\u001b[0mCreated:\u001b[1m[\u001b[0m\u001b[35m/\u001b[0m\u001b[95mgreen\u001b[0m\u001b[1m]\u001b[0m root\\mlflow_setup.sh                                   \u001b]8;id=215815;file://C:\\Users\\devil\\AppData\\Local\\Temp\\ipykernel_20900\\3340130049.py\u001b\\\u001b[2m3340130049.py\u001b[0m\u001b]8;;\u001b\\\u001b[2m:\u001b[0m\u001b]8;id=352347;file://C:\\Users\\devil\\AppData\\Local\\Temp\\ipykernel_20900\\3340130049.py#37\u001b\\\u001b[2m37\u001b[0m\u001b]8;;\u001b\\\n"
      ]
     },
     "metadata": {},
     "output_type": "display_data"
    },
    {
     "data": {
      "text/html": [
       "<pre style=\"white-space:pre;overflow-x:auto;line-height:normal;font-family:Menlo,'DejaVu Sans Mono',consolas,'Courier New',monospace\"><span style=\"color: #7fbfbf; text-decoration-color: #7fbfbf\">           </span><span style=\"color: #000080; text-decoration-color: #000080\">INFO    </span> <span style=\"font-weight: bold\">[</span>green<span style=\"font-weight: bold\">]</span>Created:<span style=\"font-weight: bold\">[</span><span style=\"color: #800080; text-decoration-color: #800080\">/</span><span style=\"color: #ff00ff; text-decoration-color: #ff00ff\">green</span><span style=\"font-weight: bold\">]</span> config\\config\\config.yaml                              <a href=\"file://C:\\Users\\devil\\AppData\\Local\\Temp\\ipykernel_20900\\3340130049.py\" target=\"_blank\"><span style=\"color: #7f7f7f; text-decoration-color: #7f7f7f\">3340130049.py</span></a><span style=\"color: #7f7f7f; text-decoration-color: #7f7f7f\">:</span><a href=\"file://C:\\Users\\devil\\AppData\\Local\\Temp\\ipykernel_20900\\3340130049.py#37\" target=\"_blank\"><span style=\"color: #7f7f7f; text-decoration-color: #7f7f7f\">37</span></a>\n",
       "</pre>\n"
      ],
      "text/plain": [
       "\u001b[2;36m          \u001b[0m\u001b[2;36m \u001b[0m\u001b[34mINFO    \u001b[0m \u001b[1m[\u001b[0mgreen\u001b[1m]\u001b[0mCreated:\u001b[1m[\u001b[0m\u001b[35m/\u001b[0m\u001b[95mgreen\u001b[0m\u001b[1m]\u001b[0m config\\config\\config.yaml                              \u001b]8;id=333160;file://C:\\Users\\devil\\AppData\\Local\\Temp\\ipykernel_20900\\3340130049.py\u001b\\\u001b[2m3340130049.py\u001b[0m\u001b]8;;\u001b\\\u001b[2m:\u001b[0m\u001b]8;id=592940;file://C:\\Users\\devil\\AppData\\Local\\Temp\\ipykernel_20900\\3340130049.py#37\u001b\\\u001b[2m37\u001b[0m\u001b]8;;\u001b\\\n"
      ]
     },
     "metadata": {},
     "output_type": "display_data"
    },
    {
     "data": {
      "text/html": [
       "<pre style=\"white-space:pre;overflow-x:auto;line-height:normal;font-family:Menlo,'DejaVu Sans Mono',consolas,'Courier New',monospace\"><span style=\"color: #7fbfbf; text-decoration-color: #7fbfbf\">           </span><span style=\"color: #000080; text-decoration-color: #000080\">INFO    </span> <span style=\"font-weight: bold\">[</span>green<span style=\"font-weight: bold\">]</span>Created:<span style=\"font-weight: bold\">[</span><span style=\"color: #800080; text-decoration-color: #800080\">/</span><span style=\"color: #ff00ff; text-decoration-color: #ff00ff\">green</span><span style=\"font-weight: bold\">]</span> config\\config\\hyperparams.yaml                         <a href=\"file://C:\\Users\\devil\\AppData\\Local\\Temp\\ipykernel_20900\\3340130049.py\" target=\"_blank\"><span style=\"color: #7f7f7f; text-decoration-color: #7f7f7f\">3340130049.py</span></a><span style=\"color: #7f7f7f; text-decoration-color: #7f7f7f\">:</span><a href=\"file://C:\\Users\\devil\\AppData\\Local\\Temp\\ipykernel_20900\\3340130049.py#37\" target=\"_blank\"><span style=\"color: #7f7f7f; text-decoration-color: #7f7f7f\">37</span></a>\n",
       "</pre>\n"
      ],
      "text/plain": [
       "\u001b[2;36m          \u001b[0m\u001b[2;36m \u001b[0m\u001b[34mINFO    \u001b[0m \u001b[1m[\u001b[0mgreen\u001b[1m]\u001b[0mCreated:\u001b[1m[\u001b[0m\u001b[35m/\u001b[0m\u001b[95mgreen\u001b[0m\u001b[1m]\u001b[0m config\\config\\hyperparams.yaml                         \u001b]8;id=906703;file://C:\\Users\\devil\\AppData\\Local\\Temp\\ipykernel_20900\\3340130049.py\u001b\\\u001b[2m3340130049.py\u001b[0m\u001b]8;;\u001b\\\u001b[2m:\u001b[0m\u001b]8;id=920824;file://C:\\Users\\devil\\AppData\\Local\\Temp\\ipykernel_20900\\3340130049.py#37\u001b\\\u001b[2m37\u001b[0m\u001b]8;;\u001b\\\n"
      ]
     },
     "metadata": {},
     "output_type": "display_data"
    },
    {
     "data": {
      "text/html": [
       "<pre style=\"white-space:pre;overflow-x:auto;line-height:normal;font-family:Menlo,'DejaVu Sans Mono',consolas,'Courier New',monospace\"><span style=\"color: #7fbfbf; text-decoration-color: #7fbfbf\">           </span><span style=\"color: #000080; text-decoration-color: #000080\">INFO    </span> <span style=\"font-weight: bold\">[</span>green<span style=\"font-weight: bold\">]</span>Created:<span style=\"font-weight: bold\">[</span><span style=\"color: #800080; text-decoration-color: #800080\">/</span><span style=\"color: #ff00ff; text-decoration-color: #ff00ff\">green</span><span style=\"font-weight: bold\">]</span> data\\raw\\data\\raw\\.gitkeep                             <a href=\"file://C:\\Users\\devil\\AppData\\Local\\Temp\\ipykernel_20900\\3340130049.py\" target=\"_blank\"><span style=\"color: #7f7f7f; text-decoration-color: #7f7f7f\">3340130049.py</span></a><span style=\"color: #7f7f7f; text-decoration-color: #7f7f7f\">:</span><a href=\"file://C:\\Users\\devil\\AppData\\Local\\Temp\\ipykernel_20900\\3340130049.py#37\" target=\"_blank\"><span style=\"color: #7f7f7f; text-decoration-color: #7f7f7f\">37</span></a>\n",
       "</pre>\n"
      ],
      "text/plain": [
       "\u001b[2;36m          \u001b[0m\u001b[2;36m \u001b[0m\u001b[34mINFO    \u001b[0m \u001b[1m[\u001b[0mgreen\u001b[1m]\u001b[0mCreated:\u001b[1m[\u001b[0m\u001b[35m/\u001b[0m\u001b[95mgreen\u001b[0m\u001b[1m]\u001b[0m data\\raw\\data\\raw\\.gitkeep                             \u001b]8;id=132906;file://C:\\Users\\devil\\AppData\\Local\\Temp\\ipykernel_20900\\3340130049.py\u001b\\\u001b[2m3340130049.py\u001b[0m\u001b]8;;\u001b\\\u001b[2m:\u001b[0m\u001b]8;id=774412;file://C:\\Users\\devil\\AppData\\Local\\Temp\\ipykernel_20900\\3340130049.py#37\u001b\\\u001b[2m37\u001b[0m\u001b]8;;\u001b\\\n"
      ]
     },
     "metadata": {},
     "output_type": "display_data"
    },
    {
     "data": {
      "text/html": [
       "<pre style=\"white-space:pre;overflow-x:auto;line-height:normal;font-family:Menlo,'DejaVu Sans Mono',consolas,'Courier New',monospace\"><span style=\"color: #7fbfbf; text-decoration-color: #7fbfbf\">           </span><span style=\"color: #000080; text-decoration-color: #000080\">INFO    </span> <span style=\"font-weight: bold\">[</span>green<span style=\"font-weight: bold\">]</span>Created:<span style=\"font-weight: bold\">[</span><span style=\"color: #800080; text-decoration-color: #800080\">/</span><span style=\"color: #ff00ff; text-decoration-color: #ff00ff\">green</span><span style=\"font-weight: bold\">]</span> data\\processed\\data\\processed\\.gitkeep                 <a href=\"file://C:\\Users\\devil\\AppData\\Local\\Temp\\ipykernel_20900\\3340130049.py\" target=\"_blank\"><span style=\"color: #7f7f7f; text-decoration-color: #7f7f7f\">3340130049.py</span></a><span style=\"color: #7f7f7f; text-decoration-color: #7f7f7f\">:</span><a href=\"file://C:\\Users\\devil\\AppData\\Local\\Temp\\ipykernel_20900\\3340130049.py#37\" target=\"_blank\"><span style=\"color: #7f7f7f; text-decoration-color: #7f7f7f\">37</span></a>\n",
       "</pre>\n"
      ],
      "text/plain": [
       "\u001b[2;36m          \u001b[0m\u001b[2;36m \u001b[0m\u001b[34mINFO    \u001b[0m \u001b[1m[\u001b[0mgreen\u001b[1m]\u001b[0mCreated:\u001b[1m[\u001b[0m\u001b[35m/\u001b[0m\u001b[95mgreen\u001b[0m\u001b[1m]\u001b[0m data\\processed\\data\\processed\\.gitkeep                 \u001b]8;id=895276;file://C:\\Users\\devil\\AppData\\Local\\Temp\\ipykernel_20900\\3340130049.py\u001b\\\u001b[2m3340130049.py\u001b[0m\u001b]8;;\u001b\\\u001b[2m:\u001b[0m\u001b]8;id=858896;file://C:\\Users\\devil\\AppData\\Local\\Temp\\ipykernel_20900\\3340130049.py#37\u001b\\\u001b[2m37\u001b[0m\u001b]8;;\u001b\\\n"
      ]
     },
     "metadata": {},
     "output_type": "display_data"
    },
    {
     "data": {
      "text/html": [
       "<pre style=\"white-space:pre;overflow-x:auto;line-height:normal;font-family:Menlo,'DejaVu Sans Mono',consolas,'Courier New',monospace\"><span style=\"color: #7fbfbf; text-decoration-color: #7fbfbf\">           </span><span style=\"color: #000080; text-decoration-color: #000080\">INFO    </span> <span style=\"font-weight: bold\">[</span>green<span style=\"font-weight: bold\">]</span>Created:<span style=\"font-weight: bold\">[</span><span style=\"color: #800080; text-decoration-color: #800080\">/</span><span style=\"color: #ff00ff; text-decoration-color: #ff00ff\">green</span><span style=\"font-weight: bold\">]</span> data\\interim\\data\\interim\\.gitkeep                     <a href=\"file://C:\\Users\\devil\\AppData\\Local\\Temp\\ipykernel_20900\\3340130049.py\" target=\"_blank\"><span style=\"color: #7f7f7f; text-decoration-color: #7f7f7f\">3340130049.py</span></a><span style=\"color: #7f7f7f; text-decoration-color: #7f7f7f\">:</span><a href=\"file://C:\\Users\\devil\\AppData\\Local\\Temp\\ipykernel_20900\\3340130049.py#37\" target=\"_blank\"><span style=\"color: #7f7f7f; text-decoration-color: #7f7f7f\">37</span></a>\n",
       "</pre>\n"
      ],
      "text/plain": [
       "\u001b[2;36m          \u001b[0m\u001b[2;36m \u001b[0m\u001b[34mINFO    \u001b[0m \u001b[1m[\u001b[0mgreen\u001b[1m]\u001b[0mCreated:\u001b[1m[\u001b[0m\u001b[35m/\u001b[0m\u001b[95mgreen\u001b[0m\u001b[1m]\u001b[0m data\\interim\\data\\interim\\.gitkeep                     \u001b]8;id=126832;file://C:\\Users\\devil\\AppData\\Local\\Temp\\ipykernel_20900\\3340130049.py\u001b\\\u001b[2m3340130049.py\u001b[0m\u001b]8;;\u001b\\\u001b[2m:\u001b[0m\u001b]8;id=125853;file://C:\\Users\\devil\\AppData\\Local\\Temp\\ipykernel_20900\\3340130049.py#37\u001b\\\u001b[2m37\u001b[0m\u001b]8;;\u001b\\\n"
      ]
     },
     "metadata": {},
     "output_type": "display_data"
    },
    {
     "data": {
      "text/html": [
       "<pre style=\"white-space:pre;overflow-x:auto;line-height:normal;font-family:Menlo,'DejaVu Sans Mono',consolas,'Courier New',monospace\"><span style=\"color: #7fbfbf; text-decoration-color: #7fbfbf\">           </span><span style=\"color: #000080; text-decoration-color: #000080\">INFO    </span> <span style=\"font-weight: bold\">[</span>green<span style=\"font-weight: bold\">]</span>Created:<span style=\"font-weight: bold\">[</span><span style=\"color: #800080; text-decoration-color: #800080\">/</span><span style=\"color: #ff00ff; text-decoration-color: #ff00ff\">green</span><span style=\"font-weight: bold\">]</span> data\\external\\data\\external\\.gitkeep                   <a href=\"file://C:\\Users\\devil\\AppData\\Local\\Temp\\ipykernel_20900\\3340130049.py\" target=\"_blank\"><span style=\"color: #7f7f7f; text-decoration-color: #7f7f7f\">3340130049.py</span></a><span style=\"color: #7f7f7f; text-decoration-color: #7f7f7f\">:</span><a href=\"file://C:\\Users\\devil\\AppData\\Local\\Temp\\ipykernel_20900\\3340130049.py#37\" target=\"_blank\"><span style=\"color: #7f7f7f; text-decoration-color: #7f7f7f\">37</span></a>\n",
       "</pre>\n"
      ],
      "text/plain": [
       "\u001b[2;36m          \u001b[0m\u001b[2;36m \u001b[0m\u001b[34mINFO    \u001b[0m \u001b[1m[\u001b[0mgreen\u001b[1m]\u001b[0mCreated:\u001b[1m[\u001b[0m\u001b[35m/\u001b[0m\u001b[95mgreen\u001b[0m\u001b[1m]\u001b[0m data\\external\\data\\external\\.gitkeep                   \u001b]8;id=515017;file://C:\\Users\\devil\\AppData\\Local\\Temp\\ipykernel_20900\\3340130049.py\u001b\\\u001b[2m3340130049.py\u001b[0m\u001b]8;;\u001b\\\u001b[2m:\u001b[0m\u001b]8;id=549508;file://C:\\Users\\devil\\AppData\\Local\\Temp\\ipykernel_20900\\3340130049.py#37\u001b\\\u001b[2m37\u001b[0m\u001b]8;;\u001b\\\n"
      ]
     },
     "metadata": {},
     "output_type": "display_data"
    },
    {
     "data": {
      "text/html": [
       "<pre style=\"white-space:pre;overflow-x:auto;line-height:normal;font-family:Menlo,'DejaVu Sans Mono',consolas,'Courier New',monospace\"><span style=\"color: #7fbfbf; text-decoration-color: #7fbfbf\">           </span><span style=\"color: #000080; text-decoration-color: #000080\">INFO    </span> <span style=\"font-weight: bold\">[</span>green<span style=\"font-weight: bold\">]</span>Created:<span style=\"font-weight: bold\">[</span><span style=\"color: #800080; text-decoration-color: #800080\">/</span><span style=\"color: #ff00ff; text-decoration-color: #ff00ff\">green</span><span style=\"font-weight: bold\">]</span> data\\outputs\\data\\outputs\\.gitkeep                     <a href=\"file://C:\\Users\\devil\\AppData\\Local\\Temp\\ipykernel_20900\\3340130049.py\" target=\"_blank\"><span style=\"color: #7f7f7f; text-decoration-color: #7f7f7f\">3340130049.py</span></a><span style=\"color: #7f7f7f; text-decoration-color: #7f7f7f\">:</span><a href=\"file://C:\\Users\\devil\\AppData\\Local\\Temp\\ipykernel_20900\\3340130049.py#37\" target=\"_blank\"><span style=\"color: #7f7f7f; text-decoration-color: #7f7f7f\">37</span></a>\n",
       "</pre>\n"
      ],
      "text/plain": [
       "\u001b[2;36m          \u001b[0m\u001b[2;36m \u001b[0m\u001b[34mINFO    \u001b[0m \u001b[1m[\u001b[0mgreen\u001b[1m]\u001b[0mCreated:\u001b[1m[\u001b[0m\u001b[35m/\u001b[0m\u001b[95mgreen\u001b[0m\u001b[1m]\u001b[0m data\\outputs\\data\\outputs\\.gitkeep                     \u001b]8;id=920558;file://C:\\Users\\devil\\AppData\\Local\\Temp\\ipykernel_20900\\3340130049.py\u001b\\\u001b[2m3340130049.py\u001b[0m\u001b]8;;\u001b\\\u001b[2m:\u001b[0m\u001b]8;id=786007;file://C:\\Users\\devil\\AppData\\Local\\Temp\\ipykernel_20900\\3340130049.py#37\u001b\\\u001b[2m37\u001b[0m\u001b]8;;\u001b\\\n"
      ]
     },
     "metadata": {},
     "output_type": "display_data"
    },
    {
     "data": {
      "text/html": [
       "<pre style=\"white-space:pre;overflow-x:auto;line-height:normal;font-family:Menlo,'DejaVu Sans Mono',consolas,'Courier New',monospace\"><span style=\"color: #7fbfbf; text-decoration-color: #7fbfbf\">           </span><span style=\"color: #000080; text-decoration-color: #000080\">INFO    </span> <span style=\"font-weight: bold\">[</span>green<span style=\"font-weight: bold\">]</span>Created:<span style=\"font-weight: bold\">[</span><span style=\"color: #800080; text-decoration-color: #800080\">/</span><span style=\"color: #ff00ff; text-decoration-color: #ff00ff\">green</span><span style=\"font-weight: bold\">]</span> docs\\docs\\index.md                                     <a href=\"file://C:\\Users\\devil\\AppData\\Local\\Temp\\ipykernel_20900\\3340130049.py\" target=\"_blank\"><span style=\"color: #7f7f7f; text-decoration-color: #7f7f7f\">3340130049.py</span></a><span style=\"color: #7f7f7f; text-decoration-color: #7f7f7f\">:</span><a href=\"file://C:\\Users\\devil\\AppData\\Local\\Temp\\ipykernel_20900\\3340130049.py#37\" target=\"_blank\"><span style=\"color: #7f7f7f; text-decoration-color: #7f7f7f\">37</span></a>\n",
       "</pre>\n"
      ],
      "text/plain": [
       "\u001b[2;36m          \u001b[0m\u001b[2;36m \u001b[0m\u001b[34mINFO    \u001b[0m \u001b[1m[\u001b[0mgreen\u001b[1m]\u001b[0mCreated:\u001b[1m[\u001b[0m\u001b[35m/\u001b[0m\u001b[95mgreen\u001b[0m\u001b[1m]\u001b[0m docs\\docs\\index.md                                     \u001b]8;id=571681;file://C:\\Users\\devil\\AppData\\Local\\Temp\\ipykernel_20900\\3340130049.py\u001b\\\u001b[2m3340130049.py\u001b[0m\u001b]8;;\u001b\\\u001b[2m:\u001b[0m\u001b]8;id=344986;file://C:\\Users\\devil\\AppData\\Local\\Temp\\ipykernel_20900\\3340130049.py#37\u001b\\\u001b[2m37\u001b[0m\u001b]8;;\u001b\\\n"
      ]
     },
     "metadata": {},
     "output_type": "display_data"
    },
    {
     "data": {
      "text/html": [
       "<pre style=\"white-space:pre;overflow-x:auto;line-height:normal;font-family:Menlo,'DejaVu Sans Mono',consolas,'Courier New',monospace\"><span style=\"color: #7fbfbf; text-decoration-color: #7fbfbf\">           </span><span style=\"color: #000080; text-decoration-color: #000080\">INFO    </span> <span style=\"font-weight: bold\">[</span>green<span style=\"font-weight: bold\">]</span>Created:<span style=\"font-weight: bold\">[</span><span style=\"color: #800080; text-decoration-color: #800080\">/</span><span style=\"color: #ff00ff; text-decoration-color: #ff00ff\">green</span><span style=\"font-weight: bold\">]</span> docs\\docs\\setup.md                                     <a href=\"file://C:\\Users\\devil\\AppData\\Local\\Temp\\ipykernel_20900\\3340130049.py\" target=\"_blank\"><span style=\"color: #7f7f7f; text-decoration-color: #7f7f7f\">3340130049.py</span></a><span style=\"color: #7f7f7f; text-decoration-color: #7f7f7f\">:</span><a href=\"file://C:\\Users\\devil\\AppData\\Local\\Temp\\ipykernel_20900\\3340130049.py#37\" target=\"_blank\"><span style=\"color: #7f7f7f; text-decoration-color: #7f7f7f\">37</span></a>\n",
       "</pre>\n"
      ],
      "text/plain": [
       "\u001b[2;36m          \u001b[0m\u001b[2;36m \u001b[0m\u001b[34mINFO    \u001b[0m \u001b[1m[\u001b[0mgreen\u001b[1m]\u001b[0mCreated:\u001b[1m[\u001b[0m\u001b[35m/\u001b[0m\u001b[95mgreen\u001b[0m\u001b[1m]\u001b[0m docs\\docs\\setup.md                                     \u001b]8;id=387367;file://C:\\Users\\devil\\AppData\\Local\\Temp\\ipykernel_20900\\3340130049.py\u001b\\\u001b[2m3340130049.py\u001b[0m\u001b]8;;\u001b\\\u001b[2m:\u001b[0m\u001b]8;id=193604;file://C:\\Users\\devil\\AppData\\Local\\Temp\\ipykernel_20900\\3340130049.py#37\u001b\\\u001b[2m37\u001b[0m\u001b]8;;\u001b\\\n"
      ]
     },
     "metadata": {},
     "output_type": "display_data"
    },
    {
     "data": {
      "text/html": [
       "<pre style=\"white-space:pre;overflow-x:auto;line-height:normal;font-family:Menlo,'DejaVu Sans Mono',consolas,'Courier New',monospace\"><span style=\"color: #7fbfbf; text-decoration-color: #7fbfbf\">           </span><span style=\"color: #000080; text-decoration-color: #000080\">INFO    </span> <span style=\"font-weight: bold\">[</span>green<span style=\"font-weight: bold\">]</span>Created:<span style=\"font-weight: bold\">[</span><span style=\"color: #800080; text-decoration-color: #800080\">/</span><span style=\"color: #ff00ff; text-decoration-color: #ff00ff\">green</span><span style=\"font-weight: bold\">]</span> docs\\docs\\architecture.md                              <a href=\"file://C:\\Users\\devil\\AppData\\Local\\Temp\\ipykernel_20900\\3340130049.py\" target=\"_blank\"><span style=\"color: #7f7f7f; text-decoration-color: #7f7f7f\">3340130049.py</span></a><span style=\"color: #7f7f7f; text-decoration-color: #7f7f7f\">:</span><a href=\"file://C:\\Users\\devil\\AppData\\Local\\Temp\\ipykernel_20900\\3340130049.py#37\" target=\"_blank\"><span style=\"color: #7f7f7f; text-decoration-color: #7f7f7f\">37</span></a>\n",
       "</pre>\n"
      ],
      "text/plain": [
       "\u001b[2;36m          \u001b[0m\u001b[2;36m \u001b[0m\u001b[34mINFO    \u001b[0m \u001b[1m[\u001b[0mgreen\u001b[1m]\u001b[0mCreated:\u001b[1m[\u001b[0m\u001b[35m/\u001b[0m\u001b[95mgreen\u001b[0m\u001b[1m]\u001b[0m docs\\docs\\architecture.md                              \u001b]8;id=307465;file://C:\\Users\\devil\\AppData\\Local\\Temp\\ipykernel_20900\\3340130049.py\u001b\\\u001b[2m3340130049.py\u001b[0m\u001b]8;;\u001b\\\u001b[2m:\u001b[0m\u001b]8;id=615309;file://C:\\Users\\devil\\AppData\\Local\\Temp\\ipykernel_20900\\3340130049.py#37\u001b\\\u001b[2m37\u001b[0m\u001b]8;;\u001b\\\n"
      ]
     },
     "metadata": {},
     "output_type": "display_data"
    },
    {
     "data": {
      "text/html": [
       "<pre style=\"white-space:pre;overflow-x:auto;line-height:normal;font-family:Menlo,'DejaVu Sans Mono',consolas,'Courier New',monospace\"><span style=\"color: #7fbfbf; text-decoration-color: #7fbfbf\">           </span><span style=\"color: #000080; text-decoration-color: #000080\">INFO    </span> <span style=\"font-weight: bold\">[</span>green<span style=\"font-weight: bold\">]</span>Created:<span style=\"font-weight: bold\">[</span><span style=\"color: #800080; text-decoration-color: #800080\">/</span><span style=\"color: #ff00ff; text-decoration-color: #ff00ff\">green</span><span style=\"font-weight: bold\">]</span> docs\\docs\\model_zoo.md                                 <a href=\"file://C:\\Users\\devil\\AppData\\Local\\Temp\\ipykernel_20900\\3340130049.py\" target=\"_blank\"><span style=\"color: #7f7f7f; text-decoration-color: #7f7f7f\">3340130049.py</span></a><span style=\"color: #7f7f7f; text-decoration-color: #7f7f7f\">:</span><a href=\"file://C:\\Users\\devil\\AppData\\Local\\Temp\\ipykernel_20900\\3340130049.py#37\" target=\"_blank\"><span style=\"color: #7f7f7f; text-decoration-color: #7f7f7f\">37</span></a>\n",
       "</pre>\n"
      ],
      "text/plain": [
       "\u001b[2;36m          \u001b[0m\u001b[2;36m \u001b[0m\u001b[34mINFO    \u001b[0m \u001b[1m[\u001b[0mgreen\u001b[1m]\u001b[0mCreated:\u001b[1m[\u001b[0m\u001b[35m/\u001b[0m\u001b[95mgreen\u001b[0m\u001b[1m]\u001b[0m docs\\docs\\model_zoo.md                                 \u001b]8;id=636296;file://C:\\Users\\devil\\AppData\\Local\\Temp\\ipykernel_20900\\3340130049.py\u001b\\\u001b[2m3340130049.py\u001b[0m\u001b]8;;\u001b\\\u001b[2m:\u001b[0m\u001b]8;id=392379;file://C:\\Users\\devil\\AppData\\Local\\Temp\\ipykernel_20900\\3340130049.py#37\u001b\\\u001b[2m37\u001b[0m\u001b]8;;\u001b\\\n"
      ]
     },
     "metadata": {},
     "output_type": "display_data"
    },
    {
     "data": {
      "text/html": [
       "<pre style=\"white-space:pre;overflow-x:auto;line-height:normal;font-family:Menlo,'DejaVu Sans Mono',consolas,'Courier New',monospace\"><span style=\"color: #7fbfbf; text-decoration-color: #7fbfbf\">           </span><span style=\"color: #000080; text-decoration-color: #000080\">INFO    </span> <span style=\"font-weight: bold\">[</span>green<span style=\"font-weight: bold\">]</span>Created:<span style=\"font-weight: bold\">[</span><span style=\"color: #800080; text-decoration-color: #800080\">/</span><span style=\"color: #ff00ff; text-decoration-color: #ff00ff\">green</span><span style=\"font-weight: bold\">]</span> docs\\docs\\inference_api.md                             <a href=\"file://C:\\Users\\devil\\AppData\\Local\\Temp\\ipykernel_20900\\3340130049.py\" target=\"_blank\"><span style=\"color: #7f7f7f; text-decoration-color: #7f7f7f\">3340130049.py</span></a><span style=\"color: #7f7f7f; text-decoration-color: #7f7f7f\">:</span><a href=\"file://C:\\Users\\devil\\AppData\\Local\\Temp\\ipykernel_20900\\3340130049.py#37\" target=\"_blank\"><span style=\"color: #7f7f7f; text-decoration-color: #7f7f7f\">37</span></a>\n",
       "</pre>\n"
      ],
      "text/plain": [
       "\u001b[2;36m          \u001b[0m\u001b[2;36m \u001b[0m\u001b[34mINFO    \u001b[0m \u001b[1m[\u001b[0mgreen\u001b[1m]\u001b[0mCreated:\u001b[1m[\u001b[0m\u001b[35m/\u001b[0m\u001b[95mgreen\u001b[0m\u001b[1m]\u001b[0m docs\\docs\\inference_api.md                             \u001b]8;id=364935;file://C:\\Users\\devil\\AppData\\Local\\Temp\\ipykernel_20900\\3340130049.py\u001b\\\u001b[2m3340130049.py\u001b[0m\u001b]8;;\u001b\\\u001b[2m:\u001b[0m\u001b]8;id=944478;file://C:\\Users\\devil\\AppData\\Local\\Temp\\ipykernel_20900\\3340130049.py#37\u001b\\\u001b[2m37\u001b[0m\u001b]8;;\u001b\\\n"
      ]
     },
     "metadata": {},
     "output_type": "display_data"
    },
    {
     "data": {
      "text/html": [
       "<pre style=\"white-space:pre;overflow-x:auto;line-height:normal;font-family:Menlo,'DejaVu Sans Mono',consolas,'Courier New',monospace\"><span style=\"color: #7fbfbf; text-decoration-color: #7fbfbf\">           </span><span style=\"color: #000080; text-decoration-color: #000080\">INFO    </span> <span style=\"font-weight: bold\">[</span>green<span style=\"font-weight: bold\">]</span>Created:<span style=\"font-weight: bold\">[</span><span style=\"color: #800080; text-decoration-color: #800080\">/</span><span style=\"color: #ff00ff; text-decoration-color: #ff00ff\">green</span><span style=\"font-weight: bold\">]</span> docs\\docs\\pipeline_diagrams.md                         <a href=\"file://C:\\Users\\devil\\AppData\\Local\\Temp\\ipykernel_20900\\3340130049.py\" target=\"_blank\"><span style=\"color: #7f7f7f; text-decoration-color: #7f7f7f\">3340130049.py</span></a><span style=\"color: #7f7f7f; text-decoration-color: #7f7f7f\">:</span><a href=\"file://C:\\Users\\devil\\AppData\\Local\\Temp\\ipykernel_20900\\3340130049.py#37\" target=\"_blank\"><span style=\"color: #7f7f7f; text-decoration-color: #7f7f7f\">37</span></a>\n",
       "</pre>\n"
      ],
      "text/plain": [
       "\u001b[2;36m          \u001b[0m\u001b[2;36m \u001b[0m\u001b[34mINFO    \u001b[0m \u001b[1m[\u001b[0mgreen\u001b[1m]\u001b[0mCreated:\u001b[1m[\u001b[0m\u001b[35m/\u001b[0m\u001b[95mgreen\u001b[0m\u001b[1m]\u001b[0m docs\\docs\\pipeline_diagrams.md                         \u001b]8;id=481466;file://C:\\Users\\devil\\AppData\\Local\\Temp\\ipykernel_20900\\3340130049.py\u001b\\\u001b[2m3340130049.py\u001b[0m\u001b]8;;\u001b\\\u001b[2m:\u001b[0m\u001b]8;id=300680;file://C:\\Users\\devil\\AppData\\Local\\Temp\\ipykernel_20900\\3340130049.py#37\u001b\\\u001b[2m37\u001b[0m\u001b]8;;\u001b\\\n"
      ]
     },
     "metadata": {},
     "output_type": "display_data"
    },
    {
     "data": {
      "text/html": [
       "<pre style=\"white-space:pre;overflow-x:auto;line-height:normal;font-family:Menlo,'DejaVu Sans Mono',consolas,'Courier New',monospace\"><span style=\"color: #7fbfbf; text-decoration-color: #7fbfbf\">           </span><span style=\"color: #000080; text-decoration-color: #000080\">INFO    </span> <span style=\"font-weight: bold\">[</span>green<span style=\"font-weight: bold\">]</span>Created:<span style=\"font-weight: bold\">[</span><span style=\"color: #800080; text-decoration-color: #800080\">/</span><span style=\"color: #ff00ff; text-decoration-color: #ff00ff\">green</span><span style=\"font-weight: bold\">]</span> docs\\docs\\vision_models.md                             <a href=\"file://C:\\Users\\devil\\AppData\\Local\\Temp\\ipykernel_20900\\3340130049.py\" target=\"_blank\"><span style=\"color: #7f7f7f; text-decoration-color: #7f7f7f\">3340130049.py</span></a><span style=\"color: #7f7f7f; text-decoration-color: #7f7f7f\">:</span><a href=\"file://C:\\Users\\devil\\AppData\\Local\\Temp\\ipykernel_20900\\3340130049.py#37\" target=\"_blank\"><span style=\"color: #7f7f7f; text-decoration-color: #7f7f7f\">37</span></a>\n",
       "</pre>\n"
      ],
      "text/plain": [
       "\u001b[2;36m          \u001b[0m\u001b[2;36m \u001b[0m\u001b[34mINFO    \u001b[0m \u001b[1m[\u001b[0mgreen\u001b[1m]\u001b[0mCreated:\u001b[1m[\u001b[0m\u001b[35m/\u001b[0m\u001b[95mgreen\u001b[0m\u001b[1m]\u001b[0m docs\\docs\\vision_models.md                             \u001b]8;id=394428;file://C:\\Users\\devil\\AppData\\Local\\Temp\\ipykernel_20900\\3340130049.py\u001b\\\u001b[2m3340130049.py\u001b[0m\u001b]8;;\u001b\\\u001b[2m:\u001b[0m\u001b]8;id=569458;file://C:\\Users\\devil\\AppData\\Local\\Temp\\ipykernel_20900\\3340130049.py#37\u001b\\\u001b[2m37\u001b[0m\u001b]8;;\u001b\\\n"
      ]
     },
     "metadata": {},
     "output_type": "display_data"
    },
    {
     "data": {
      "text/html": [
       "<pre style=\"white-space:pre;overflow-x:auto;line-height:normal;font-family:Menlo,'DejaVu Sans Mono',consolas,'Courier New',monospace\"><span style=\"color: #7fbfbf; text-decoration-color: #7fbfbf\">           </span><span style=\"color: #000080; text-decoration-color: #000080\">INFO    </span> <span style=\"font-weight: bold\">[</span>green<span style=\"font-weight: bold\">]</span>Created:<span style=\"font-weight: bold\">[</span><span style=\"color: #800080; text-decoration-color: #800080\">/</span><span style=\"color: #ff00ff; text-decoration-color: #ff00ff\">green</span><span style=\"font-weight: bold\">]</span> docs\\docs\\llm_prompts.md                               <a href=\"file://C:\\Users\\devil\\AppData\\Local\\Temp\\ipykernel_20900\\3340130049.py\" target=\"_blank\"><span style=\"color: #7f7f7f; text-decoration-color: #7f7f7f\">3340130049.py</span></a><span style=\"color: #7f7f7f; text-decoration-color: #7f7f7f\">:</span><a href=\"file://C:\\Users\\devil\\AppData\\Local\\Temp\\ipykernel_20900\\3340130049.py#37\" target=\"_blank\"><span style=\"color: #7f7f7f; text-decoration-color: #7f7f7f\">37</span></a>\n",
       "</pre>\n"
      ],
      "text/plain": [
       "\u001b[2;36m          \u001b[0m\u001b[2;36m \u001b[0m\u001b[34mINFO    \u001b[0m \u001b[1m[\u001b[0mgreen\u001b[1m]\u001b[0mCreated:\u001b[1m[\u001b[0m\u001b[35m/\u001b[0m\u001b[95mgreen\u001b[0m\u001b[1m]\u001b[0m docs\\docs\\llm_prompts.md                               \u001b]8;id=831754;file://C:\\Users\\devil\\AppData\\Local\\Temp\\ipykernel_20900\\3340130049.py\u001b\\\u001b[2m3340130049.py\u001b[0m\u001b]8;;\u001b\\\u001b[2m:\u001b[0m\u001b]8;id=27485;file://C:\\Users\\devil\\AppData\\Local\\Temp\\ipykernel_20900\\3340130049.py#37\u001b\\\u001b[2m37\u001b[0m\u001b]8;;\u001b\\\n"
      ]
     },
     "metadata": {},
     "output_type": "display_data"
    },
    {
     "data": {
      "text/html": [
       "<pre style=\"white-space:pre;overflow-x:auto;line-height:normal;font-family:Menlo,'DejaVu Sans Mono',consolas,'Courier New',monospace\"><span style=\"color: #7fbfbf; text-decoration-color: #7fbfbf\">[22:42:08] </span><span style=\"color: #000080; text-decoration-color: #000080\">INFO    </span> <span style=\"font-weight: bold\">[</span>green<span style=\"font-weight: bold\">]</span>Created:<span style=\"font-weight: bold\">[</span><span style=\"color: #800080; text-decoration-color: #800080\">/</span><span style=\"color: #ff00ff; text-decoration-color: #ff00ff\">green</span><span style=\"font-weight: bold\">]</span> docs\\docs\\evaluation_metrics.md                        <a href=\"file://C:\\Users\\devil\\AppData\\Local\\Temp\\ipykernel_20900\\3340130049.py\" target=\"_blank\"><span style=\"color: #7f7f7f; text-decoration-color: #7f7f7f\">3340130049.py</span></a><span style=\"color: #7f7f7f; text-decoration-color: #7f7f7f\">:</span><a href=\"file://C:\\Users\\devil\\AppData\\Local\\Temp\\ipykernel_20900\\3340130049.py#37\" target=\"_blank\"><span style=\"color: #7f7f7f; text-decoration-color: #7f7f7f\">37</span></a>\n",
       "</pre>\n"
      ],
      "text/plain": [
       "\u001b[2;36m[22:42:08]\u001b[0m\u001b[2;36m \u001b[0m\u001b[34mINFO    \u001b[0m \u001b[1m[\u001b[0mgreen\u001b[1m]\u001b[0mCreated:\u001b[1m[\u001b[0m\u001b[35m/\u001b[0m\u001b[95mgreen\u001b[0m\u001b[1m]\u001b[0m docs\\docs\\evaluation_metrics.md                        \u001b]8;id=433113;file://C:\\Users\\devil\\AppData\\Local\\Temp\\ipykernel_20900\\3340130049.py\u001b\\\u001b[2m3340130049.py\u001b[0m\u001b]8;;\u001b\\\u001b[2m:\u001b[0m\u001b]8;id=2564;file://C:\\Users\\devil\\AppData\\Local\\Temp\\ipykernel_20900\\3340130049.py#37\u001b\\\u001b[2m37\u001b[0m\u001b]8;;\u001b\\\n"
      ]
     },
     "metadata": {},
     "output_type": "display_data"
    },
    {
     "data": {
      "text/html": [
       "<pre style=\"white-space:pre;overflow-x:auto;line-height:normal;font-family:Menlo,'DejaVu Sans Mono',consolas,'Courier New',monospace\"><span style=\"color: #7fbfbf; text-decoration-color: #7fbfbf\">           </span><span style=\"color: #000080; text-decoration-color: #000080\">INFO    </span> <span style=\"font-weight: bold\">[</span>green<span style=\"font-weight: bold\">]</span>Created:<span style=\"font-weight: bold\">[</span><span style=\"color: #800080; text-decoration-color: #800080\">/</span><span style=\"color: #ff00ff; text-decoration-color: #ff00ff\">green</span><span style=\"font-weight: bold\">]</span> docs\\assets\\docs\\assets\\logo.png                       <a href=\"file://C:\\Users\\devil\\AppData\\Local\\Temp\\ipykernel_20900\\3340130049.py\" target=\"_blank\"><span style=\"color: #7f7f7f; text-decoration-color: #7f7f7f\">3340130049.py</span></a><span style=\"color: #7f7f7f; text-decoration-color: #7f7f7f\">:</span><a href=\"file://C:\\Users\\devil\\AppData\\Local\\Temp\\ipykernel_20900\\3340130049.py#37\" target=\"_blank\"><span style=\"color: #7f7f7f; text-decoration-color: #7f7f7f\">37</span></a>\n",
       "</pre>\n"
      ],
      "text/plain": [
       "\u001b[2;36m          \u001b[0m\u001b[2;36m \u001b[0m\u001b[34mINFO    \u001b[0m \u001b[1m[\u001b[0mgreen\u001b[1m]\u001b[0mCreated:\u001b[1m[\u001b[0m\u001b[35m/\u001b[0m\u001b[95mgreen\u001b[0m\u001b[1m]\u001b[0m docs\\assets\\docs\\assets\\logo.png                       \u001b]8;id=532108;file://C:\\Users\\devil\\AppData\\Local\\Temp\\ipykernel_20900\\3340130049.py\u001b\\\u001b[2m3340130049.py\u001b[0m\u001b]8;;\u001b\\\u001b[2m:\u001b[0m\u001b]8;id=134236;file://C:\\Users\\devil\\AppData\\Local\\Temp\\ipykernel_20900\\3340130049.py#37\u001b\\\u001b[2m37\u001b[0m\u001b]8;;\u001b\\\n"
      ]
     },
     "metadata": {},
     "output_type": "display_data"
    },
    {
     "data": {
      "text/html": [
       "<pre style=\"white-space:pre;overflow-x:auto;line-height:normal;font-family:Menlo,'DejaVu Sans Mono',consolas,'Courier New',monospace\"><span style=\"color: #7fbfbf; text-decoration-color: #7fbfbf\">           </span><span style=\"color: #000080; text-decoration-color: #000080\">INFO    </span> <span style=\"font-weight: bold\">[</span>green<span style=\"font-weight: bold\">]</span>Created:<span style=\"font-weight: bold\">[</span><span style=\"color: #800080; text-decoration-color: #800080\">/</span><span style=\"color: #ff00ff; text-decoration-color: #ff00ff\">green</span><span style=\"font-weight: bold\">]</span> docs\\assets\\docs\\assets\\architecture_diagram.png       <a href=\"file://C:\\Users\\devil\\AppData\\Local\\Temp\\ipykernel_20900\\3340130049.py\" target=\"_blank\"><span style=\"color: #7f7f7f; text-decoration-color: #7f7f7f\">3340130049.py</span></a><span style=\"color: #7f7f7f; text-decoration-color: #7f7f7f\">:</span><a href=\"file://C:\\Users\\devil\\AppData\\Local\\Temp\\ipykernel_20900\\3340130049.py#37\" target=\"_blank\"><span style=\"color: #7f7f7f; text-decoration-color: #7f7f7f\">37</span></a>\n",
       "</pre>\n"
      ],
      "text/plain": [
       "\u001b[2;36m          \u001b[0m\u001b[2;36m \u001b[0m\u001b[34mINFO    \u001b[0m \u001b[1m[\u001b[0mgreen\u001b[1m]\u001b[0mCreated:\u001b[1m[\u001b[0m\u001b[35m/\u001b[0m\u001b[95mgreen\u001b[0m\u001b[1m]\u001b[0m docs\\assets\\docs\\assets\\architecture_diagram.png       \u001b]8;id=261592;file://C:\\Users\\devil\\AppData\\Local\\Temp\\ipykernel_20900\\3340130049.py\u001b\\\u001b[2m3340130049.py\u001b[0m\u001b]8;;\u001b\\\u001b[2m:\u001b[0m\u001b]8;id=979406;file://C:\\Users\\devil\\AppData\\Local\\Temp\\ipykernel_20900\\3340130049.py#37\u001b\\\u001b[2m37\u001b[0m\u001b]8;;\u001b\\\n"
      ]
     },
     "metadata": {},
     "output_type": "display_data"
    },
    {
     "data": {
      "text/html": [
       "<pre style=\"white-space:pre;overflow-x:auto;line-height:normal;font-family:Menlo,'DejaVu Sans Mono',consolas,'Courier New',monospace\"><span style=\"color: #7fbfbf; text-decoration-color: #7fbfbf\">           </span><span style=\"color: #000080; text-decoration-color: #000080\">INFO    </span> <span style=\"font-weight: bold\">[</span>green<span style=\"font-weight: bold\">]</span>Created:<span style=\"font-weight: bold\">[</span><span style=\"color: #800080; text-decoration-color: #800080\">/</span><span style=\"color: #ff00ff; text-decoration-color: #ff00ff\">green</span><span style=\"font-weight: bold\">]</span> docs\\assets\\docs\\assets\\data_pipeline.svg              <a href=\"file://C:\\Users\\devil\\AppData\\Local\\Temp\\ipykernel_20900\\3340130049.py\" target=\"_blank\"><span style=\"color: #7f7f7f; text-decoration-color: #7f7f7f\">3340130049.py</span></a><span style=\"color: #7f7f7f; text-decoration-color: #7f7f7f\">:</span><a href=\"file://C:\\Users\\devil\\AppData\\Local\\Temp\\ipykernel_20900\\3340130049.py#37\" target=\"_blank\"><span style=\"color: #7f7f7f; text-decoration-color: #7f7f7f\">37</span></a>\n",
       "</pre>\n"
      ],
      "text/plain": [
       "\u001b[2;36m          \u001b[0m\u001b[2;36m \u001b[0m\u001b[34mINFO    \u001b[0m \u001b[1m[\u001b[0mgreen\u001b[1m]\u001b[0mCreated:\u001b[1m[\u001b[0m\u001b[35m/\u001b[0m\u001b[95mgreen\u001b[0m\u001b[1m]\u001b[0m docs\\assets\\docs\\assets\\data_pipeline.svg              \u001b]8;id=460884;file://C:\\Users\\devil\\AppData\\Local\\Temp\\ipykernel_20900\\3340130049.py\u001b\\\u001b[2m3340130049.py\u001b[0m\u001b]8;;\u001b\\\u001b[2m:\u001b[0m\u001b]8;id=543677;file://C:\\Users\\devil\\AppData\\Local\\Temp\\ipykernel_20900\\3340130049.py#37\u001b\\\u001b[2m37\u001b[0m\u001b]8;;\u001b\\\n"
      ]
     },
     "metadata": {},
     "output_type": "display_data"
    },
    {
     "data": {
      "text/html": [
       "<pre style=\"white-space:pre;overflow-x:auto;line-height:normal;font-family:Menlo,'DejaVu Sans Mono',consolas,'Courier New',monospace\"><span style=\"color: #7fbfbf; text-decoration-color: #7fbfbf\">           </span><span style=\"color: #000080; text-decoration-color: #000080\">INFO    </span> <span style=\"font-weight: bold\">[</span>green<span style=\"font-weight: bold\">]</span>Created:<span style=\"font-weight: bold\">[</span><span style=\"color: #800080; text-decoration-color: #800080\">/</span><span style=\"color: #ff00ff; text-decoration-color: #ff00ff\">green</span><span style=\"font-weight: bold\">]</span> docs\\assets\\docs\\assets\\yolo_sample_output.jpg         <a href=\"file://C:\\Users\\devil\\AppData\\Local\\Temp\\ipykernel_20900\\3340130049.py\" target=\"_blank\"><span style=\"color: #7f7f7f; text-decoration-color: #7f7f7f\">3340130049.py</span></a><span style=\"color: #7f7f7f; text-decoration-color: #7f7f7f\">:</span><a href=\"file://C:\\Users\\devil\\AppData\\Local\\Temp\\ipykernel_20900\\3340130049.py#37\" target=\"_blank\"><span style=\"color: #7f7f7f; text-decoration-color: #7f7f7f\">37</span></a>\n",
       "</pre>\n"
      ],
      "text/plain": [
       "\u001b[2;36m          \u001b[0m\u001b[2;36m \u001b[0m\u001b[34mINFO    \u001b[0m \u001b[1m[\u001b[0mgreen\u001b[1m]\u001b[0mCreated:\u001b[1m[\u001b[0m\u001b[35m/\u001b[0m\u001b[95mgreen\u001b[0m\u001b[1m]\u001b[0m docs\\assets\\docs\\assets\\yolo_sample_output.jpg         \u001b]8;id=200207;file://C:\\Users\\devil\\AppData\\Local\\Temp\\ipykernel_20900\\3340130049.py\u001b\\\u001b[2m3340130049.py\u001b[0m\u001b]8;;\u001b\\\u001b[2m:\u001b[0m\u001b]8;id=156518;file://C:\\Users\\devil\\AppData\\Local\\Temp\\ipykernel_20900\\3340130049.py#37\u001b\\\u001b[2m37\u001b[0m\u001b]8;;\u001b\\\n"
      ]
     },
     "metadata": {},
     "output_type": "display_data"
    },
    {
     "data": {
      "text/html": [
       "<pre style=\"white-space:pre;overflow-x:auto;line-height:normal;font-family:Menlo,'DejaVu Sans Mono',consolas,'Courier New',monospace\"><span style=\"color: #7fbfbf; text-decoration-color: #7fbfbf\">           </span><span style=\"color: #000080; text-decoration-color: #000080\">INFO    </span> <span style=\"font-weight: bold\">[</span>green<span style=\"font-weight: bold\">]</span>Created:<span style=\"font-weight: bold\">[</span><span style=\"color: #800080; text-decoration-color: #800080\">/</span><span style=\"color: #ff00ff; text-decoration-color: #ff00ff\">green</span><span style=\"font-weight: bold\">]</span> src\\data_collection\\src\\data_collection\\__init__.py    <a href=\"file://C:\\Users\\devil\\AppData\\Local\\Temp\\ipykernel_20900\\3340130049.py\" target=\"_blank\"><span style=\"color: #7f7f7f; text-decoration-color: #7f7f7f\">3340130049.py</span></a><span style=\"color: #7f7f7f; text-decoration-color: #7f7f7f\">:</span><a href=\"file://C:\\Users\\devil\\AppData\\Local\\Temp\\ipykernel_20900\\3340130049.py#37\" target=\"_blank\"><span style=\"color: #7f7f7f; text-decoration-color: #7f7f7f\">37</span></a>\n",
       "</pre>\n"
      ],
      "text/plain": [
       "\u001b[2;36m          \u001b[0m\u001b[2;36m \u001b[0m\u001b[34mINFO    \u001b[0m \u001b[1m[\u001b[0mgreen\u001b[1m]\u001b[0mCreated:\u001b[1m[\u001b[0m\u001b[35m/\u001b[0m\u001b[95mgreen\u001b[0m\u001b[1m]\u001b[0m src\\data_collection\\src\\data_collection\\__init__.py    \u001b]8;id=517929;file://C:\\Users\\devil\\AppData\\Local\\Temp\\ipykernel_20900\\3340130049.py\u001b\\\u001b[2m3340130049.py\u001b[0m\u001b]8;;\u001b\\\u001b[2m:\u001b[0m\u001b]8;id=286959;file://C:\\Users\\devil\\AppData\\Local\\Temp\\ipykernel_20900\\3340130049.py#37\u001b\\\u001b[2m37\u001b[0m\u001b]8;;\u001b\\\n"
      ]
     },
     "metadata": {},
     "output_type": "display_data"
    },
    {
     "data": {
      "text/html": [
       "<pre style=\"white-space:pre;overflow-x:auto;line-height:normal;font-family:Menlo,'DejaVu Sans Mono',consolas,'Courier New',monospace\"><span style=\"color: #7fbfbf; text-decoration-color: #7fbfbf\">           </span><span style=\"color: #000080; text-decoration-color: #000080\">INFO    </span> <span style=\"font-weight: bold\">[</span>green<span style=\"font-weight: bold\">]</span>Created:<span style=\"font-weight: bold\">[</span><span style=\"color: #800080; text-decoration-color: #800080\">/</span><span style=\"color: #ff00ff; text-decoration-color: #ff00ff\">green</span><span style=\"font-weight: bold\">]</span>                                                        <a href=\"file://C:\\Users\\devil\\AppData\\Local\\Temp\\ipykernel_20900\\3340130049.py\" target=\"_blank\"><span style=\"color: #7f7f7f; text-decoration-color: #7f7f7f\">3340130049.py</span></a><span style=\"color: #7f7f7f; text-decoration-color: #7f7f7f\">:</span><a href=\"file://C:\\Users\\devil\\AppData\\Local\\Temp\\ipykernel_20900\\3340130049.py#37\" target=\"_blank\"><span style=\"color: #7f7f7f; text-decoration-color: #7f7f7f\">37</span></a>\n",
       "<span style=\"color: #7fbfbf; text-decoration-color: #7fbfbf\">           </span>         src\\data_collection\\src\\data_collection\\video_scraper.py                       <span style=\"color: #7f7f7f; text-decoration-color: #7f7f7f\">                </span>\n",
       "</pre>\n"
      ],
      "text/plain": [
       "\u001b[2;36m          \u001b[0m\u001b[2;36m \u001b[0m\u001b[34mINFO    \u001b[0m \u001b[1m[\u001b[0mgreen\u001b[1m]\u001b[0mCreated:\u001b[1m[\u001b[0m\u001b[35m/\u001b[0m\u001b[95mgreen\u001b[0m\u001b[1m]\u001b[0m                                                        \u001b]8;id=843644;file://C:\\Users\\devil\\AppData\\Local\\Temp\\ipykernel_20900\\3340130049.py\u001b\\\u001b[2m3340130049.py\u001b[0m\u001b]8;;\u001b\\\u001b[2m:\u001b[0m\u001b]8;id=708633;file://C:\\Users\\devil\\AppData\\Local\\Temp\\ipykernel_20900\\3340130049.py#37\u001b\\\u001b[2m37\u001b[0m\u001b]8;;\u001b\\\n",
       "\u001b[2;36m           \u001b[0m         src\\data_collection\\src\\data_collection\\video_scraper.py                       \u001b[2m                \u001b[0m\n"
      ]
     },
     "metadata": {},
     "output_type": "display_data"
    },
    {
     "data": {
      "text/html": [
       "<pre style=\"white-space:pre;overflow-x:auto;line-height:normal;font-family:Menlo,'DejaVu Sans Mono',consolas,'Courier New',monospace\"><span style=\"color: #7fbfbf; text-decoration-color: #7fbfbf\">           </span><span style=\"color: #000080; text-decoration-color: #000080\">INFO    </span> <span style=\"font-weight: bold\">[</span>green<span style=\"font-weight: bold\">]</span>Created:<span style=\"font-weight: bold\">[</span><span style=\"color: #800080; text-decoration-color: #800080\">/</span><span style=\"color: #ff00ff; text-decoration-color: #ff00ff\">green</span><span style=\"font-weight: bold\">]</span>                                                        <a href=\"file://C:\\Users\\devil\\AppData\\Local\\Temp\\ipykernel_20900\\3340130049.py\" target=\"_blank\"><span style=\"color: #7f7f7f; text-decoration-color: #7f7f7f\">3340130049.py</span></a><span style=\"color: #7f7f7f; text-decoration-color: #7f7f7f\">:</span><a href=\"file://C:\\Users\\devil\\AppData\\Local\\Temp\\ipykernel_20900\\3340130049.py#37\" target=\"_blank\"><span style=\"color: #7f7f7f; text-decoration-color: #7f7f7f\">37</span></a>\n",
       "<span style=\"color: #7fbfbf; text-decoration-color: #7fbfbf\">           </span>         src\\data_collection\\src\\data_collection\\frame_sampler.py                       <span style=\"color: #7f7f7f; text-decoration-color: #7f7f7f\">                </span>\n",
       "</pre>\n"
      ],
      "text/plain": [
       "\u001b[2;36m          \u001b[0m\u001b[2;36m \u001b[0m\u001b[34mINFO    \u001b[0m \u001b[1m[\u001b[0mgreen\u001b[1m]\u001b[0mCreated:\u001b[1m[\u001b[0m\u001b[35m/\u001b[0m\u001b[95mgreen\u001b[0m\u001b[1m]\u001b[0m                                                        \u001b]8;id=112249;file://C:\\Users\\devil\\AppData\\Local\\Temp\\ipykernel_20900\\3340130049.py\u001b\\\u001b[2m3340130049.py\u001b[0m\u001b]8;;\u001b\\\u001b[2m:\u001b[0m\u001b]8;id=801828;file://C:\\Users\\devil\\AppData\\Local\\Temp\\ipykernel_20900\\3340130049.py#37\u001b\\\u001b[2m37\u001b[0m\u001b]8;;\u001b\\\n",
       "\u001b[2;36m           \u001b[0m         src\\data_collection\\src\\data_collection\\frame_sampler.py                       \u001b[2m                \u001b[0m\n"
      ]
     },
     "metadata": {},
     "output_type": "display_data"
    },
    {
     "data": {
      "text/html": [
       "<pre style=\"white-space:pre;overflow-x:auto;line-height:normal;font-family:Menlo,'DejaVu Sans Mono',consolas,'Courier New',monospace\"><span style=\"color: #7fbfbf; text-decoration-color: #7fbfbf\">           </span><span style=\"color: #000080; text-decoration-color: #000080\">INFO    </span> <span style=\"font-weight: bold\">[</span>green<span style=\"font-weight: bold\">]</span>Created:<span style=\"font-weight: bold\">[</span><span style=\"color: #800080; text-decoration-color: #800080\">/</span><span style=\"color: #ff00ff; text-decoration-color: #ff00ff\">green</span><span style=\"font-weight: bold\">]</span> src\\data_collection\\src\\data_collection\\tracker.py     <a href=\"file://C:\\Users\\devil\\AppData\\Local\\Temp\\ipykernel_20900\\3340130049.py\" target=\"_blank\"><span style=\"color: #7f7f7f; text-decoration-color: #7f7f7f\">3340130049.py</span></a><span style=\"color: #7f7f7f; text-decoration-color: #7f7f7f\">:</span><a href=\"file://C:\\Users\\devil\\AppData\\Local\\Temp\\ipykernel_20900\\3340130049.py#37\" target=\"_blank\"><span style=\"color: #7f7f7f; text-decoration-color: #7f7f7f\">37</span></a>\n",
       "</pre>\n"
      ],
      "text/plain": [
       "\u001b[2;36m          \u001b[0m\u001b[2;36m \u001b[0m\u001b[34mINFO    \u001b[0m \u001b[1m[\u001b[0mgreen\u001b[1m]\u001b[0mCreated:\u001b[1m[\u001b[0m\u001b[35m/\u001b[0m\u001b[95mgreen\u001b[0m\u001b[1m]\u001b[0m src\\data_collection\\src\\data_collection\\tracker.py     \u001b]8;id=982058;file://C:\\Users\\devil\\AppData\\Local\\Temp\\ipykernel_20900\\3340130049.py\u001b\\\u001b[2m3340130049.py\u001b[0m\u001b]8;;\u001b\\\u001b[2m:\u001b[0m\u001b]8;id=748499;file://C:\\Users\\devil\\AppData\\Local\\Temp\\ipykernel_20900\\3340130049.py#37\u001b\\\u001b[2m37\u001b[0m\u001b]8;;\u001b\\\n"
      ]
     },
     "metadata": {},
     "output_type": "display_data"
    },
    {
     "data": {
      "text/html": [
       "<pre style=\"white-space:pre;overflow-x:auto;line-height:normal;font-family:Menlo,'DejaVu Sans Mono',consolas,'Courier New',monospace\"><span style=\"color: #7fbfbf; text-decoration-color: #7fbfbf\">           </span><span style=\"color: #000080; text-decoration-color: #000080\">INFO    </span> <span style=\"font-weight: bold\">[</span>green<span style=\"font-weight: bold\">]</span>Created:<span style=\"font-weight: bold\">[</span><span style=\"color: #800080; text-decoration-color: #800080\">/</span><span style=\"color: #ff00ff; text-decoration-color: #ff00ff\">green</span><span style=\"font-weight: bold\">]</span>                                                        <a href=\"file://C:\\Users\\devil\\AppData\\Local\\Temp\\ipykernel_20900\\3340130049.py\" target=\"_blank\"><span style=\"color: #7f7f7f; text-decoration-color: #7f7f7f\">3340130049.py</span></a><span style=\"color: #7f7f7f; text-decoration-color: #7f7f7f\">:</span><a href=\"file://C:\\Users\\devil\\AppData\\Local\\Temp\\ipykernel_20900\\3340130049.py#37\" target=\"_blank\"><span style=\"color: #7f7f7f; text-decoration-color: #7f7f7f\">37</span></a>\n",
       "<span style=\"color: #7fbfbf; text-decoration-color: #7fbfbf\">           </span>         src\\data_collection\\src\\data_collection\\stream_capture.py                      <span style=\"color: #7f7f7f; text-decoration-color: #7f7f7f\">                </span>\n",
       "</pre>\n"
      ],
      "text/plain": [
       "\u001b[2;36m          \u001b[0m\u001b[2;36m \u001b[0m\u001b[34mINFO    \u001b[0m \u001b[1m[\u001b[0mgreen\u001b[1m]\u001b[0mCreated:\u001b[1m[\u001b[0m\u001b[35m/\u001b[0m\u001b[95mgreen\u001b[0m\u001b[1m]\u001b[0m                                                        \u001b]8;id=620199;file://C:\\Users\\devil\\AppData\\Local\\Temp\\ipykernel_20900\\3340130049.py\u001b\\\u001b[2m3340130049.py\u001b[0m\u001b]8;;\u001b\\\u001b[2m:\u001b[0m\u001b]8;id=154566;file://C:\\Users\\devil\\AppData\\Local\\Temp\\ipykernel_20900\\3340130049.py#37\u001b\\\u001b[2m37\u001b[0m\u001b]8;;\u001b\\\n",
       "\u001b[2;36m           \u001b[0m         src\\data_collection\\src\\data_collection\\stream_capture.py                      \u001b[2m                \u001b[0m\n"
      ]
     },
     "metadata": {},
     "output_type": "display_data"
    },
    {
     "data": {
      "text/html": [
       "<pre style=\"white-space:pre;overflow-x:auto;line-height:normal;font-family:Menlo,'DejaVu Sans Mono',consolas,'Courier New',monospace\"><span style=\"color: #7fbfbf; text-decoration-color: #7fbfbf\">           </span><span style=\"color: #000080; text-decoration-color: #000080\">INFO    </span> <span style=\"font-weight: bold\">[</span>green<span style=\"font-weight: bold\">]</span>Created:<span style=\"font-weight: bold\">[</span><span style=\"color: #800080; text-decoration-color: #800080\">/</span><span style=\"color: #ff00ff; text-decoration-color: #ff00ff\">green</span><span style=\"font-weight: bold\">]</span> src\\preprocessing\\src\\preprocessing\\__init__.py        <a href=\"file://C:\\Users\\devil\\AppData\\Local\\Temp\\ipykernel_20900\\3340130049.py\" target=\"_blank\"><span style=\"color: #7f7f7f; text-decoration-color: #7f7f7f\">3340130049.py</span></a><span style=\"color: #7f7f7f; text-decoration-color: #7f7f7f\">:</span><a href=\"file://C:\\Users\\devil\\AppData\\Local\\Temp\\ipykernel_20900\\3340130049.py#37\" target=\"_blank\"><span style=\"color: #7f7f7f; text-decoration-color: #7f7f7f\">37</span></a>\n",
       "</pre>\n"
      ],
      "text/plain": [
       "\u001b[2;36m          \u001b[0m\u001b[2;36m \u001b[0m\u001b[34mINFO    \u001b[0m \u001b[1m[\u001b[0mgreen\u001b[1m]\u001b[0mCreated:\u001b[1m[\u001b[0m\u001b[35m/\u001b[0m\u001b[95mgreen\u001b[0m\u001b[1m]\u001b[0m src\\preprocessing\\src\\preprocessing\\__init__.py        \u001b]8;id=783336;file://C:\\Users\\devil\\AppData\\Local\\Temp\\ipykernel_20900\\3340130049.py\u001b\\\u001b[2m3340130049.py\u001b[0m\u001b]8;;\u001b\\\u001b[2m:\u001b[0m\u001b]8;id=548497;file://C:\\Users\\devil\\AppData\\Local\\Temp\\ipykernel_20900\\3340130049.py#37\u001b\\\u001b[2m37\u001b[0m\u001b]8;;\u001b\\\n"
      ]
     },
     "metadata": {},
     "output_type": "display_data"
    },
    {
     "data": {
      "text/html": [
       "<pre style=\"white-space:pre;overflow-x:auto;line-height:normal;font-family:Menlo,'DejaVu Sans Mono',consolas,'Courier New',monospace\"><span style=\"color: #7fbfbf; text-decoration-color: #7fbfbf\">           </span><span style=\"color: #000080; text-decoration-color: #000080\">INFO    </span> <span style=\"font-weight: bold\">[</span>green<span style=\"font-weight: bold\">]</span>Created:<span style=\"font-weight: bold\">[</span><span style=\"color: #800080; text-decoration-color: #800080\">/</span><span style=\"color: #ff00ff; text-decoration-color: #ff00ff\">green</span><span style=\"font-weight: bold\">]</span> src\\preprocessing\\src\\preprocessing\\frame_extractor.py <a href=\"file://C:\\Users\\devil\\AppData\\Local\\Temp\\ipykernel_20900\\3340130049.py\" target=\"_blank\"><span style=\"color: #7f7f7f; text-decoration-color: #7f7f7f\">3340130049.py</span></a><span style=\"color: #7f7f7f; text-decoration-color: #7f7f7f\">:</span><a href=\"file://C:\\Users\\devil\\AppData\\Local\\Temp\\ipykernel_20900\\3340130049.py#37\" target=\"_blank\"><span style=\"color: #7f7f7f; text-decoration-color: #7f7f7f\">37</span></a>\n",
       "</pre>\n"
      ],
      "text/plain": [
       "\u001b[2;36m          \u001b[0m\u001b[2;36m \u001b[0m\u001b[34mINFO    \u001b[0m \u001b[1m[\u001b[0mgreen\u001b[1m]\u001b[0mCreated:\u001b[1m[\u001b[0m\u001b[35m/\u001b[0m\u001b[95mgreen\u001b[0m\u001b[1m]\u001b[0m src\\preprocessing\\src\\preprocessing\\frame_extractor.py \u001b]8;id=324055;file://C:\\Users\\devil\\AppData\\Local\\Temp\\ipykernel_20900\\3340130049.py\u001b\\\u001b[2m3340130049.py\u001b[0m\u001b]8;;\u001b\\\u001b[2m:\u001b[0m\u001b]8;id=313826;file://C:\\Users\\devil\\AppData\\Local\\Temp\\ipykernel_20900\\3340130049.py#37\u001b\\\u001b[2m37\u001b[0m\u001b]8;;\u001b\\\n"
      ]
     },
     "metadata": {},
     "output_type": "display_data"
    },
    {
     "data": {
      "text/html": [
       "<pre style=\"white-space:pre;overflow-x:auto;line-height:normal;font-family:Menlo,'DejaVu Sans Mono',consolas,'Courier New',monospace\"><span style=\"color: #7fbfbf; text-decoration-color: #7fbfbf\">[22:42:09] </span><span style=\"color: #000080; text-decoration-color: #000080\">INFO    </span> <span style=\"font-weight: bold\">[</span>green<span style=\"font-weight: bold\">]</span>Created:<span style=\"font-weight: bold\">[</span><span style=\"color: #800080; text-decoration-color: #800080\">/</span><span style=\"color: #ff00ff; text-decoration-color: #ff00ff\">green</span><span style=\"font-weight: bold\">]</span> src\\preprocessing\\src\\preprocessing\\pose_extractor.py  <a href=\"file://C:\\Users\\devil\\AppData\\Local\\Temp\\ipykernel_20900\\3340130049.py\" target=\"_blank\"><span style=\"color: #7f7f7f; text-decoration-color: #7f7f7f\">3340130049.py</span></a><span style=\"color: #7f7f7f; text-decoration-color: #7f7f7f\">:</span><a href=\"file://C:\\Users\\devil\\AppData\\Local\\Temp\\ipykernel_20900\\3340130049.py#37\" target=\"_blank\"><span style=\"color: #7f7f7f; text-decoration-color: #7f7f7f\">37</span></a>\n",
       "</pre>\n"
      ],
      "text/plain": [
       "\u001b[2;36m[22:42:09]\u001b[0m\u001b[2;36m \u001b[0m\u001b[34mINFO    \u001b[0m \u001b[1m[\u001b[0mgreen\u001b[1m]\u001b[0mCreated:\u001b[1m[\u001b[0m\u001b[35m/\u001b[0m\u001b[95mgreen\u001b[0m\u001b[1m]\u001b[0m src\\preprocessing\\src\\preprocessing\\pose_extractor.py  \u001b]8;id=685597;file://C:\\Users\\devil\\AppData\\Local\\Temp\\ipykernel_20900\\3340130049.py\u001b\\\u001b[2m3340130049.py\u001b[0m\u001b]8;;\u001b\\\u001b[2m:\u001b[0m\u001b]8;id=603268;file://C:\\Users\\devil\\AppData\\Local\\Temp\\ipykernel_20900\\3340130049.py#37\u001b\\\u001b[2m37\u001b[0m\u001b]8;;\u001b\\\n"
      ]
     },
     "metadata": {},
     "output_type": "display_data"
    },
    {
     "data": {
      "text/html": [
       "<pre style=\"white-space:pre;overflow-x:auto;line-height:normal;font-family:Menlo,'DejaVu Sans Mono',consolas,'Courier New',monospace\"><span style=\"color: #7fbfbf; text-decoration-color: #7fbfbf\">           </span><span style=\"color: #000080; text-decoration-color: #000080\">INFO    </span> <span style=\"font-weight: bold\">[</span>green<span style=\"font-weight: bold\">]</span>Created:<span style=\"font-weight: bold\">[</span><span style=\"color: #800080; text-decoration-color: #800080\">/</span><span style=\"color: #ff00ff; text-decoration-color: #ff00ff\">green</span><span style=\"font-weight: bold\">]</span>                                                        <a href=\"file://C:\\Users\\devil\\AppData\\Local\\Temp\\ipykernel_20900\\3340130049.py\" target=\"_blank\"><span style=\"color: #7f7f7f; text-decoration-color: #7f7f7f\">3340130049.py</span></a><span style=\"color: #7f7f7f; text-decoration-color: #7f7f7f\">:</span><a href=\"file://C:\\Users\\devil\\AppData\\Local\\Temp\\ipykernel_20900\\3340130049.py#37\" target=\"_blank\"><span style=\"color: #7f7f7f; text-decoration-color: #7f7f7f\">37</span></a>\n",
       "<span style=\"color: #7fbfbf; text-decoration-color: #7fbfbf\">           </span>         src\\preprocessing\\src\\preprocessing\\segmentation_sam.py                        <span style=\"color: #7f7f7f; text-decoration-color: #7f7f7f\">                </span>\n",
       "</pre>\n"
      ],
      "text/plain": [
       "\u001b[2;36m          \u001b[0m\u001b[2;36m \u001b[0m\u001b[34mINFO    \u001b[0m \u001b[1m[\u001b[0mgreen\u001b[1m]\u001b[0mCreated:\u001b[1m[\u001b[0m\u001b[35m/\u001b[0m\u001b[95mgreen\u001b[0m\u001b[1m]\u001b[0m                                                        \u001b]8;id=540009;file://C:\\Users\\devil\\AppData\\Local\\Temp\\ipykernel_20900\\3340130049.py\u001b\\\u001b[2m3340130049.py\u001b[0m\u001b]8;;\u001b\\\u001b[2m:\u001b[0m\u001b]8;id=929991;file://C:\\Users\\devil\\AppData\\Local\\Temp\\ipykernel_20900\\3340130049.py#37\u001b\\\u001b[2m37\u001b[0m\u001b]8;;\u001b\\\n",
       "\u001b[2;36m           \u001b[0m         src\\preprocessing\\src\\preprocessing\\segmentation_sam.py                        \u001b[2m                \u001b[0m\n"
      ]
     },
     "metadata": {},
     "output_type": "display_data"
    },
    {
     "data": {
      "text/html": [
       "<pre style=\"white-space:pre;overflow-x:auto;line-height:normal;font-family:Menlo,'DejaVu Sans Mono',consolas,'Courier New',monospace\"><span style=\"color: #7fbfbf; text-decoration-color: #7fbfbf\">           </span><span style=\"color: #000080; text-decoration-color: #000080\">INFO    </span> <span style=\"font-weight: bold\">[</span>green<span style=\"font-weight: bold\">]</span>Created:<span style=\"font-weight: bold\">[</span><span style=\"color: #800080; text-decoration-color: #800080\">/</span><span style=\"color: #ff00ff; text-decoration-color: #ff00ff\">green</span><span style=\"font-weight: bold\">]</span> src\\preprocessing\\src\\preprocessing\\augmentation.py    <a href=\"file://C:\\Users\\devil\\AppData\\Local\\Temp\\ipykernel_20900\\3340130049.py\" target=\"_blank\"><span style=\"color: #7f7f7f; text-decoration-color: #7f7f7f\">3340130049.py</span></a><span style=\"color: #7f7f7f; text-decoration-color: #7f7f7f\">:</span><a href=\"file://C:\\Users\\devil\\AppData\\Local\\Temp\\ipykernel_20900\\3340130049.py#37\" target=\"_blank\"><span style=\"color: #7f7f7f; text-decoration-color: #7f7f7f\">37</span></a>\n",
       "</pre>\n"
      ],
      "text/plain": [
       "\u001b[2;36m          \u001b[0m\u001b[2;36m \u001b[0m\u001b[34mINFO    \u001b[0m \u001b[1m[\u001b[0mgreen\u001b[1m]\u001b[0mCreated:\u001b[1m[\u001b[0m\u001b[35m/\u001b[0m\u001b[95mgreen\u001b[0m\u001b[1m]\u001b[0m src\\preprocessing\\src\\preprocessing\\augmentation.py    \u001b]8;id=718272;file://C:\\Users\\devil\\AppData\\Local\\Temp\\ipykernel_20900\\3340130049.py\u001b\\\u001b[2m3340130049.py\u001b[0m\u001b]8;;\u001b\\\u001b[2m:\u001b[0m\u001b]8;id=256145;file://C:\\Users\\devil\\AppData\\Local\\Temp\\ipykernel_20900\\3340130049.py#37\u001b\\\u001b[2m37\u001b[0m\u001b]8;;\u001b\\\n"
      ]
     },
     "metadata": {},
     "output_type": "display_data"
    },
    {
     "data": {
      "text/html": [
       "<pre style=\"white-space:pre;overflow-x:auto;line-height:normal;font-family:Menlo,'DejaVu Sans Mono',consolas,'Courier New',monospace\"><span style=\"color: #7fbfbf; text-decoration-color: #7fbfbf\">           </span><span style=\"color: #000080; text-decoration-color: #000080\">INFO    </span> <span style=\"font-weight: bold\">[</span>green<span style=\"font-weight: bold\">]</span>Created:<span style=\"font-weight: bold\">[</span><span style=\"color: #800080; text-decoration-color: #800080\">/</span><span style=\"color: #ff00ff; text-decoration-color: #ff00ff\">green</span><span style=\"font-weight: bold\">]</span> src\\preprocessing\\src\\preprocessing\\data_filtering.py  <a href=\"file://C:\\Users\\devil\\AppData\\Local\\Temp\\ipykernel_20900\\3340130049.py\" target=\"_blank\"><span style=\"color: #7f7f7f; text-decoration-color: #7f7f7f\">3340130049.py</span></a><span style=\"color: #7f7f7f; text-decoration-color: #7f7f7f\">:</span><a href=\"file://C:\\Users\\devil\\AppData\\Local\\Temp\\ipykernel_20900\\3340130049.py#37\" target=\"_blank\"><span style=\"color: #7f7f7f; text-decoration-color: #7f7f7f\">37</span></a>\n",
       "</pre>\n"
      ],
      "text/plain": [
       "\u001b[2;36m          \u001b[0m\u001b[2;36m \u001b[0m\u001b[34mINFO    \u001b[0m \u001b[1m[\u001b[0mgreen\u001b[1m]\u001b[0mCreated:\u001b[1m[\u001b[0m\u001b[35m/\u001b[0m\u001b[95mgreen\u001b[0m\u001b[1m]\u001b[0m src\\preprocessing\\src\\preprocessing\\data_filtering.py  \u001b]8;id=146361;file://C:\\Users\\devil\\AppData\\Local\\Temp\\ipykernel_20900\\3340130049.py\u001b\\\u001b[2m3340130049.py\u001b[0m\u001b]8;;\u001b\\\u001b[2m:\u001b[0m\u001b]8;id=952806;file://C:\\Users\\devil\\AppData\\Local\\Temp\\ipykernel_20900\\3340130049.py#37\u001b\\\u001b[2m37\u001b[0m\u001b]8;;\u001b\\\n"
      ]
     },
     "metadata": {},
     "output_type": "display_data"
    },
    {
     "data": {
      "text/html": [
       "<pre style=\"white-space:pre;overflow-x:auto;line-height:normal;font-family:Menlo,'DejaVu Sans Mono',consolas,'Courier New',monospace\"><span style=\"color: #7fbfbf; text-decoration-color: #7fbfbf\">           </span><span style=\"color: #000080; text-decoration-color: #000080\">INFO    </span> <span style=\"font-weight: bold\">[</span>green<span style=\"font-weight: bold\">]</span>Created:<span style=\"font-weight: bold\">[</span><span style=\"color: #800080; text-decoration-color: #800080\">/</span><span style=\"color: #ff00ff; text-decoration-color: #ff00ff\">green</span><span style=\"font-weight: bold\">]</span> src\\vision\\src\\vision\\__init__.py                      <a href=\"file://C:\\Users\\devil\\AppData\\Local\\Temp\\ipykernel_20900\\3340130049.py\" target=\"_blank\"><span style=\"color: #7f7f7f; text-decoration-color: #7f7f7f\">3340130049.py</span></a><span style=\"color: #7f7f7f; text-decoration-color: #7f7f7f\">:</span><a href=\"file://C:\\Users\\devil\\AppData\\Local\\Temp\\ipykernel_20900\\3340130049.py#37\" target=\"_blank\"><span style=\"color: #7f7f7f; text-decoration-color: #7f7f7f\">37</span></a>\n",
       "</pre>\n"
      ],
      "text/plain": [
       "\u001b[2;36m          \u001b[0m\u001b[2;36m \u001b[0m\u001b[34mINFO    \u001b[0m \u001b[1m[\u001b[0mgreen\u001b[1m]\u001b[0mCreated:\u001b[1m[\u001b[0m\u001b[35m/\u001b[0m\u001b[95mgreen\u001b[0m\u001b[1m]\u001b[0m src\\vision\\src\\vision\\__init__.py                      \u001b]8;id=97915;file://C:\\Users\\devil\\AppData\\Local\\Temp\\ipykernel_20900\\3340130049.py\u001b\\\u001b[2m3340130049.py\u001b[0m\u001b]8;;\u001b\\\u001b[2m:\u001b[0m\u001b]8;id=956994;file://C:\\Users\\devil\\AppData\\Local\\Temp\\ipykernel_20900\\3340130049.py#37\u001b\\\u001b[2m37\u001b[0m\u001b]8;;\u001b\\\n"
      ]
     },
     "metadata": {},
     "output_type": "display_data"
    },
    {
     "data": {
      "text/html": [
       "<pre style=\"white-space:pre;overflow-x:auto;line-height:normal;font-family:Menlo,'DejaVu Sans Mono',consolas,'Courier New',monospace\"><span style=\"color: #7fbfbf; text-decoration-color: #7fbfbf\">           </span><span style=\"color: #000080; text-decoration-color: #000080\">INFO    </span> <span style=\"font-weight: bold\">[</span>green<span style=\"font-weight: bold\">]</span>Created:<span style=\"font-weight: bold\">[</span><span style=\"color: #800080; text-decoration-color: #800080\">/</span><span style=\"color: #ff00ff; text-decoration-color: #ff00ff\">green</span><span style=\"font-weight: bold\">]</span> src\\vision\\src\\vision\\yolo_test.py                     <a href=\"file://C:\\Users\\devil\\AppData\\Local\\Temp\\ipykernel_20900\\3340130049.py\" target=\"_blank\"><span style=\"color: #7f7f7f; text-decoration-color: #7f7f7f\">3340130049.py</span></a><span style=\"color: #7f7f7f; text-decoration-color: #7f7f7f\">:</span><a href=\"file://C:\\Users\\devil\\AppData\\Local\\Temp\\ipykernel_20900\\3340130049.py#37\" target=\"_blank\"><span style=\"color: #7f7f7f; text-decoration-color: #7f7f7f\">37</span></a>\n",
       "</pre>\n"
      ],
      "text/plain": [
       "\u001b[2;36m          \u001b[0m\u001b[2;36m \u001b[0m\u001b[34mINFO    \u001b[0m \u001b[1m[\u001b[0mgreen\u001b[1m]\u001b[0mCreated:\u001b[1m[\u001b[0m\u001b[35m/\u001b[0m\u001b[95mgreen\u001b[0m\u001b[1m]\u001b[0m src\\vision\\src\\vision\\yolo_test.py                     \u001b]8;id=660229;file://C:\\Users\\devil\\AppData\\Local\\Temp\\ipykernel_20900\\3340130049.py\u001b\\\u001b[2m3340130049.py\u001b[0m\u001b]8;;\u001b\\\u001b[2m:\u001b[0m\u001b]8;id=456397;file://C:\\Users\\devil\\AppData\\Local\\Temp\\ipykernel_20900\\3340130049.py#37\u001b\\\u001b[2m37\u001b[0m\u001b]8;;\u001b\\\n"
      ]
     },
     "metadata": {},
     "output_type": "display_data"
    },
    {
     "data": {
      "text/html": [
       "<pre style=\"white-space:pre;overflow-x:auto;line-height:normal;font-family:Menlo,'DejaVu Sans Mono',consolas,'Courier New',monospace\"><span style=\"color: #7fbfbf; text-decoration-color: #7fbfbf\">           </span><span style=\"color: #000080; text-decoration-color: #000080\">INFO    </span> <span style=\"font-weight: bold\">[</span>green<span style=\"font-weight: bold\">]</span>Created:<span style=\"font-weight: bold\">[</span><span style=\"color: #800080; text-decoration-color: #800080\">/</span><span style=\"color: #ff00ff; text-decoration-color: #ff00ff\">green</span><span style=\"font-weight: bold\">]</span> src\\vision\\src\\vision\\run_grounding_dino.py            <a href=\"file://C:\\Users\\devil\\AppData\\Local\\Temp\\ipykernel_20900\\3340130049.py\" target=\"_blank\"><span style=\"color: #7f7f7f; text-decoration-color: #7f7f7f\">3340130049.py</span></a><span style=\"color: #7f7f7f; text-decoration-color: #7f7f7f\">:</span><a href=\"file://C:\\Users\\devil\\AppData\\Local\\Temp\\ipykernel_20900\\3340130049.py#37\" target=\"_blank\"><span style=\"color: #7f7f7f; text-decoration-color: #7f7f7f\">37</span></a>\n",
       "</pre>\n"
      ],
      "text/plain": [
       "\u001b[2;36m          \u001b[0m\u001b[2;36m \u001b[0m\u001b[34mINFO    \u001b[0m \u001b[1m[\u001b[0mgreen\u001b[1m]\u001b[0mCreated:\u001b[1m[\u001b[0m\u001b[35m/\u001b[0m\u001b[95mgreen\u001b[0m\u001b[1m]\u001b[0m src\\vision\\src\\vision\\run_grounding_dino.py            \u001b]8;id=531192;file://C:\\Users\\devil\\AppData\\Local\\Temp\\ipykernel_20900\\3340130049.py\u001b\\\u001b[2m3340130049.py\u001b[0m\u001b]8;;\u001b\\\u001b[2m:\u001b[0m\u001b]8;id=116240;file://C:\\Users\\devil\\AppData\\Local\\Temp\\ipykernel_20900\\3340130049.py#37\u001b\\\u001b[2m37\u001b[0m\u001b]8;;\u001b\\\n"
      ]
     },
     "metadata": {},
     "output_type": "display_data"
    },
    {
     "data": {
      "text/html": [
       "<pre style=\"white-space:pre;overflow-x:auto;line-height:normal;font-family:Menlo,'DejaVu Sans Mono',consolas,'Courier New',monospace\"><span style=\"color: #7fbfbf; text-decoration-color: #7fbfbf\">           </span><span style=\"color: #000080; text-decoration-color: #000080\">INFO    </span> <span style=\"font-weight: bold\">[</span>green<span style=\"font-weight: bold\">]</span>Created:<span style=\"font-weight: bold\">[</span><span style=\"color: #800080; text-decoration-color: #800080\">/</span><span style=\"color: #ff00ff; text-decoration-color: #ff00ff\">green</span><span style=\"font-weight: bold\">]</span> src\\vision\\src\\vision\\run_detr.py                      <a href=\"file://C:\\Users\\devil\\AppData\\Local\\Temp\\ipykernel_20900\\3340130049.py\" target=\"_blank\"><span style=\"color: #7f7f7f; text-decoration-color: #7f7f7f\">3340130049.py</span></a><span style=\"color: #7f7f7f; text-decoration-color: #7f7f7f\">:</span><a href=\"file://C:\\Users\\devil\\AppData\\Local\\Temp\\ipykernel_20900\\3340130049.py#37\" target=\"_blank\"><span style=\"color: #7f7f7f; text-decoration-color: #7f7f7f\">37</span></a>\n",
       "</pre>\n"
      ],
      "text/plain": [
       "\u001b[2;36m          \u001b[0m\u001b[2;36m \u001b[0m\u001b[34mINFO    \u001b[0m \u001b[1m[\u001b[0mgreen\u001b[1m]\u001b[0mCreated:\u001b[1m[\u001b[0m\u001b[35m/\u001b[0m\u001b[95mgreen\u001b[0m\u001b[1m]\u001b[0m src\\vision\\src\\vision\\run_detr.py                      \u001b]8;id=15153;file://C:\\Users\\devil\\AppData\\Local\\Temp\\ipykernel_20900\\3340130049.py\u001b\\\u001b[2m3340130049.py\u001b[0m\u001b]8;;\u001b\\\u001b[2m:\u001b[0m\u001b]8;id=355005;file://C:\\Users\\devil\\AppData\\Local\\Temp\\ipykernel_20900\\3340130049.py#37\u001b\\\u001b[2m37\u001b[0m\u001b]8;;\u001b\\\n"
      ]
     },
     "metadata": {},
     "output_type": "display_data"
    },
    {
     "data": {
      "text/html": [
       "<pre style=\"white-space:pre;overflow-x:auto;line-height:normal;font-family:Menlo,'DejaVu Sans Mono',consolas,'Courier New',monospace\"><span style=\"color: #7fbfbf; text-decoration-color: #7fbfbf\">           </span><span style=\"color: #000080; text-decoration-color: #000080\">INFO    </span> <span style=\"font-weight: bold\">[</span>green<span style=\"font-weight: bold\">]</span>Created:<span style=\"font-weight: bold\">[</span><span style=\"color: #800080; text-decoration-color: #800080\">/</span><span style=\"color: #ff00ff; text-decoration-color: #ff00ff\">green</span><span style=\"font-weight: bold\">]</span> src\\vision\\src\\vision\\run_videomae.py                  <a href=\"file://C:\\Users\\devil\\AppData\\Local\\Temp\\ipykernel_20900\\3340130049.py\" target=\"_blank\"><span style=\"color: #7f7f7f; text-decoration-color: #7f7f7f\">3340130049.py</span></a><span style=\"color: #7f7f7f; text-decoration-color: #7f7f7f\">:</span><a href=\"file://C:\\Users\\devil\\AppData\\Local\\Temp\\ipykernel_20900\\3340130049.py#37\" target=\"_blank\"><span style=\"color: #7f7f7f; text-decoration-color: #7f7f7f\">37</span></a>\n",
       "</pre>\n"
      ],
      "text/plain": [
       "\u001b[2;36m          \u001b[0m\u001b[2;36m \u001b[0m\u001b[34mINFO    \u001b[0m \u001b[1m[\u001b[0mgreen\u001b[1m]\u001b[0mCreated:\u001b[1m[\u001b[0m\u001b[35m/\u001b[0m\u001b[95mgreen\u001b[0m\u001b[1m]\u001b[0m src\\vision\\src\\vision\\run_videomae.py                  \u001b]8;id=991058;file://C:\\Users\\devil\\AppData\\Local\\Temp\\ipykernel_20900\\3340130049.py\u001b\\\u001b[2m3340130049.py\u001b[0m\u001b]8;;\u001b\\\u001b[2m:\u001b[0m\u001b]8;id=398229;file://C:\\Users\\devil\\AppData\\Local\\Temp\\ipykernel_20900\\3340130049.py#37\u001b\\\u001b[2m37\u001b[0m\u001b]8;;\u001b\\\n"
      ]
     },
     "metadata": {},
     "output_type": "display_data"
    },
    {
     "data": {
      "text/html": [
       "<pre style=\"white-space:pre;overflow-x:auto;line-height:normal;font-family:Menlo,'DejaVu Sans Mono',consolas,'Courier New',monospace\"><span style=\"color: #7fbfbf; text-decoration-color: #7fbfbf\">           </span><span style=\"color: #000080; text-decoration-color: #000080\">INFO    </span> <span style=\"font-weight: bold\">[</span>green<span style=\"font-weight: bold\">]</span>Created:<span style=\"font-weight: bold\">[</span><span style=\"color: #800080; text-decoration-color: #800080\">/</span><span style=\"color: #ff00ff; text-decoration-color: #ff00ff\">green</span><span style=\"font-weight: bold\">]</span> src\\vision\\tracker\\src\\vision\\tracker\\bytetrack.py     <a href=\"file://C:\\Users\\devil\\AppData\\Local\\Temp\\ipykernel_20900\\3340130049.py\" target=\"_blank\"><span style=\"color: #7f7f7f; text-decoration-color: #7f7f7f\">3340130049.py</span></a><span style=\"color: #7f7f7f; text-decoration-color: #7f7f7f\">:</span><a href=\"file://C:\\Users\\devil\\AppData\\Local\\Temp\\ipykernel_20900\\3340130049.py#37\" target=\"_blank\"><span style=\"color: #7f7f7f; text-decoration-color: #7f7f7f\">37</span></a>\n",
       "</pre>\n"
      ],
      "text/plain": [
       "\u001b[2;36m          \u001b[0m\u001b[2;36m \u001b[0m\u001b[34mINFO    \u001b[0m \u001b[1m[\u001b[0mgreen\u001b[1m]\u001b[0mCreated:\u001b[1m[\u001b[0m\u001b[35m/\u001b[0m\u001b[95mgreen\u001b[0m\u001b[1m]\u001b[0m src\\vision\\tracker\\src\\vision\\tracker\\bytetrack.py     \u001b]8;id=936859;file://C:\\Users\\devil\\AppData\\Local\\Temp\\ipykernel_20900\\3340130049.py\u001b\\\u001b[2m3340130049.py\u001b[0m\u001b]8;;\u001b\\\u001b[2m:\u001b[0m\u001b]8;id=564810;file://C:\\Users\\devil\\AppData\\Local\\Temp\\ipykernel_20900\\3340130049.py#37\u001b\\\u001b[2m37\u001b[0m\u001b]8;;\u001b\\\n"
      ]
     },
     "metadata": {},
     "output_type": "display_data"
    },
    {
     "data": {
      "text/html": [
       "<pre style=\"white-space:pre;overflow-x:auto;line-height:normal;font-family:Menlo,'DejaVu Sans Mono',consolas,'Courier New',monospace\"><span style=\"color: #7fbfbf; text-decoration-color: #7fbfbf\">           </span><span style=\"color: #000080; text-decoration-color: #000080\">INFO    </span> <span style=\"font-weight: bold\">[</span>green<span style=\"font-weight: bold\">]</span>Created:<span style=\"font-weight: bold\">[</span><span style=\"color: #800080; text-decoration-color: #800080\">/</span><span style=\"color: #ff00ff; text-decoration-color: #ff00ff\">green</span><span style=\"font-weight: bold\">]</span> src\\llm\\src\\llm\\__init__.py                            <a href=\"file://C:\\Users\\devil\\AppData\\Local\\Temp\\ipykernel_20900\\3340130049.py\" target=\"_blank\"><span style=\"color: #7f7f7f; text-decoration-color: #7f7f7f\">3340130049.py</span></a><span style=\"color: #7f7f7f; text-decoration-color: #7f7f7f\">:</span><a href=\"file://C:\\Users\\devil\\AppData\\Local\\Temp\\ipykernel_20900\\3340130049.py#37\" target=\"_blank\"><span style=\"color: #7f7f7f; text-decoration-color: #7f7f7f\">37</span></a>\n",
       "</pre>\n"
      ],
      "text/plain": [
       "\u001b[2;36m          \u001b[0m\u001b[2;36m \u001b[0m\u001b[34mINFO    \u001b[0m \u001b[1m[\u001b[0mgreen\u001b[1m]\u001b[0mCreated:\u001b[1m[\u001b[0m\u001b[35m/\u001b[0m\u001b[95mgreen\u001b[0m\u001b[1m]\u001b[0m src\\llm\\src\\llm\\__init__.py                            \u001b]8;id=372043;file://C:\\Users\\devil\\AppData\\Local\\Temp\\ipykernel_20900\\3340130049.py\u001b\\\u001b[2m3340130049.py\u001b[0m\u001b]8;;\u001b\\\u001b[2m:\u001b[0m\u001b]8;id=430172;file://C:\\Users\\devil\\AppData\\Local\\Temp\\ipykernel_20900\\3340130049.py#37\u001b\\\u001b[2m37\u001b[0m\u001b]8;;\u001b\\\n"
      ]
     },
     "metadata": {},
     "output_type": "display_data"
    },
    {
     "data": {
      "text/html": [
       "<pre style=\"white-space:pre;overflow-x:auto;line-height:normal;font-family:Menlo,'DejaVu Sans Mono',consolas,'Courier New',monospace\"><span style=\"color: #7fbfbf; text-decoration-color: #7fbfbf\">           </span><span style=\"color: #000080; text-decoration-color: #000080\">INFO    </span> <span style=\"font-weight: bold\">[</span>green<span style=\"font-weight: bold\">]</span>Created:<span style=\"font-weight: bold\">[</span><span style=\"color: #800080; text-decoration-color: #800080\">/</span><span style=\"color: #ff00ff; text-decoration-color: #ff00ff\">green</span><span style=\"font-weight: bold\">]</span> src\\llm\\src\\llm\\generate_feedback.py                   <a href=\"file://C:\\Users\\devil\\AppData\\Local\\Temp\\ipykernel_20900\\3340130049.py\" target=\"_blank\"><span style=\"color: #7f7f7f; text-decoration-color: #7f7f7f\">3340130049.py</span></a><span style=\"color: #7f7f7f; text-decoration-color: #7f7f7f\">:</span><a href=\"file://C:\\Users\\devil\\AppData\\Local\\Temp\\ipykernel_20900\\3340130049.py#37\" target=\"_blank\"><span style=\"color: #7f7f7f; text-decoration-color: #7f7f7f\">37</span></a>\n",
       "</pre>\n"
      ],
      "text/plain": [
       "\u001b[2;36m          \u001b[0m\u001b[2;36m \u001b[0m\u001b[34mINFO    \u001b[0m \u001b[1m[\u001b[0mgreen\u001b[1m]\u001b[0mCreated:\u001b[1m[\u001b[0m\u001b[35m/\u001b[0m\u001b[95mgreen\u001b[0m\u001b[1m]\u001b[0m src\\llm\\src\\llm\\generate_feedback.py                   \u001b]8;id=192459;file://C:\\Users\\devil\\AppData\\Local\\Temp\\ipykernel_20900\\3340130049.py\u001b\\\u001b[2m3340130049.py\u001b[0m\u001b]8;;\u001b\\\u001b[2m:\u001b[0m\u001b]8;id=347940;file://C:\\Users\\devil\\AppData\\Local\\Temp\\ipykernel_20900\\3340130049.py#37\u001b\\\u001b[2m37\u001b[0m\u001b]8;;\u001b\\\n"
      ]
     },
     "metadata": {},
     "output_type": "display_data"
    },
    {
     "data": {
      "text/html": [
       "<pre style=\"white-space:pre;overflow-x:auto;line-height:normal;font-family:Menlo,'DejaVu Sans Mono',consolas,'Courier New',monospace\"><span style=\"color: #7fbfbf; text-decoration-color: #7fbfbf\">           </span><span style=\"color: #000080; text-decoration-color: #000080\">INFO    </span> <span style=\"font-weight: bold\">[</span>green<span style=\"font-weight: bold\">]</span>Created:<span style=\"font-weight: bold\">[</span><span style=\"color: #800080; text-decoration-color: #800080\">/</span><span style=\"color: #ff00ff; text-decoration-color: #ff00ff\">green</span><span style=\"font-weight: bold\">]</span> src\\llm\\src\\llm\\prompt_templates.py                    <a href=\"file://C:\\Users\\devil\\AppData\\Local\\Temp\\ipykernel_20900\\3340130049.py\" target=\"_blank\"><span style=\"color: #7f7f7f; text-decoration-color: #7f7f7f\">3340130049.py</span></a><span style=\"color: #7f7f7f; text-decoration-color: #7f7f7f\">:</span><a href=\"file://C:\\Users\\devil\\AppData\\Local\\Temp\\ipykernel_20900\\3340130049.py#37\" target=\"_blank\"><span style=\"color: #7f7f7f; text-decoration-color: #7f7f7f\">37</span></a>\n",
       "</pre>\n"
      ],
      "text/plain": [
       "\u001b[2;36m          \u001b[0m\u001b[2;36m \u001b[0m\u001b[34mINFO    \u001b[0m \u001b[1m[\u001b[0mgreen\u001b[1m]\u001b[0mCreated:\u001b[1m[\u001b[0m\u001b[35m/\u001b[0m\u001b[95mgreen\u001b[0m\u001b[1m]\u001b[0m src\\llm\\src\\llm\\prompt_templates.py                    \u001b]8;id=106474;file://C:\\Users\\devil\\AppData\\Local\\Temp\\ipykernel_20900\\3340130049.py\u001b\\\u001b[2m3340130049.py\u001b[0m\u001b]8;;\u001b\\\u001b[2m:\u001b[0m\u001b]8;id=844880;file://C:\\Users\\devil\\AppData\\Local\\Temp\\ipykernel_20900\\3340130049.py#37\u001b\\\u001b[2m37\u001b[0m\u001b]8;;\u001b\\\n"
      ]
     },
     "metadata": {},
     "output_type": "display_data"
    },
    {
     "data": {
      "text/html": [
       "<pre style=\"white-space:pre;overflow-x:auto;line-height:normal;font-family:Menlo,'DejaVu Sans Mono',consolas,'Courier New',monospace\"><span style=\"color: #7fbfbf; text-decoration-color: #7fbfbf\">           </span><span style=\"color: #000080; text-decoration-color: #000080\">INFO    </span> <span style=\"font-weight: bold\">[</span>green<span style=\"font-weight: bold\">]</span>Created:<span style=\"font-weight: bold\">[</span><span style=\"color: #800080; text-decoration-color: #800080\">/</span><span style=\"color: #ff00ff; text-decoration-color: #ff00ff\">green</span><span style=\"font-weight: bold\">]</span> src\\llm\\src\\llm\\clip_integration.py                    <a href=\"file://C:\\Users\\devil\\AppData\\Local\\Temp\\ipykernel_20900\\3340130049.py\" target=\"_blank\"><span style=\"color: #7f7f7f; text-decoration-color: #7f7f7f\">3340130049.py</span></a><span style=\"color: #7f7f7f; text-decoration-color: #7f7f7f\">:</span><a href=\"file://C:\\Users\\devil\\AppData\\Local\\Temp\\ipykernel_20900\\3340130049.py#37\" target=\"_blank\"><span style=\"color: #7f7f7f; text-decoration-color: #7f7f7f\">37</span></a>\n",
       "</pre>\n"
      ],
      "text/plain": [
       "\u001b[2;36m          \u001b[0m\u001b[2;36m \u001b[0m\u001b[34mINFO    \u001b[0m \u001b[1m[\u001b[0mgreen\u001b[1m]\u001b[0mCreated:\u001b[1m[\u001b[0m\u001b[35m/\u001b[0m\u001b[95mgreen\u001b[0m\u001b[1m]\u001b[0m src\\llm\\src\\llm\\clip_integration.py                    \u001b]8;id=335446;file://C:\\Users\\devil\\AppData\\Local\\Temp\\ipykernel_20900\\3340130049.py\u001b\\\u001b[2m3340130049.py\u001b[0m\u001b]8;;\u001b\\\u001b[2m:\u001b[0m\u001b]8;id=812466;file://C:\\Users\\devil\\AppData\\Local\\Temp\\ipykernel_20900\\3340130049.py#37\u001b\\\u001b[2m37\u001b[0m\u001b]8;;\u001b\\\n"
      ]
     },
     "metadata": {},
     "output_type": "display_data"
    },
    {
     "data": {
      "text/html": [
       "<pre style=\"white-space:pre;overflow-x:auto;line-height:normal;font-family:Menlo,'DejaVu Sans Mono',consolas,'Courier New',monospace\"><span style=\"color: #7fbfbf; text-decoration-color: #7fbfbf\">           </span><span style=\"color: #000080; text-decoration-color: #000080\">INFO    </span> <span style=\"font-weight: bold\">[</span>green<span style=\"font-weight: bold\">]</span>Created:<span style=\"font-weight: bold\">[</span><span style=\"color: #800080; text-decoration-color: #800080\">/</span><span style=\"color: #ff00ff; text-decoration-color: #ff00ff\">green</span><span style=\"font-weight: bold\">]</span> src\\llm\\src\\llm\\video_llava_connector.py               <a href=\"file://C:\\Users\\devil\\AppData\\Local\\Temp\\ipykernel_20900\\3340130049.py\" target=\"_blank\"><span style=\"color: #7f7f7f; text-decoration-color: #7f7f7f\">3340130049.py</span></a><span style=\"color: #7f7f7f; text-decoration-color: #7f7f7f\">:</span><a href=\"file://C:\\Users\\devil\\AppData\\Local\\Temp\\ipykernel_20900\\3340130049.py#37\" target=\"_blank\"><span style=\"color: #7f7f7f; text-decoration-color: #7f7f7f\">37</span></a>\n",
       "</pre>\n"
      ],
      "text/plain": [
       "\u001b[2;36m          \u001b[0m\u001b[2;36m \u001b[0m\u001b[34mINFO    \u001b[0m \u001b[1m[\u001b[0mgreen\u001b[1m]\u001b[0mCreated:\u001b[1m[\u001b[0m\u001b[35m/\u001b[0m\u001b[95mgreen\u001b[0m\u001b[1m]\u001b[0m src\\llm\\src\\llm\\video_llava_connector.py               \u001b]8;id=986657;file://C:\\Users\\devil\\AppData\\Local\\Temp\\ipykernel_20900\\3340130049.py\u001b\\\u001b[2m3340130049.py\u001b[0m\u001b]8;;\u001b\\\u001b[2m:\u001b[0m\u001b]8;id=857477;file://C:\\Users\\devil\\AppData\\Local\\Temp\\ipykernel_20900\\3340130049.py#37\u001b\\\u001b[2m37\u001b[0m\u001b]8;;\u001b\\\n"
      ]
     },
     "metadata": {},
     "output_type": "display_data"
    },
    {
     "data": {
      "text/html": [
       "<pre style=\"white-space:pre;overflow-x:auto;line-height:normal;font-family:Menlo,'DejaVu Sans Mono',consolas,'Courier New',monospace\"><span style=\"color: #7fbfbf; text-decoration-color: #7fbfbf\">           </span><span style=\"color: #000080; text-decoration-color: #000080\">INFO    </span> <span style=\"font-weight: bold\">[</span>green<span style=\"font-weight: bold\">]</span>Created:<span style=\"font-weight: bold\">[</span><span style=\"color: #800080; text-decoration-color: #800080\">/</span><span style=\"color: #ff00ff; text-decoration-color: #ff00ff\">green</span><span style=\"font-weight: bold\">]</span> src\\utils\\src\\utils\\__init__.py                        <a href=\"file://C:\\Users\\devil\\AppData\\Local\\Temp\\ipykernel_20900\\3340130049.py\" target=\"_blank\"><span style=\"color: #7f7f7f; text-decoration-color: #7f7f7f\">3340130049.py</span></a><span style=\"color: #7f7f7f; text-decoration-color: #7f7f7f\">:</span><a href=\"file://C:\\Users\\devil\\AppData\\Local\\Temp\\ipykernel_20900\\3340130049.py#37\" target=\"_blank\"><span style=\"color: #7f7f7f; text-decoration-color: #7f7f7f\">37</span></a>\n",
       "</pre>\n"
      ],
      "text/plain": [
       "\u001b[2;36m          \u001b[0m\u001b[2;36m \u001b[0m\u001b[34mINFO    \u001b[0m \u001b[1m[\u001b[0mgreen\u001b[1m]\u001b[0mCreated:\u001b[1m[\u001b[0m\u001b[35m/\u001b[0m\u001b[95mgreen\u001b[0m\u001b[1m]\u001b[0m src\\utils\\src\\utils\\__init__.py                        \u001b]8;id=387710;file://C:\\Users\\devil\\AppData\\Local\\Temp\\ipykernel_20900\\3340130049.py\u001b\\\u001b[2m3340130049.py\u001b[0m\u001b]8;;\u001b\\\u001b[2m:\u001b[0m\u001b]8;id=191385;file://C:\\Users\\devil\\AppData\\Local\\Temp\\ipykernel_20900\\3340130049.py#37\u001b\\\u001b[2m37\u001b[0m\u001b]8;;\u001b\\\n"
      ]
     },
     "metadata": {},
     "output_type": "display_data"
    },
    {
     "data": {
      "text/html": [
       "<pre style=\"white-space:pre;overflow-x:auto;line-height:normal;font-family:Menlo,'DejaVu Sans Mono',consolas,'Courier New',monospace\"><span style=\"color: #7fbfbf; text-decoration-color: #7fbfbf\">           </span><span style=\"color: #000080; text-decoration-color: #000080\">INFO    </span> <span style=\"font-weight: bold\">[</span>green<span style=\"font-weight: bold\">]</span>Created:<span style=\"font-weight: bold\">[</span><span style=\"color: #800080; text-decoration-color: #800080\">/</span><span style=\"color: #ff00ff; text-decoration-color: #ff00ff\">green</span><span style=\"font-weight: bold\">]</span> src\\utils\\src\\utils\\logger.py                          <a href=\"file://C:\\Users\\devil\\AppData\\Local\\Temp\\ipykernel_20900\\3340130049.py\" target=\"_blank\"><span style=\"color: #7f7f7f; text-decoration-color: #7f7f7f\">3340130049.py</span></a><span style=\"color: #7f7f7f; text-decoration-color: #7f7f7f\">:</span><a href=\"file://C:\\Users\\devil\\AppData\\Local\\Temp\\ipykernel_20900\\3340130049.py#37\" target=\"_blank\"><span style=\"color: #7f7f7f; text-decoration-color: #7f7f7f\">37</span></a>\n",
       "</pre>\n"
      ],
      "text/plain": [
       "\u001b[2;36m          \u001b[0m\u001b[2;36m \u001b[0m\u001b[34mINFO    \u001b[0m \u001b[1m[\u001b[0mgreen\u001b[1m]\u001b[0mCreated:\u001b[1m[\u001b[0m\u001b[35m/\u001b[0m\u001b[95mgreen\u001b[0m\u001b[1m]\u001b[0m src\\utils\\src\\utils\\logger.py                          \u001b]8;id=486012;file://C:\\Users\\devil\\AppData\\Local\\Temp\\ipykernel_20900\\3340130049.py\u001b\\\u001b[2m3340130049.py\u001b[0m\u001b]8;;\u001b\\\u001b[2m:\u001b[0m\u001b]8;id=319872;file://C:\\Users\\devil\\AppData\\Local\\Temp\\ipykernel_20900\\3340130049.py#37\u001b\\\u001b[2m37\u001b[0m\u001b]8;;\u001b\\\n"
      ]
     },
     "metadata": {},
     "output_type": "display_data"
    },
    {
     "data": {
      "text/html": [
       "<pre style=\"white-space:pre;overflow-x:auto;line-height:normal;font-family:Menlo,'DejaVu Sans Mono',consolas,'Courier New',monospace\"><span style=\"color: #7fbfbf; text-decoration-color: #7fbfbf\">           </span><span style=\"color: #000080; text-decoration-color: #000080\">INFO    </span> <span style=\"font-weight: bold\">[</span>green<span style=\"font-weight: bold\">]</span>Created:<span style=\"font-weight: bold\">[</span><span style=\"color: #800080; text-decoration-color: #800080\">/</span><span style=\"color: #ff00ff; text-decoration-color: #ff00ff\">green</span><span style=\"font-weight: bold\">]</span> src\\utils\\src\\utils\\video_utils.py                     <a href=\"file://C:\\Users\\devil\\AppData\\Local\\Temp\\ipykernel_20900\\3340130049.py\" target=\"_blank\"><span style=\"color: #7f7f7f; text-decoration-color: #7f7f7f\">3340130049.py</span></a><span style=\"color: #7f7f7f; text-decoration-color: #7f7f7f\">:</span><a href=\"file://C:\\Users\\devil\\AppData\\Local\\Temp\\ipykernel_20900\\3340130049.py#37\" target=\"_blank\"><span style=\"color: #7f7f7f; text-decoration-color: #7f7f7f\">37</span></a>\n",
       "</pre>\n"
      ],
      "text/plain": [
       "\u001b[2;36m          \u001b[0m\u001b[2;36m \u001b[0m\u001b[34mINFO    \u001b[0m \u001b[1m[\u001b[0mgreen\u001b[1m]\u001b[0mCreated:\u001b[1m[\u001b[0m\u001b[35m/\u001b[0m\u001b[95mgreen\u001b[0m\u001b[1m]\u001b[0m src\\utils\\src\\utils\\video_utils.py                     \u001b]8;id=822127;file://C:\\Users\\devil\\AppData\\Local\\Temp\\ipykernel_20900\\3340130049.py\u001b\\\u001b[2m3340130049.py\u001b[0m\u001b]8;;\u001b\\\u001b[2m:\u001b[0m\u001b]8;id=50882;file://C:\\Users\\devil\\AppData\\Local\\Temp\\ipykernel_20900\\3340130049.py#37\u001b\\\u001b[2m37\u001b[0m\u001b]8;;\u001b\\\n"
      ]
     },
     "metadata": {},
     "output_type": "display_data"
    },
    {
     "data": {
      "text/html": [
       "<pre style=\"white-space:pre;overflow-x:auto;line-height:normal;font-family:Menlo,'DejaVu Sans Mono',consolas,'Courier New',monospace\"><span style=\"color: #7fbfbf; text-decoration-color: #7fbfbf\">           </span><span style=\"color: #000080; text-decoration-color: #000080\">INFO    </span> <span style=\"font-weight: bold\">[</span>green<span style=\"font-weight: bold\">]</span>Created:<span style=\"font-weight: bold\">[</span><span style=\"color: #800080; text-decoration-color: #800080\">/</span><span style=\"color: #ff00ff; text-decoration-color: #ff00ff\">green</span><span style=\"font-weight: bold\">]</span> src\\utils\\src\\utils\\pose_utils.py                      <a href=\"file://C:\\Users\\devil\\AppData\\Local\\Temp\\ipykernel_20900\\3340130049.py\" target=\"_blank\"><span style=\"color: #7f7f7f; text-decoration-color: #7f7f7f\">3340130049.py</span></a><span style=\"color: #7f7f7f; text-decoration-color: #7f7f7f\">:</span><a href=\"file://C:\\Users\\devil\\AppData\\Local\\Temp\\ipykernel_20900\\3340130049.py#37\" target=\"_blank\"><span style=\"color: #7f7f7f; text-decoration-color: #7f7f7f\">37</span></a>\n",
       "</pre>\n"
      ],
      "text/plain": [
       "\u001b[2;36m          \u001b[0m\u001b[2;36m \u001b[0m\u001b[34mINFO    \u001b[0m \u001b[1m[\u001b[0mgreen\u001b[1m]\u001b[0mCreated:\u001b[1m[\u001b[0m\u001b[35m/\u001b[0m\u001b[95mgreen\u001b[0m\u001b[1m]\u001b[0m src\\utils\\src\\utils\\pose_utils.py                      \u001b]8;id=321654;file://C:\\Users\\devil\\AppData\\Local\\Temp\\ipykernel_20900\\3340130049.py\u001b\\\u001b[2m3340130049.py\u001b[0m\u001b]8;;\u001b\\\u001b[2m:\u001b[0m\u001b]8;id=963351;file://C:\\Users\\devil\\AppData\\Local\\Temp\\ipykernel_20900\\3340130049.py#37\u001b\\\u001b[2m37\u001b[0m\u001b]8;;\u001b\\\n"
      ]
     },
     "metadata": {},
     "output_type": "display_data"
    },
    {
     "data": {
      "text/html": [
       "<pre style=\"white-space:pre;overflow-x:auto;line-height:normal;font-family:Menlo,'DejaVu Sans Mono',consolas,'Courier New',monospace\"><span style=\"color: #7fbfbf; text-decoration-color: #7fbfbf\">           </span><span style=\"color: #000080; text-decoration-color: #000080\">INFO    </span> <span style=\"font-weight: bold\">[</span>green<span style=\"font-weight: bold\">]</span>Created:<span style=\"font-weight: bold\">[</span><span style=\"color: #800080; text-decoration-color: #800080\">/</span><span style=\"color: #ff00ff; text-decoration-color: #ff00ff\">green</span><span style=\"font-weight: bold\">]</span> src\\utils\\src\\utils\\config.py                          <a href=\"file://C:\\Users\\devil\\AppData\\Local\\Temp\\ipykernel_20900\\3340130049.py\" target=\"_blank\"><span style=\"color: #7f7f7f; text-decoration-color: #7f7f7f\">3340130049.py</span></a><span style=\"color: #7f7f7f; text-decoration-color: #7f7f7f\">:</span><a href=\"file://C:\\Users\\devil\\AppData\\Local\\Temp\\ipykernel_20900\\3340130049.py#37\" target=\"_blank\"><span style=\"color: #7f7f7f; text-decoration-color: #7f7f7f\">37</span></a>\n",
       "</pre>\n"
      ],
      "text/plain": [
       "\u001b[2;36m          \u001b[0m\u001b[2;36m \u001b[0m\u001b[34mINFO    \u001b[0m \u001b[1m[\u001b[0mgreen\u001b[1m]\u001b[0mCreated:\u001b[1m[\u001b[0m\u001b[35m/\u001b[0m\u001b[95mgreen\u001b[0m\u001b[1m]\u001b[0m src\\utils\\src\\utils\\config.py                          \u001b]8;id=248105;file://C:\\Users\\devil\\AppData\\Local\\Temp\\ipykernel_20900\\3340130049.py\u001b\\\u001b[2m3340130049.py\u001b[0m\u001b]8;;\u001b\\\u001b[2m:\u001b[0m\u001b]8;id=92539;file://C:\\Users\\devil\\AppData\\Local\\Temp\\ipykernel_20900\\3340130049.py#37\u001b\\\u001b[2m37\u001b[0m\u001b]8;;\u001b\\\n"
      ]
     },
     "metadata": {},
     "output_type": "display_data"
    },
    {
     "data": {
      "text/html": [
       "<pre style=\"white-space:pre;overflow-x:auto;line-height:normal;font-family:Menlo,'DejaVu Sans Mono',consolas,'Courier New',monospace\"><span style=\"color: #7fbfbf; text-decoration-color: #7fbfbf\">           </span><span style=\"color: #000080; text-decoration-color: #000080\">INFO    </span> <span style=\"font-weight: bold\">[</span>green<span style=\"font-weight: bold\">]</span>Created:<span style=\"font-weight: bold\">[</span><span style=\"color: #800080; text-decoration-color: #800080\">/</span><span style=\"color: #ff00ff; text-decoration-color: #ff00ff\">green</span><span style=\"font-weight: bold\">]</span> src\\utils\\src\\utils\\metrics.py                         <a href=\"file://C:\\Users\\devil\\AppData\\Local\\Temp\\ipykernel_20900\\3340130049.py\" target=\"_blank\"><span style=\"color: #7f7f7f; text-decoration-color: #7f7f7f\">3340130049.py</span></a><span style=\"color: #7f7f7f; text-decoration-color: #7f7f7f\">:</span><a href=\"file://C:\\Users\\devil\\AppData\\Local\\Temp\\ipykernel_20900\\3340130049.py#37\" target=\"_blank\"><span style=\"color: #7f7f7f; text-decoration-color: #7f7f7f\">37</span></a>\n",
       "</pre>\n"
      ],
      "text/plain": [
       "\u001b[2;36m          \u001b[0m\u001b[2;36m \u001b[0m\u001b[34mINFO    \u001b[0m \u001b[1m[\u001b[0mgreen\u001b[1m]\u001b[0mCreated:\u001b[1m[\u001b[0m\u001b[35m/\u001b[0m\u001b[95mgreen\u001b[0m\u001b[1m]\u001b[0m src\\utils\\src\\utils\\metrics.py                         \u001b]8;id=684715;file://C:\\Users\\devil\\AppData\\Local\\Temp\\ipykernel_20900\\3340130049.py\u001b\\\u001b[2m3340130049.py\u001b[0m\u001b]8;;\u001b\\\u001b[2m:\u001b[0m\u001b]8;id=856358;file://C:\\Users\\devil\\AppData\\Local\\Temp\\ipykernel_20900\\3340130049.py#37\u001b\\\u001b[2m37\u001b[0m\u001b]8;;\u001b\\\n"
      ]
     },
     "metadata": {},
     "output_type": "display_data"
    },
    {
     "data": {
      "text/html": [
       "<pre style=\"white-space:pre;overflow-x:auto;line-height:normal;font-family:Menlo,'DejaVu Sans Mono',consolas,'Courier New',monospace\"><span style=\"color: #7fbfbf; text-decoration-color: #7fbfbf\">           </span><span style=\"color: #000080; text-decoration-color: #000080\">INFO    </span> <span style=\"font-weight: bold\">[</span>green<span style=\"font-weight: bold\">]</span>Created:<span style=\"font-weight: bold\">[</span><span style=\"color: #800080; text-decoration-color: #800080\">/</span><span style=\"color: #ff00ff; text-decoration-color: #ff00ff\">green</span><span style=\"font-weight: bold\">]</span> src\\utils\\src\\utils\\alerts.py                          <a href=\"file://C:\\Users\\devil\\AppData\\Local\\Temp\\ipykernel_20900\\3340130049.py\" target=\"_blank\"><span style=\"color: #7f7f7f; text-decoration-color: #7f7f7f\">3340130049.py</span></a><span style=\"color: #7f7f7f; text-decoration-color: #7f7f7f\">:</span><a href=\"file://C:\\Users\\devil\\AppData\\Local\\Temp\\ipykernel_20900\\3340130049.py#37\" target=\"_blank\"><span style=\"color: #7f7f7f; text-decoration-color: #7f7f7f\">37</span></a>\n",
       "</pre>\n"
      ],
      "text/plain": [
       "\u001b[2;36m          \u001b[0m\u001b[2;36m \u001b[0m\u001b[34mINFO    \u001b[0m \u001b[1m[\u001b[0mgreen\u001b[1m]\u001b[0mCreated:\u001b[1m[\u001b[0m\u001b[35m/\u001b[0m\u001b[95mgreen\u001b[0m\u001b[1m]\u001b[0m src\\utils\\src\\utils\\alerts.py                          \u001b]8;id=671230;file://C:\\Users\\devil\\AppData\\Local\\Temp\\ipykernel_20900\\3340130049.py\u001b\\\u001b[2m3340130049.py\u001b[0m\u001b]8;;\u001b\\\u001b[2m:\u001b[0m\u001b]8;id=516792;file://C:\\Users\\devil\\AppData\\Local\\Temp\\ipykernel_20900\\3340130049.py#37\u001b\\\u001b[2m37\u001b[0m\u001b]8;;\u001b\\\n"
      ]
     },
     "metadata": {},
     "output_type": "display_data"
    },
    {
     "data": {
      "text/html": [
       "<pre style=\"white-space:pre;overflow-x:auto;line-height:normal;font-family:Menlo,'DejaVu Sans Mono',consolas,'Courier New',monospace\"><span style=\"color: #7fbfbf; text-decoration-color: #7fbfbf\">[22:42:10] </span><span style=\"color: #000080; text-decoration-color: #000080\">INFO    </span> <span style=\"font-weight: bold\">[</span>green<span style=\"font-weight: bold\">]</span>Created:<span style=\"font-weight: bold\">[</span><span style=\"color: #800080; text-decoration-color: #800080\">/</span><span style=\"color: #ff00ff; text-decoration-color: #ff00ff\">green</span><span style=\"font-weight: bold\">]</span> scripts\\scripts\\train_model.py                         <a href=\"file://C:\\Users\\devil\\AppData\\Local\\Temp\\ipykernel_20900\\3340130049.py\" target=\"_blank\"><span style=\"color: #7f7f7f; text-decoration-color: #7f7f7f\">3340130049.py</span></a><span style=\"color: #7f7f7f; text-decoration-color: #7f7f7f\">:</span><a href=\"file://C:\\Users\\devil\\AppData\\Local\\Temp\\ipykernel_20900\\3340130049.py#37\" target=\"_blank\"><span style=\"color: #7f7f7f; text-decoration-color: #7f7f7f\">37</span></a>\n",
       "</pre>\n"
      ],
      "text/plain": [
       "\u001b[2;36m[22:42:10]\u001b[0m\u001b[2;36m \u001b[0m\u001b[34mINFO    \u001b[0m \u001b[1m[\u001b[0mgreen\u001b[1m]\u001b[0mCreated:\u001b[1m[\u001b[0m\u001b[35m/\u001b[0m\u001b[95mgreen\u001b[0m\u001b[1m]\u001b[0m scripts\\scripts\\train_model.py                         \u001b]8;id=900737;file://C:\\Users\\devil\\AppData\\Local\\Temp\\ipykernel_20900\\3340130049.py\u001b\\\u001b[2m3340130049.py\u001b[0m\u001b]8;;\u001b\\\u001b[2m:\u001b[0m\u001b]8;id=88726;file://C:\\Users\\devil\\AppData\\Local\\Temp\\ipykernel_20900\\3340130049.py#37\u001b\\\u001b[2m37\u001b[0m\u001b]8;;\u001b\\\n"
      ]
     },
     "metadata": {},
     "output_type": "display_data"
    },
    {
     "data": {
      "text/html": [
       "<pre style=\"white-space:pre;overflow-x:auto;line-height:normal;font-family:Menlo,'DejaVu Sans Mono',consolas,'Courier New',monospace\"><span style=\"color: #7fbfbf; text-decoration-color: #7fbfbf\">           </span><span style=\"color: #000080; text-decoration-color: #000080\">INFO    </span> <span style=\"font-weight: bold\">[</span>green<span style=\"font-weight: bold\">]</span>Created:<span style=\"font-weight: bold\">[</span><span style=\"color: #800080; text-decoration-color: #800080\">/</span><span style=\"color: #ff00ff; text-decoration-color: #ff00ff\">green</span><span style=\"font-weight: bold\">]</span> scripts\\scripts\\train_dummy_model.py                   <a href=\"file://C:\\Users\\devil\\AppData\\Local\\Temp\\ipykernel_20900\\3340130049.py\" target=\"_blank\"><span style=\"color: #7f7f7f; text-decoration-color: #7f7f7f\">3340130049.py</span></a><span style=\"color: #7f7f7f; text-decoration-color: #7f7f7f\">:</span><a href=\"file://C:\\Users\\devil\\AppData\\Local\\Temp\\ipykernel_20900\\3340130049.py#37\" target=\"_blank\"><span style=\"color: #7f7f7f; text-decoration-color: #7f7f7f\">37</span></a>\n",
       "</pre>\n"
      ],
      "text/plain": [
       "\u001b[2;36m          \u001b[0m\u001b[2;36m \u001b[0m\u001b[34mINFO    \u001b[0m \u001b[1m[\u001b[0mgreen\u001b[1m]\u001b[0mCreated:\u001b[1m[\u001b[0m\u001b[35m/\u001b[0m\u001b[95mgreen\u001b[0m\u001b[1m]\u001b[0m scripts\\scripts\\train_dummy_model.py                   \u001b]8;id=382290;file://C:\\Users\\devil\\AppData\\Local\\Temp\\ipykernel_20900\\3340130049.py\u001b\\\u001b[2m3340130049.py\u001b[0m\u001b]8;;\u001b\\\u001b[2m:\u001b[0m\u001b]8;id=331831;file://C:\\Users\\devil\\AppData\\Local\\Temp\\ipykernel_20900\\3340130049.py#37\u001b\\\u001b[2m37\u001b[0m\u001b]8;;\u001b\\\n"
      ]
     },
     "metadata": {},
     "output_type": "display_data"
    },
    {
     "data": {
      "text/html": [
       "<pre style=\"white-space:pre;overflow-x:auto;line-height:normal;font-family:Menlo,'DejaVu Sans Mono',consolas,'Courier New',monospace\"><span style=\"color: #7fbfbf; text-decoration-color: #7fbfbf\">           </span><span style=\"color: #000080; text-decoration-color: #000080\">INFO    </span> <span style=\"font-weight: bold\">[</span>green<span style=\"font-weight: bold\">]</span>Created:<span style=\"font-weight: bold\">[</span><span style=\"color: #800080; text-decoration-color: #800080\">/</span><span style=\"color: #ff00ff; text-decoration-color: #ff00ff\">green</span><span style=\"font-weight: bold\">]</span> scripts\\scripts\\run_mlflow_experiment.py               <a href=\"file://C:\\Users\\devil\\AppData\\Local\\Temp\\ipykernel_20900\\3340130049.py\" target=\"_blank\"><span style=\"color: #7f7f7f; text-decoration-color: #7f7f7f\">3340130049.py</span></a><span style=\"color: #7f7f7f; text-decoration-color: #7f7f7f\">:</span><a href=\"file://C:\\Users\\devil\\AppData\\Local\\Temp\\ipykernel_20900\\3340130049.py#37\" target=\"_blank\"><span style=\"color: #7f7f7f; text-decoration-color: #7f7f7f\">37</span></a>\n",
       "</pre>\n"
      ],
      "text/plain": [
       "\u001b[2;36m          \u001b[0m\u001b[2;36m \u001b[0m\u001b[34mINFO    \u001b[0m \u001b[1m[\u001b[0mgreen\u001b[1m]\u001b[0mCreated:\u001b[1m[\u001b[0m\u001b[35m/\u001b[0m\u001b[95mgreen\u001b[0m\u001b[1m]\u001b[0m scripts\\scripts\\run_mlflow_experiment.py               \u001b]8;id=196328;file://C:\\Users\\devil\\AppData\\Local\\Temp\\ipykernel_20900\\3340130049.py\u001b\\\u001b[2m3340130049.py\u001b[0m\u001b]8;;\u001b\\\u001b[2m:\u001b[0m\u001b]8;id=562780;file://C:\\Users\\devil\\AppData\\Local\\Temp\\ipykernel_20900\\3340130049.py#37\u001b\\\u001b[2m37\u001b[0m\u001b]8;;\u001b\\\n"
      ]
     },
     "metadata": {},
     "output_type": "display_data"
    },
    {
     "data": {
      "text/html": [
       "<pre style=\"white-space:pre;overflow-x:auto;line-height:normal;font-family:Menlo,'DejaVu Sans Mono',consolas,'Courier New',monospace\"><span style=\"color: #7fbfbf; text-decoration-color: #7fbfbf\">           </span><span style=\"color: #000080; text-decoration-color: #000080\">INFO    </span> <span style=\"font-weight: bold\">[</span>green<span style=\"font-weight: bold\">]</span>Created:<span style=\"font-weight: bold\">[</span><span style=\"color: #800080; text-decoration-color: #800080\">/</span><span style=\"color: #ff00ff; text-decoration-color: #ff00ff\">green</span><span style=\"font-weight: bold\">]</span> scripts\\scripts\\pretrain_encoder.py                    <a href=\"file://C:\\Users\\devil\\AppData\\Local\\Temp\\ipykernel_20900\\3340130049.py\" target=\"_blank\"><span style=\"color: #7f7f7f; text-decoration-color: #7f7f7f\">3340130049.py</span></a><span style=\"color: #7f7f7f; text-decoration-color: #7f7f7f\">:</span><a href=\"file://C:\\Users\\devil\\AppData\\Local\\Temp\\ipykernel_20900\\3340130049.py#37\" target=\"_blank\"><span style=\"color: #7f7f7f; text-decoration-color: #7f7f7f\">37</span></a>\n",
       "</pre>\n"
      ],
      "text/plain": [
       "\u001b[2;36m          \u001b[0m\u001b[2;36m \u001b[0m\u001b[34mINFO    \u001b[0m \u001b[1m[\u001b[0mgreen\u001b[1m]\u001b[0mCreated:\u001b[1m[\u001b[0m\u001b[35m/\u001b[0m\u001b[95mgreen\u001b[0m\u001b[1m]\u001b[0m scripts\\scripts\\pretrain_encoder.py                    \u001b]8;id=526343;file://C:\\Users\\devil\\AppData\\Local\\Temp\\ipykernel_20900\\3340130049.py\u001b\\\u001b[2m3340130049.py\u001b[0m\u001b]8;;\u001b\\\u001b[2m:\u001b[0m\u001b]8;id=988936;file://C:\\Users\\devil\\AppData\\Local\\Temp\\ipykernel_20900\\3340130049.py#37\u001b\\\u001b[2m37\u001b[0m\u001b]8;;\u001b\\\n"
      ]
     },
     "metadata": {},
     "output_type": "display_data"
    },
    {
     "data": {
      "text/html": [
       "<pre style=\"white-space:pre;overflow-x:auto;line-height:normal;font-family:Menlo,'DejaVu Sans Mono',consolas,'Courier New',monospace\"><span style=\"color: #7fbfbf; text-decoration-color: #7fbfbf\">           </span><span style=\"color: #000080; text-decoration-color: #000080\">INFO    </span> <span style=\"font-weight: bold\">[</span>green<span style=\"font-weight: bold\">]</span>Created:<span style=\"font-weight: bold\">[</span><span style=\"color: #800080; text-decoration-color: #800080\">/</span><span style=\"color: #ff00ff; text-decoration-color: #ff00ff\">green</span><span style=\"font-weight: bold\">]</span> scripts\\scripts\\init_empty_files.py                    <a href=\"file://C:\\Users\\devil\\AppData\\Local\\Temp\\ipykernel_20900\\3340130049.py\" target=\"_blank\"><span style=\"color: #7f7f7f; text-decoration-color: #7f7f7f\">3340130049.py</span></a><span style=\"color: #7f7f7f; text-decoration-color: #7f7f7f\">:</span><a href=\"file://C:\\Users\\devil\\AppData\\Local\\Temp\\ipykernel_20900\\3340130049.py#37\" target=\"_blank\"><span style=\"color: #7f7f7f; text-decoration-color: #7f7f7f\">37</span></a>\n",
       "</pre>\n"
      ],
      "text/plain": [
       "\u001b[2;36m          \u001b[0m\u001b[2;36m \u001b[0m\u001b[34mINFO    \u001b[0m \u001b[1m[\u001b[0mgreen\u001b[1m]\u001b[0mCreated:\u001b[1m[\u001b[0m\u001b[35m/\u001b[0m\u001b[95mgreen\u001b[0m\u001b[1m]\u001b[0m scripts\\scripts\\init_empty_files.py                    \u001b]8;id=129765;file://C:\\Users\\devil\\AppData\\Local\\Temp\\ipykernel_20900\\3340130049.py\u001b\\\u001b[2m3340130049.py\u001b[0m\u001b]8;;\u001b\\\u001b[2m:\u001b[0m\u001b]8;id=865403;file://C:\\Users\\devil\\AppData\\Local\\Temp\\ipykernel_20900\\3340130049.py#37\u001b\\\u001b[2m37\u001b[0m\u001b]8;;\u001b\\\n"
      ]
     },
     "metadata": {},
     "output_type": "display_data"
    },
    {
     "data": {
      "text/html": [
       "<pre style=\"white-space:pre;overflow-x:auto;line-height:normal;font-family:Menlo,'DejaVu Sans Mono',consolas,'Courier New',monospace\"><span style=\"color: #7fbfbf; text-decoration-color: #7fbfbf\">           </span><span style=\"color: #000080; text-decoration-color: #000080\">INFO    </span> <span style=\"font-weight: bold\">[</span>green<span style=\"font-weight: bold\">]</span>Created:<span style=\"font-weight: bold\">[</span><span style=\"color: #800080; text-decoration-color: #800080\">/</span><span style=\"color: #ff00ff; text-decoration-color: #ff00ff\">green</span><span style=\"font-weight: bold\">]</span> scripts\\scripts\\download_assets.py                     <a href=\"file://C:\\Users\\devil\\AppData\\Local\\Temp\\ipykernel_20900\\3340130049.py\" target=\"_blank\"><span style=\"color: #7f7f7f; text-decoration-color: #7f7f7f\">3340130049.py</span></a><span style=\"color: #7f7f7f; text-decoration-color: #7f7f7f\">:</span><a href=\"file://C:\\Users\\devil\\AppData\\Local\\Temp\\ipykernel_20900\\3340130049.py#37\" target=\"_blank\"><span style=\"color: #7f7f7f; text-decoration-color: #7f7f7f\">37</span></a>\n",
       "</pre>\n"
      ],
      "text/plain": [
       "\u001b[2;36m          \u001b[0m\u001b[2;36m \u001b[0m\u001b[34mINFO    \u001b[0m \u001b[1m[\u001b[0mgreen\u001b[1m]\u001b[0mCreated:\u001b[1m[\u001b[0m\u001b[35m/\u001b[0m\u001b[95mgreen\u001b[0m\u001b[1m]\u001b[0m scripts\\scripts\\download_assets.py                     \u001b]8;id=86096;file://C:\\Users\\devil\\AppData\\Local\\Temp\\ipykernel_20900\\3340130049.py\u001b\\\u001b[2m3340130049.py\u001b[0m\u001b]8;;\u001b\\\u001b[2m:\u001b[0m\u001b]8;id=174339;file://C:\\Users\\devil\\AppData\\Local\\Temp\\ipykernel_20900\\3340130049.py#37\u001b\\\u001b[2m37\u001b[0m\u001b]8;;\u001b\\\n"
      ]
     },
     "metadata": {},
     "output_type": "display_data"
    },
    {
     "data": {
      "text/html": [
       "<pre style=\"white-space:pre;overflow-x:auto;line-height:normal;font-family:Menlo,'DejaVu Sans Mono',consolas,'Courier New',monospace\"><span style=\"color: #7fbfbf; text-decoration-color: #7fbfbf\">           </span><span style=\"color: #000080; text-decoration-color: #000080\">INFO    </span> <span style=\"font-weight: bold\">[</span>green<span style=\"font-weight: bold\">]</span>Created:<span style=\"font-weight: bold\">[</span><span style=\"color: #800080; text-decoration-color: #800080\">/</span><span style=\"color: #ff00ff; text-decoration-color: #ff00ff\">green</span><span style=\"font-weight: bold\">]</span> app\\app\\__init__.py                                    <a href=\"file://C:\\Users\\devil\\AppData\\Local\\Temp\\ipykernel_20900\\3340130049.py\" target=\"_blank\"><span style=\"color: #7f7f7f; text-decoration-color: #7f7f7f\">3340130049.py</span></a><span style=\"color: #7f7f7f; text-decoration-color: #7f7f7f\">:</span><a href=\"file://C:\\Users\\devil\\AppData\\Local\\Temp\\ipykernel_20900\\3340130049.py#37\" target=\"_blank\"><span style=\"color: #7f7f7f; text-decoration-color: #7f7f7f\">37</span></a>\n",
       "</pre>\n"
      ],
      "text/plain": [
       "\u001b[2;36m          \u001b[0m\u001b[2;36m \u001b[0m\u001b[34mINFO    \u001b[0m \u001b[1m[\u001b[0mgreen\u001b[1m]\u001b[0mCreated:\u001b[1m[\u001b[0m\u001b[35m/\u001b[0m\u001b[95mgreen\u001b[0m\u001b[1m]\u001b[0m app\\app\\__init__.py                                    \u001b]8;id=411101;file://C:\\Users\\devil\\AppData\\Local\\Temp\\ipykernel_20900\\3340130049.py\u001b\\\u001b[2m3340130049.py\u001b[0m\u001b]8;;\u001b\\\u001b[2m:\u001b[0m\u001b]8;id=288681;file://C:\\Users\\devil\\AppData\\Local\\Temp\\ipykernel_20900\\3340130049.py#37\u001b\\\u001b[2m37\u001b[0m\u001b]8;;\u001b\\\n"
      ]
     },
     "metadata": {},
     "output_type": "display_data"
    },
    {
     "data": {
      "text/html": [
       "<pre style=\"white-space:pre;overflow-x:auto;line-height:normal;font-family:Menlo,'DejaVu Sans Mono',consolas,'Courier New',monospace\"><span style=\"color: #7fbfbf; text-decoration-color: #7fbfbf\">           </span><span style=\"color: #000080; text-decoration-color: #000080\">INFO    </span> <span style=\"font-weight: bold\">[</span>green<span style=\"font-weight: bold\">]</span>Created:<span style=\"font-weight: bold\">[</span><span style=\"color: #800080; text-decoration-color: #800080\">/</span><span style=\"color: #ff00ff; text-decoration-color: #ff00ff\">green</span><span style=\"font-weight: bold\">]</span> app\\app\\api_server.py                                  <a href=\"file://C:\\Users\\devil\\AppData\\Local\\Temp\\ipykernel_20900\\3340130049.py\" target=\"_blank\"><span style=\"color: #7f7f7f; text-decoration-color: #7f7f7f\">3340130049.py</span></a><span style=\"color: #7f7f7f; text-decoration-color: #7f7f7f\">:</span><a href=\"file://C:\\Users\\devil\\AppData\\Local\\Temp\\ipykernel_20900\\3340130049.py#37\" target=\"_blank\"><span style=\"color: #7f7f7f; text-decoration-color: #7f7f7f\">37</span></a>\n",
       "</pre>\n"
      ],
      "text/plain": [
       "\u001b[2;36m          \u001b[0m\u001b[2;36m \u001b[0m\u001b[34mINFO    \u001b[0m \u001b[1m[\u001b[0mgreen\u001b[1m]\u001b[0mCreated:\u001b[1m[\u001b[0m\u001b[35m/\u001b[0m\u001b[95mgreen\u001b[0m\u001b[1m]\u001b[0m app\\app\\api_server.py                                  \u001b]8;id=582313;file://C:\\Users\\devil\\AppData\\Local\\Temp\\ipykernel_20900\\3340130049.py\u001b\\\u001b[2m3340130049.py\u001b[0m\u001b]8;;\u001b\\\u001b[2m:\u001b[0m\u001b]8;id=358448;file://C:\\Users\\devil\\AppData\\Local\\Temp\\ipykernel_20900\\3340130049.py#37\u001b\\\u001b[2m37\u001b[0m\u001b]8;;\u001b\\\n"
      ]
     },
     "metadata": {},
     "output_type": "display_data"
    },
    {
     "data": {
      "text/html": [
       "<pre style=\"white-space:pre;overflow-x:auto;line-height:normal;font-family:Menlo,'DejaVu Sans Mono',consolas,'Courier New',monospace\"><span style=\"color: #7fbfbf; text-decoration-color: #7fbfbf\">           </span><span style=\"color: #000080; text-decoration-color: #000080\">INFO    </span> <span style=\"font-weight: bold\">[</span>green<span style=\"font-weight: bold\">]</span>Created:<span style=\"font-weight: bold\">[</span><span style=\"color: #800080; text-decoration-color: #800080\">/</span><span style=\"color: #ff00ff; text-decoration-color: #ff00ff\">green</span><span style=\"font-weight: bold\">]</span> app\\app\\endpoints\\analyze.py                           <a href=\"file://C:\\Users\\devil\\AppData\\Local\\Temp\\ipykernel_20900\\3340130049.py\" target=\"_blank\"><span style=\"color: #7f7f7f; text-decoration-color: #7f7f7f\">3340130049.py</span></a><span style=\"color: #7f7f7f; text-decoration-color: #7f7f7f\">:</span><a href=\"file://C:\\Users\\devil\\AppData\\Local\\Temp\\ipykernel_20900\\3340130049.py#37\" target=\"_blank\"><span style=\"color: #7f7f7f; text-decoration-color: #7f7f7f\">37</span></a>\n",
       "</pre>\n"
      ],
      "text/plain": [
       "\u001b[2;36m          \u001b[0m\u001b[2;36m \u001b[0m\u001b[34mINFO    \u001b[0m \u001b[1m[\u001b[0mgreen\u001b[1m]\u001b[0mCreated:\u001b[1m[\u001b[0m\u001b[35m/\u001b[0m\u001b[95mgreen\u001b[0m\u001b[1m]\u001b[0m app\\app\\endpoints\\analyze.py                           \u001b]8;id=192680;file://C:\\Users\\devil\\AppData\\Local\\Temp\\ipykernel_20900\\3340130049.py\u001b\\\u001b[2m3340130049.py\u001b[0m\u001b]8;;\u001b\\\u001b[2m:\u001b[0m\u001b]8;id=373110;file://C:\\Users\\devil\\AppData\\Local\\Temp\\ipykernel_20900\\3340130049.py#37\u001b\\\u001b[2m37\u001b[0m\u001b]8;;\u001b\\\n"
      ]
     },
     "metadata": {},
     "output_type": "display_data"
    },
    {
     "data": {
      "text/html": [
       "<pre style=\"white-space:pre;overflow-x:auto;line-height:normal;font-family:Menlo,'DejaVu Sans Mono',consolas,'Courier New',monospace\"><span style=\"color: #7fbfbf; text-decoration-color: #7fbfbf\">           </span><span style=\"color: #000080; text-decoration-color: #000080\">INFO    </span> <span style=\"font-weight: bold\">[</span>green<span style=\"font-weight: bold\">]</span>Created:<span style=\"font-weight: bold\">[</span><span style=\"color: #800080; text-decoration-color: #800080\">/</span><span style=\"color: #ff00ff; text-decoration-color: #ff00ff\">green</span><span style=\"font-weight: bold\">]</span> app\\app\\endpoints\\feedback.py                          <a href=\"file://C:\\Users\\devil\\AppData\\Local\\Temp\\ipykernel_20900\\3340130049.py\" target=\"_blank\"><span style=\"color: #7f7f7f; text-decoration-color: #7f7f7f\">3340130049.py</span></a><span style=\"color: #7f7f7f; text-decoration-color: #7f7f7f\">:</span><a href=\"file://C:\\Users\\devil\\AppData\\Local\\Temp\\ipykernel_20900\\3340130049.py#37\" target=\"_blank\"><span style=\"color: #7f7f7f; text-decoration-color: #7f7f7f\">37</span></a>\n",
       "</pre>\n"
      ],
      "text/plain": [
       "\u001b[2;36m          \u001b[0m\u001b[2;36m \u001b[0m\u001b[34mINFO    \u001b[0m \u001b[1m[\u001b[0mgreen\u001b[1m]\u001b[0mCreated:\u001b[1m[\u001b[0m\u001b[35m/\u001b[0m\u001b[95mgreen\u001b[0m\u001b[1m]\u001b[0m app\\app\\endpoints\\feedback.py                          \u001b]8;id=128817;file://C:\\Users\\devil\\AppData\\Local\\Temp\\ipykernel_20900\\3340130049.py\u001b\\\u001b[2m3340130049.py\u001b[0m\u001b]8;;\u001b\\\u001b[2m:\u001b[0m\u001b]8;id=362154;file://C:\\Users\\devil\\AppData\\Local\\Temp\\ipykernel_20900\\3340130049.py#37\u001b\\\u001b[2m37\u001b[0m\u001b]8;;\u001b\\\n"
      ]
     },
     "metadata": {},
     "output_type": "display_data"
    },
    {
     "data": {
      "text/html": [
       "<pre style=\"white-space:pre;overflow-x:auto;line-height:normal;font-family:Menlo,'DejaVu Sans Mono',consolas,'Courier New',monospace\"><span style=\"color: #7fbfbf; text-decoration-color: #7fbfbf\">           </span><span style=\"color: #000080; text-decoration-color: #000080\">INFO    </span> <span style=\"font-weight: bold\">[</span>green<span style=\"font-weight: bold\">]</span>Created:<span style=\"font-weight: bold\">[</span><span style=\"color: #800080; text-decoration-color: #800080\">/</span><span style=\"color: #ff00ff; text-decoration-color: #ff00ff\">green</span><span style=\"font-weight: bold\">]</span> app\\app\\models\\serve_model.py                          <a href=\"file://C:\\Users\\devil\\AppData\\Local\\Temp\\ipykernel_20900\\3340130049.py\" target=\"_blank\"><span style=\"color: #7f7f7f; text-decoration-color: #7f7f7f\">3340130049.py</span></a><span style=\"color: #7f7f7f; text-decoration-color: #7f7f7f\">:</span><a href=\"file://C:\\Users\\devil\\AppData\\Local\\Temp\\ipykernel_20900\\3340130049.py#37\" target=\"_blank\"><span style=\"color: #7f7f7f; text-decoration-color: #7f7f7f\">37</span></a>\n",
       "</pre>\n"
      ],
      "text/plain": [
       "\u001b[2;36m          \u001b[0m\u001b[2;36m \u001b[0m\u001b[34mINFO    \u001b[0m \u001b[1m[\u001b[0mgreen\u001b[1m]\u001b[0mCreated:\u001b[1m[\u001b[0m\u001b[35m/\u001b[0m\u001b[95mgreen\u001b[0m\u001b[1m]\u001b[0m app\\app\\models\\serve_model.py                          \u001b]8;id=448685;file://C:\\Users\\devil\\AppData\\Local\\Temp\\ipykernel_20900\\3340130049.py\u001b\\\u001b[2m3340130049.py\u001b[0m\u001b]8;;\u001b\\\u001b[2m:\u001b[0m\u001b]8;id=639657;file://C:\\Users\\devil\\AppData\\Local\\Temp\\ipykernel_20900\\3340130049.py#37\u001b\\\u001b[2m37\u001b[0m\u001b]8;;\u001b\\\n"
      ]
     },
     "metadata": {},
     "output_type": "display_data"
    },
    {
     "data": {
      "text/html": [
       "<pre style=\"white-space:pre;overflow-x:auto;line-height:normal;font-family:Menlo,'DejaVu Sans Mono',consolas,'Courier New',monospace\"><span style=\"color: #7fbfbf; text-decoration-color: #7fbfbf\">           </span><span style=\"color: #000080; text-decoration-color: #000080\">INFO    </span> <span style=\"font-weight: bold\">[</span>green<span style=\"font-weight: bold\">]</span>Created:<span style=\"font-weight: bold\">[</span><span style=\"color: #800080; text-decoration-color: #800080\">/</span><span style=\"color: #ff00ff; text-decoration-color: #ff00ff\">green</span><span style=\"font-weight: bold\">]</span> app\\app\\streamlit_ui\\app.py                            <a href=\"file://C:\\Users\\devil\\AppData\\Local\\Temp\\ipykernel_20900\\3340130049.py\" target=\"_blank\"><span style=\"color: #7f7f7f; text-decoration-color: #7f7f7f\">3340130049.py</span></a><span style=\"color: #7f7f7f; text-decoration-color: #7f7f7f\">:</span><a href=\"file://C:\\Users\\devil\\AppData\\Local\\Temp\\ipykernel_20900\\3340130049.py#37\" target=\"_blank\"><span style=\"color: #7f7f7f; text-decoration-color: #7f7f7f\">37</span></a>\n",
       "</pre>\n"
      ],
      "text/plain": [
       "\u001b[2;36m          \u001b[0m\u001b[2;36m \u001b[0m\u001b[34mINFO    \u001b[0m \u001b[1m[\u001b[0mgreen\u001b[1m]\u001b[0mCreated:\u001b[1m[\u001b[0m\u001b[35m/\u001b[0m\u001b[95mgreen\u001b[0m\u001b[1m]\u001b[0m app\\app\\streamlit_ui\\app.py                            \u001b]8;id=546331;file://C:\\Users\\devil\\AppData\\Local\\Temp\\ipykernel_20900\\3340130049.py\u001b\\\u001b[2m3340130049.py\u001b[0m\u001b]8;;\u001b\\\u001b[2m:\u001b[0m\u001b]8;id=907586;file://C:\\Users\\devil\\AppData\\Local\\Temp\\ipykernel_20900\\3340130049.py#37\u001b\\\u001b[2m37\u001b[0m\u001b]8;;\u001b\\\n"
      ]
     },
     "metadata": {},
     "output_type": "display_data"
    },
    {
     "data": {
      "text/html": [
       "<pre style=\"white-space:pre;overflow-x:auto;line-height:normal;font-family:Menlo,'DejaVu Sans Mono',consolas,'Courier New',monospace\"><span style=\"color: #7fbfbf; text-decoration-color: #7fbfbf\">           </span><span style=\"color: #000080; text-decoration-color: #000080\">INFO    </span> <span style=\"font-weight: bold\">[</span>green<span style=\"font-weight: bold\">]</span>Created:<span style=\"font-weight: bold\">[</span><span style=\"color: #800080; text-decoration-color: #800080\">/</span><span style=\"color: #ff00ff; text-decoration-color: #ff00ff\">green</span><span style=\"font-weight: bold\">]</span> frontend\\frontend\\public\\index.html                    <a href=\"file://C:\\Users\\devil\\AppData\\Local\\Temp\\ipykernel_20900\\3340130049.py\" target=\"_blank\"><span style=\"color: #7f7f7f; text-decoration-color: #7f7f7f\">3340130049.py</span></a><span style=\"color: #7f7f7f; text-decoration-color: #7f7f7f\">:</span><a href=\"file://C:\\Users\\devil\\AppData\\Local\\Temp\\ipykernel_20900\\3340130049.py#37\" target=\"_blank\"><span style=\"color: #7f7f7f; text-decoration-color: #7f7f7f\">37</span></a>\n",
       "</pre>\n"
      ],
      "text/plain": [
       "\u001b[2;36m          \u001b[0m\u001b[2;36m \u001b[0m\u001b[34mINFO    \u001b[0m \u001b[1m[\u001b[0mgreen\u001b[1m]\u001b[0mCreated:\u001b[1m[\u001b[0m\u001b[35m/\u001b[0m\u001b[95mgreen\u001b[0m\u001b[1m]\u001b[0m frontend\\frontend\\public\\index.html                    \u001b]8;id=265846;file://C:\\Users\\devil\\AppData\\Local\\Temp\\ipykernel_20900\\3340130049.py\u001b\\\u001b[2m3340130049.py\u001b[0m\u001b]8;;\u001b\\\u001b[2m:\u001b[0m\u001b]8;id=666539;file://C:\\Users\\devil\\AppData\\Local\\Temp\\ipykernel_20900\\3340130049.py#37\u001b\\\u001b[2m37\u001b[0m\u001b]8;;\u001b\\\n"
      ]
     },
     "metadata": {},
     "output_type": "display_data"
    },
    {
     "data": {
      "text/html": [
       "<pre style=\"white-space:pre;overflow-x:auto;line-height:normal;font-family:Menlo,'DejaVu Sans Mono',consolas,'Courier New',monospace\"><span style=\"color: #7fbfbf; text-decoration-color: #7fbfbf\">           </span><span style=\"color: #000080; text-decoration-color: #000080\">INFO    </span> <span style=\"font-weight: bold\">[</span>green<span style=\"font-weight: bold\">]</span>Created:<span style=\"font-weight: bold\">[</span><span style=\"color: #800080; text-decoration-color: #800080\">/</span><span style=\"color: #ff00ff; text-decoration-color: #ff00ff\">green</span><span style=\"font-weight: bold\">]</span> frontend\\frontend\\src\\main.js                          <a href=\"file://C:\\Users\\devil\\AppData\\Local\\Temp\\ipykernel_20900\\3340130049.py\" target=\"_blank\"><span style=\"color: #7f7f7f; text-decoration-color: #7f7f7f\">3340130049.py</span></a><span style=\"color: #7f7f7f; text-decoration-color: #7f7f7f\">:</span><a href=\"file://C:\\Users\\devil\\AppData\\Local\\Temp\\ipykernel_20900\\3340130049.py#37\" target=\"_blank\"><span style=\"color: #7f7f7f; text-decoration-color: #7f7f7f\">37</span></a>\n",
       "</pre>\n"
      ],
      "text/plain": [
       "\u001b[2;36m          \u001b[0m\u001b[2;36m \u001b[0m\u001b[34mINFO    \u001b[0m \u001b[1m[\u001b[0mgreen\u001b[1m]\u001b[0mCreated:\u001b[1m[\u001b[0m\u001b[35m/\u001b[0m\u001b[95mgreen\u001b[0m\u001b[1m]\u001b[0m frontend\\frontend\\src\\main.js                          \u001b]8;id=163922;file://C:\\Users\\devil\\AppData\\Local\\Temp\\ipykernel_20900\\3340130049.py\u001b\\\u001b[2m3340130049.py\u001b[0m\u001b]8;;\u001b\\\u001b[2m:\u001b[0m\u001b]8;id=307803;file://C:\\Users\\devil\\AppData\\Local\\Temp\\ipykernel_20900\\3340130049.py#37\u001b\\\u001b[2m37\u001b[0m\u001b]8;;\u001b\\\n"
      ]
     },
     "metadata": {},
     "output_type": "display_data"
    },
    {
     "data": {
      "text/html": [
       "<pre style=\"white-space:pre;overflow-x:auto;line-height:normal;font-family:Menlo,'DejaVu Sans Mono',consolas,'Courier New',monospace\"><span style=\"color: #7fbfbf; text-decoration-color: #7fbfbf\">           </span><span style=\"color: #000080; text-decoration-color: #000080\">INFO    </span> <span style=\"font-weight: bold\">[</span>green<span style=\"font-weight: bold\">]</span>Created:<span style=\"font-weight: bold\">[</span><span style=\"color: #800080; text-decoration-color: #800080\">/</span><span style=\"color: #ff00ff; text-decoration-color: #ff00ff\">green</span><span style=\"font-weight: bold\">]</span> frontend\\frontend\\src\\App.svelte                       <a href=\"file://C:\\Users\\devil\\AppData\\Local\\Temp\\ipykernel_20900\\3340130049.py\" target=\"_blank\"><span style=\"color: #7f7f7f; text-decoration-color: #7f7f7f\">3340130049.py</span></a><span style=\"color: #7f7f7f; text-decoration-color: #7f7f7f\">:</span><a href=\"file://C:\\Users\\devil\\AppData\\Local\\Temp\\ipykernel_20900\\3340130049.py#37\" target=\"_blank\"><span style=\"color: #7f7f7f; text-decoration-color: #7f7f7f\">37</span></a>\n",
       "</pre>\n"
      ],
      "text/plain": [
       "\u001b[2;36m          \u001b[0m\u001b[2;36m \u001b[0m\u001b[34mINFO    \u001b[0m \u001b[1m[\u001b[0mgreen\u001b[1m]\u001b[0mCreated:\u001b[1m[\u001b[0m\u001b[35m/\u001b[0m\u001b[95mgreen\u001b[0m\u001b[1m]\u001b[0m frontend\\frontend\\src\\App.svelte                       \u001b]8;id=24404;file://C:\\Users\\devil\\AppData\\Local\\Temp\\ipykernel_20900\\3340130049.py\u001b\\\u001b[2m3340130049.py\u001b[0m\u001b]8;;\u001b\\\u001b[2m:\u001b[0m\u001b]8;id=448995;file://C:\\Users\\devil\\AppData\\Local\\Temp\\ipykernel_20900\\3340130049.py#37\u001b\\\u001b[2m37\u001b[0m\u001b]8;;\u001b\\\n"
      ]
     },
     "metadata": {},
     "output_type": "display_data"
    },
    {
     "data": {
      "text/html": [
       "<pre style=\"white-space:pre;overflow-x:auto;line-height:normal;font-family:Menlo,'DejaVu Sans Mono',consolas,'Courier New',monospace\"><span style=\"color: #7fbfbf; text-decoration-color: #7fbfbf\">           </span><span style=\"color: #000080; text-decoration-color: #000080\">INFO    </span> <span style=\"font-weight: bold\">[</span>green<span style=\"font-weight: bold\">]</span>Created:<span style=\"font-weight: bold\">[</span><span style=\"color: #800080; text-decoration-color: #800080\">/</span><span style=\"color: #ff00ff; text-decoration-color: #ff00ff\">green</span><span style=\"font-weight: bold\">]</span> frontend\\frontend\\src\\styles\\tailwind.css              <a href=\"file://C:\\Users\\devil\\AppData\\Local\\Temp\\ipykernel_20900\\3340130049.py\" target=\"_blank\"><span style=\"color: #7f7f7f; text-decoration-color: #7f7f7f\">3340130049.py</span></a><span style=\"color: #7f7f7f; text-decoration-color: #7f7f7f\">:</span><a href=\"file://C:\\Users\\devil\\AppData\\Local\\Temp\\ipykernel_20900\\3340130049.py#37\" target=\"_blank\"><span style=\"color: #7f7f7f; text-decoration-color: #7f7f7f\">37</span></a>\n",
       "</pre>\n"
      ],
      "text/plain": [
       "\u001b[2;36m          \u001b[0m\u001b[2;36m \u001b[0m\u001b[34mINFO    \u001b[0m \u001b[1m[\u001b[0mgreen\u001b[1m]\u001b[0mCreated:\u001b[1m[\u001b[0m\u001b[35m/\u001b[0m\u001b[95mgreen\u001b[0m\u001b[1m]\u001b[0m frontend\\frontend\\src\\styles\\tailwind.css              \u001b]8;id=163347;file://C:\\Users\\devil\\AppData\\Local\\Temp\\ipykernel_20900\\3340130049.py\u001b\\\u001b[2m3340130049.py\u001b[0m\u001b]8;;\u001b\\\u001b[2m:\u001b[0m\u001b]8;id=571609;file://C:\\Users\\devil\\AppData\\Local\\Temp\\ipykernel_20900\\3340130049.py#37\u001b\\\u001b[2m37\u001b[0m\u001b]8;;\u001b\\\n"
      ]
     },
     "metadata": {},
     "output_type": "display_data"
    },
    {
     "data": {
      "text/html": [
       "<pre style=\"white-space:pre;overflow-x:auto;line-height:normal;font-family:Menlo,'DejaVu Sans Mono',consolas,'Courier New',monospace\"><span style=\"color: #7fbfbf; text-decoration-color: #7fbfbf\">           </span><span style=\"color: #000080; text-decoration-color: #000080\">INFO    </span> <span style=\"font-weight: bold\">[</span>green<span style=\"font-weight: bold\">]</span>Created:<span style=\"font-weight: bold\">[</span><span style=\"color: #800080; text-decoration-color: #800080\">/</span><span style=\"color: #ff00ff; text-decoration-color: #ff00ff\">green</span><span style=\"font-weight: bold\">]</span> docker\\docker\\Dockerfile                               <a href=\"file://C:\\Users\\devil\\AppData\\Local\\Temp\\ipykernel_20900\\3340130049.py\" target=\"_blank\"><span style=\"color: #7f7f7f; text-decoration-color: #7f7f7f\">3340130049.py</span></a><span style=\"color: #7f7f7f; text-decoration-color: #7f7f7f\">:</span><a href=\"file://C:\\Users\\devil\\AppData\\Local\\Temp\\ipykernel_20900\\3340130049.py#37\" target=\"_blank\"><span style=\"color: #7f7f7f; text-decoration-color: #7f7f7f\">37</span></a>\n",
       "</pre>\n"
      ],
      "text/plain": [
       "\u001b[2;36m          \u001b[0m\u001b[2;36m \u001b[0m\u001b[34mINFO    \u001b[0m \u001b[1m[\u001b[0mgreen\u001b[1m]\u001b[0mCreated:\u001b[1m[\u001b[0m\u001b[35m/\u001b[0m\u001b[95mgreen\u001b[0m\u001b[1m]\u001b[0m docker\\docker\\Dockerfile                               \u001b]8;id=135967;file://C:\\Users\\devil\\AppData\\Local\\Temp\\ipykernel_20900\\3340130049.py\u001b\\\u001b[2m3340130049.py\u001b[0m\u001b]8;;\u001b\\\u001b[2m:\u001b[0m\u001b]8;id=665540;file://C:\\Users\\devil\\AppData\\Local\\Temp\\ipykernel_20900\\3340130049.py#37\u001b\\\u001b[2m37\u001b[0m\u001b]8;;\u001b\\\n"
      ]
     },
     "metadata": {},
     "output_type": "display_data"
    },
    {
     "data": {
      "text/html": [
       "<pre style=\"white-space:pre;overflow-x:auto;line-height:normal;font-family:Menlo,'DejaVu Sans Mono',consolas,'Courier New',monospace\"><span style=\"color: #7fbfbf; text-decoration-color: #7fbfbf\">           </span><span style=\"color: #000080; text-decoration-color: #000080\">INFO    </span> <span style=\"font-weight: bold\">[</span>green<span style=\"font-weight: bold\">]</span>Created:<span style=\"font-weight: bold\">[</span><span style=\"color: #800080; text-decoration-color: #800080\">/</span><span style=\"color: #ff00ff; text-decoration-color: #ff00ff\">green</span><span style=\"font-weight: bold\">]</span> docker\\docker\\docker-compose.yml                       <a href=\"file://C:\\Users\\devil\\AppData\\Local\\Temp\\ipykernel_20900\\3340130049.py\" target=\"_blank\"><span style=\"color: #7f7f7f; text-decoration-color: #7f7f7f\">3340130049.py</span></a><span style=\"color: #7f7f7f; text-decoration-color: #7f7f7f\">:</span><a href=\"file://C:\\Users\\devil\\AppData\\Local\\Temp\\ipykernel_20900\\3340130049.py#37\" target=\"_blank\"><span style=\"color: #7f7f7f; text-decoration-color: #7f7f7f\">37</span></a>\n",
       "</pre>\n"
      ],
      "text/plain": [
       "\u001b[2;36m          \u001b[0m\u001b[2;36m \u001b[0m\u001b[34mINFO    \u001b[0m \u001b[1m[\u001b[0mgreen\u001b[1m]\u001b[0mCreated:\u001b[1m[\u001b[0m\u001b[35m/\u001b[0m\u001b[95mgreen\u001b[0m\u001b[1m]\u001b[0m docker\\docker\\docker-compose.yml                       \u001b]8;id=600212;file://C:\\Users\\devil\\AppData\\Local\\Temp\\ipykernel_20900\\3340130049.py\u001b\\\u001b[2m3340130049.py\u001b[0m\u001b]8;;\u001b\\\u001b[2m:\u001b[0m\u001b]8;id=550461;file://C:\\Users\\devil\\AppData\\Local\\Temp\\ipykernel_20900\\3340130049.py#37\u001b\\\u001b[2m37\u001b[0m\u001b]8;;\u001b\\\n"
      ]
     },
     "metadata": {},
     "output_type": "display_data"
    },
    {
     "data": {
      "text/html": [
       "<pre style=\"white-space:pre;overflow-x:auto;line-height:normal;font-family:Menlo,'DejaVu Sans Mono',consolas,'Courier New',monospace\"><span style=\"color: #7fbfbf; text-decoration-color: #7fbfbf\">           </span><span style=\"color: #000080; text-decoration-color: #000080\">INFO    </span> <span style=\"font-weight: bold\">[</span>green<span style=\"font-weight: bold\">]</span>Created:<span style=\"font-weight: bold\">[</span><span style=\"color: #800080; text-decoration-color: #800080\">/</span><span style=\"color: #ff00ff; text-decoration-color: #ff00ff\">green</span><span style=\"font-weight: bold\">]</span> docker\\docker\\start.sh                                 <a href=\"file://C:\\Users\\devil\\AppData\\Local\\Temp\\ipykernel_20900\\3340130049.py\" target=\"_blank\"><span style=\"color: #7f7f7f; text-decoration-color: #7f7f7f\">3340130049.py</span></a><span style=\"color: #7f7f7f; text-decoration-color: #7f7f7f\">:</span><a href=\"file://C:\\Users\\devil\\AppData\\Local\\Temp\\ipykernel_20900\\3340130049.py#37\" target=\"_blank\"><span style=\"color: #7f7f7f; text-decoration-color: #7f7f7f\">37</span></a>\n",
       "</pre>\n"
      ],
      "text/plain": [
       "\u001b[2;36m          \u001b[0m\u001b[2;36m \u001b[0m\u001b[34mINFO    \u001b[0m \u001b[1m[\u001b[0mgreen\u001b[1m]\u001b[0mCreated:\u001b[1m[\u001b[0m\u001b[35m/\u001b[0m\u001b[95mgreen\u001b[0m\u001b[1m]\u001b[0m docker\\docker\\start.sh                                 \u001b]8;id=261521;file://C:\\Users\\devil\\AppData\\Local\\Temp\\ipykernel_20900\\3340130049.py\u001b\\\u001b[2m3340130049.py\u001b[0m\u001b]8;;\u001b\\\u001b[2m:\u001b[0m\u001b]8;id=672383;file://C:\\Users\\devil\\AppData\\Local\\Temp\\ipykernel_20900\\3340130049.py#37\u001b\\\u001b[2m37\u001b[0m\u001b]8;;\u001b\\\n"
      ]
     },
     "metadata": {},
     "output_type": "display_data"
    },
    {
     "data": {
      "text/html": [
       "<pre style=\"white-space:pre;overflow-x:auto;line-height:normal;font-family:Menlo,'DejaVu Sans Mono',consolas,'Courier New',monospace\"><span style=\"color: #7fbfbf; text-decoration-color: #7fbfbf\">[22:42:11] </span><span style=\"color: #000080; text-decoration-color: #000080\">INFO    </span> <span style=\"font-weight: bold\">[</span>green<span style=\"font-weight: bold\">]</span>Created:<span style=\"font-weight: bold\">[</span><span style=\"color: #800080; text-decoration-color: #800080\">/</span><span style=\"color: #ff00ff; text-decoration-color: #ff00ff\">green</span><span style=\"font-weight: bold\">]</span> checkpoints\\checkpoints\\.gitkeep                       <a href=\"file://C:\\Users\\devil\\AppData\\Local\\Temp\\ipykernel_20900\\3340130049.py\" target=\"_blank\"><span style=\"color: #7f7f7f; text-decoration-color: #7f7f7f\">3340130049.py</span></a><span style=\"color: #7f7f7f; text-decoration-color: #7f7f7f\">:</span><a href=\"file://C:\\Users\\devil\\AppData\\Local\\Temp\\ipykernel_20900\\3340130049.py#37\" target=\"_blank\"><span style=\"color: #7f7f7f; text-decoration-color: #7f7f7f\">37</span></a>\n",
       "</pre>\n"
      ],
      "text/plain": [
       "\u001b[2;36m[22:42:11]\u001b[0m\u001b[2;36m \u001b[0m\u001b[34mINFO    \u001b[0m \u001b[1m[\u001b[0mgreen\u001b[1m]\u001b[0mCreated:\u001b[1m[\u001b[0m\u001b[35m/\u001b[0m\u001b[95mgreen\u001b[0m\u001b[1m]\u001b[0m checkpoints\\checkpoints\\.gitkeep                       \u001b]8;id=321317;file://C:\\Users\\devil\\AppData\\Local\\Temp\\ipykernel_20900\\3340130049.py\u001b\\\u001b[2m3340130049.py\u001b[0m\u001b]8;;\u001b\\\u001b[2m:\u001b[0m\u001b]8;id=402162;file://C:\\Users\\devil\\AppData\\Local\\Temp\\ipykernel_20900\\3340130049.py#37\u001b\\\u001b[2m37\u001b[0m\u001b]8;;\u001b\\\n"
      ]
     },
     "metadata": {},
     "output_type": "display_data"
    },
    {
     "data": {
      "text/html": [
       "<pre style=\"white-space:pre;overflow-x:auto;line-height:normal;font-family:Menlo,'DejaVu Sans Mono',consolas,'Courier New',monospace\"><span style=\"color: #7fbfbf; text-decoration-color: #7fbfbf\">           </span><span style=\"color: #000080; text-decoration-color: #000080\">INFO    </span> <span style=\"font-weight: bold\">[</span>green<span style=\"font-weight: bold\">]</span>Created:<span style=\"font-weight: bold\">[</span><span style=\"color: #800080; text-decoration-color: #800080\">/</span><span style=\"color: #ff00ff; text-decoration-color: #ff00ff\">green</span><span style=\"font-weight: bold\">]</span> logs\\logs\\.gitkeep                                     <a href=\"file://C:\\Users\\devil\\AppData\\Local\\Temp\\ipykernel_20900\\3340130049.py\" target=\"_blank\"><span style=\"color: #7f7f7f; text-decoration-color: #7f7f7f\">3340130049.py</span></a><span style=\"color: #7f7f7f; text-decoration-color: #7f7f7f\">:</span><a href=\"file://C:\\Users\\devil\\AppData\\Local\\Temp\\ipykernel_20900\\3340130049.py#37\" target=\"_blank\"><span style=\"color: #7f7f7f; text-decoration-color: #7f7f7f\">37</span></a>\n",
       "</pre>\n"
      ],
      "text/plain": [
       "\u001b[2;36m          \u001b[0m\u001b[2;36m \u001b[0m\u001b[34mINFO    \u001b[0m \u001b[1m[\u001b[0mgreen\u001b[1m]\u001b[0mCreated:\u001b[1m[\u001b[0m\u001b[35m/\u001b[0m\u001b[95mgreen\u001b[0m\u001b[1m]\u001b[0m logs\\logs\\.gitkeep                                     \u001b]8;id=356671;file://C:\\Users\\devil\\AppData\\Local\\Temp\\ipykernel_20900\\3340130049.py\u001b\\\u001b[2m3340130049.py\u001b[0m\u001b]8;;\u001b\\\u001b[2m:\u001b[0m\u001b]8;id=295575;file://C:\\Users\\devil\\AppData\\Local\\Temp\\ipykernel_20900\\3340130049.py#37\u001b\\\u001b[2m37\u001b[0m\u001b]8;;\u001b\\\n"
      ]
     },
     "metadata": {},
     "output_type": "display_data"
    },
    {
     "data": {
      "text/html": [
       "<pre style=\"white-space:pre;overflow-x:auto;line-height:normal;font-family:Menlo,'DejaVu Sans Mono',consolas,'Courier New',monospace\"><span style=\"color: #7fbfbf; text-decoration-color: #7fbfbf\">           </span><span style=\"color: #000080; text-decoration-color: #000080\">INFO    </span> <span style=\"font-weight: bold\">[</span>green<span style=\"font-weight: bold\">]</span>Created:<span style=\"font-weight: bold\">[</span><span style=\"color: #800080; text-decoration-color: #800080\">/</span><span style=\"color: #ff00ff; text-decoration-color: #ff00ff\">green</span><span style=\"font-weight: bold\">]</span> mlruns\\mlruns\\.gitkeep                                 <a href=\"file://C:\\Users\\devil\\AppData\\Local\\Temp\\ipykernel_20900\\3340130049.py\" target=\"_blank\"><span style=\"color: #7f7f7f; text-decoration-color: #7f7f7f\">3340130049.py</span></a><span style=\"color: #7f7f7f; text-decoration-color: #7f7f7f\">:</span><a href=\"file://C:\\Users\\devil\\AppData\\Local\\Temp\\ipykernel_20900\\3340130049.py#37\" target=\"_blank\"><span style=\"color: #7f7f7f; text-decoration-color: #7f7f7f\">37</span></a>\n",
       "</pre>\n"
      ],
      "text/plain": [
       "\u001b[2;36m          \u001b[0m\u001b[2;36m \u001b[0m\u001b[34mINFO    \u001b[0m \u001b[1m[\u001b[0mgreen\u001b[1m]\u001b[0mCreated:\u001b[1m[\u001b[0m\u001b[35m/\u001b[0m\u001b[95mgreen\u001b[0m\u001b[1m]\u001b[0m mlruns\\mlruns\\.gitkeep                                 \u001b]8;id=550274;file://C:\\Users\\devil\\AppData\\Local\\Temp\\ipykernel_20900\\3340130049.py\u001b\\\u001b[2m3340130049.py\u001b[0m\u001b]8;;\u001b\\\u001b[2m:\u001b[0m\u001b]8;id=944336;file://C:\\Users\\devil\\AppData\\Local\\Temp\\ipykernel_20900\\3340130049.py#37\u001b\\\u001b[2m37\u001b[0m\u001b]8;;\u001b\\\n"
      ]
     },
     "metadata": {},
     "output_type": "display_data"
    },
    {
     "data": {
      "text/html": [
       "<pre style=\"white-space:pre;overflow-x:auto;line-height:normal;font-family:Menlo,'DejaVu Sans Mono',consolas,'Courier New',monospace\"><span style=\"color: #7fbfbf; text-decoration-color: #7fbfbf\">           </span><span style=\"color: #000080; text-decoration-color: #000080\">INFO    </span> <span style=\"font-weight: bold\">[</span>green<span style=\"font-weight: bold\">]</span>Created:<span style=\"font-weight: bold\">[</span><span style=\"color: #800080; text-decoration-color: #800080\">/</span><span style=\"color: #ff00ff; text-decoration-color: #ff00ff\">green</span><span style=\"font-weight: bold\">]</span> evaluation\\evaluation\\benchmark_metrics.py             <a href=\"file://C:\\Users\\devil\\AppData\\Local\\Temp\\ipykernel_20900\\3340130049.py\" target=\"_blank\"><span style=\"color: #7f7f7f; text-decoration-color: #7f7f7f\">3340130049.py</span></a><span style=\"color: #7f7f7f; text-decoration-color: #7f7f7f\">:</span><a href=\"file://C:\\Users\\devil\\AppData\\Local\\Temp\\ipykernel_20900\\3340130049.py#37\" target=\"_blank\"><span style=\"color: #7f7f7f; text-decoration-color: #7f7f7f\">37</span></a>\n",
       "</pre>\n"
      ],
      "text/plain": [
       "\u001b[2;36m          \u001b[0m\u001b[2;36m \u001b[0m\u001b[34mINFO    \u001b[0m \u001b[1m[\u001b[0mgreen\u001b[1m]\u001b[0mCreated:\u001b[1m[\u001b[0m\u001b[35m/\u001b[0m\u001b[95mgreen\u001b[0m\u001b[1m]\u001b[0m evaluation\\evaluation\\benchmark_metrics.py             \u001b]8;id=846973;file://C:\\Users\\devil\\AppData\\Local\\Temp\\ipykernel_20900\\3340130049.py\u001b\\\u001b[2m3340130049.py\u001b[0m\u001b]8;;\u001b\\\u001b[2m:\u001b[0m\u001b]8;id=333720;file://C:\\Users\\devil\\AppData\\Local\\Temp\\ipykernel_20900\\3340130049.py#37\u001b\\\u001b[2m37\u001b[0m\u001b]8;;\u001b\\\n"
      ]
     },
     "metadata": {},
     "output_type": "display_data"
    },
    {
     "data": {
      "text/html": [
       "<pre style=\"white-space:pre;overflow-x:auto;line-height:normal;font-family:Menlo,'DejaVu Sans Mono',consolas,'Courier New',monospace\"><span style=\"color: #7fbfbf; text-decoration-color: #7fbfbf\">           </span><span style=\"color: #000080; text-decoration-color: #000080\">INFO    </span> <span style=\"font-weight: bold\">[</span>green<span style=\"font-weight: bold\">]</span>Created:<span style=\"font-weight: bold\">[</span><span style=\"color: #800080; text-decoration-color: #800080\">/</span><span style=\"color: #ff00ff; text-decoration-color: #ff00ff\">green</span><span style=\"font-weight: bold\">]</span> evaluation\\evaluation\\confusion_matrix.py              <a href=\"file://C:\\Users\\devil\\AppData\\Local\\Temp\\ipykernel_20900\\3340130049.py\" target=\"_blank\"><span style=\"color: #7f7f7f; text-decoration-color: #7f7f7f\">3340130049.py</span></a><span style=\"color: #7f7f7f; text-decoration-color: #7f7f7f\">:</span><a href=\"file://C:\\Users\\devil\\AppData\\Local\\Temp\\ipykernel_20900\\3340130049.py#37\" target=\"_blank\"><span style=\"color: #7f7f7f; text-decoration-color: #7f7f7f\">37</span></a>\n",
       "</pre>\n"
      ],
      "text/plain": [
       "\u001b[2;36m          \u001b[0m\u001b[2;36m \u001b[0m\u001b[34mINFO    \u001b[0m \u001b[1m[\u001b[0mgreen\u001b[1m]\u001b[0mCreated:\u001b[1m[\u001b[0m\u001b[35m/\u001b[0m\u001b[95mgreen\u001b[0m\u001b[1m]\u001b[0m evaluation\\evaluation\\confusion_matrix.py              \u001b]8;id=736172;file://C:\\Users\\devil\\AppData\\Local\\Temp\\ipykernel_20900\\3340130049.py\u001b\\\u001b[2m3340130049.py\u001b[0m\u001b]8;;\u001b\\\u001b[2m:\u001b[0m\u001b]8;id=247320;file://C:\\Users\\devil\\AppData\\Local\\Temp\\ipykernel_20900\\3340130049.py#37\u001b\\\u001b[2m37\u001b[0m\u001b]8;;\u001b\\\n"
      ]
     },
     "metadata": {},
     "output_type": "display_data"
    },
    {
     "data": {
      "text/html": [
       "<pre style=\"white-space:pre;overflow-x:auto;line-height:normal;font-family:Menlo,'DejaVu Sans Mono',consolas,'Courier New',monospace\"><span style=\"color: #7fbfbf; text-decoration-color: #7fbfbf\">           </span><span style=\"color: #000080; text-decoration-color: #000080\">INFO    </span> <span style=\"font-weight: bold\">[</span>green<span style=\"font-weight: bold\">]</span>Created:<span style=\"font-weight: bold\">[</span><span style=\"color: #800080; text-decoration-color: #800080\">/</span><span style=\"color: #ff00ff; text-decoration-color: #ff00ff\">green</span><span style=\"font-weight: bold\">]</span> evaluation\\evaluation\\model_compare.py                 <a href=\"file://C:\\Users\\devil\\AppData\\Local\\Temp\\ipykernel_20900\\3340130049.py\" target=\"_blank\"><span style=\"color: #7f7f7f; text-decoration-color: #7f7f7f\">3340130049.py</span></a><span style=\"color: #7f7f7f; text-decoration-color: #7f7f7f\">:</span><a href=\"file://C:\\Users\\devil\\AppData\\Local\\Temp\\ipykernel_20900\\3340130049.py#37\" target=\"_blank\"><span style=\"color: #7f7f7f; text-decoration-color: #7f7f7f\">37</span></a>\n",
       "</pre>\n"
      ],
      "text/plain": [
       "\u001b[2;36m          \u001b[0m\u001b[2;36m \u001b[0m\u001b[34mINFO    \u001b[0m \u001b[1m[\u001b[0mgreen\u001b[1m]\u001b[0mCreated:\u001b[1m[\u001b[0m\u001b[35m/\u001b[0m\u001b[95mgreen\u001b[0m\u001b[1m]\u001b[0m evaluation\\evaluation\\model_compare.py                 \u001b]8;id=705094;file://C:\\Users\\devil\\AppData\\Local\\Temp\\ipykernel_20900\\3340130049.py\u001b\\\u001b[2m3340130049.py\u001b[0m\u001b]8;;\u001b\\\u001b[2m:\u001b[0m\u001b]8;id=648921;file://C:\\Users\\devil\\AppData\\Local\\Temp\\ipykernel_20900\\3340130049.py#37\u001b\\\u001b[2m37\u001b[0m\u001b]8;;\u001b\\\n"
      ]
     },
     "metadata": {},
     "output_type": "display_data"
    },
    {
     "data": {
      "text/html": [
       "<pre style=\"white-space:pre;overflow-x:auto;line-height:normal;font-family:Menlo,'DejaVu Sans Mono',consolas,'Courier New',monospace\"><span style=\"color: #7fbfbf; text-decoration-color: #7fbfbf\">           </span><span style=\"color: #000080; text-decoration-color: #000080\">INFO    </span> <span style=\"font-weight: bold\">[</span>green<span style=\"font-weight: bold\">]</span>Created:<span style=\"font-weight: bold\">[</span><span style=\"color: #800080; text-decoration-color: #800080\">/</span><span style=\"color: #ff00ff; text-decoration-color: #ff00ff\">green</span><span style=\"font-weight: bold\">]</span> notebooks\\notebooks\\demo_pipeline.ipynb                <a href=\"file://C:\\Users\\devil\\AppData\\Local\\Temp\\ipykernel_20900\\3340130049.py\" target=\"_blank\"><span style=\"color: #7f7f7f; text-decoration-color: #7f7f7f\">3340130049.py</span></a><span style=\"color: #7f7f7f; text-decoration-color: #7f7f7f\">:</span><a href=\"file://C:\\Users\\devil\\AppData\\Local\\Temp\\ipykernel_20900\\3340130049.py#37\" target=\"_blank\"><span style=\"color: #7f7f7f; text-decoration-color: #7f7f7f\">37</span></a>\n",
       "</pre>\n"
      ],
      "text/plain": [
       "\u001b[2;36m          \u001b[0m\u001b[2;36m \u001b[0m\u001b[34mINFO    \u001b[0m \u001b[1m[\u001b[0mgreen\u001b[1m]\u001b[0mCreated:\u001b[1m[\u001b[0m\u001b[35m/\u001b[0m\u001b[95mgreen\u001b[0m\u001b[1m]\u001b[0m notebooks\\notebooks\\demo_pipeline.ipynb                \u001b]8;id=328462;file://C:\\Users\\devil\\AppData\\Local\\Temp\\ipykernel_20900\\3340130049.py\u001b\\\u001b[2m3340130049.py\u001b[0m\u001b]8;;\u001b\\\u001b[2m:\u001b[0m\u001b]8;id=200675;file://C:\\Users\\devil\\AppData\\Local\\Temp\\ipykernel_20900\\3340130049.py#37\u001b\\\u001b[2m37\u001b[0m\u001b]8;;\u001b\\\n"
      ]
     },
     "metadata": {},
     "output_type": "display_data"
    },
    {
     "data": {
      "text/html": [
       "<pre style=\"white-space:pre;overflow-x:auto;line-height:normal;font-family:Menlo,'DejaVu Sans Mono',consolas,'Courier New',monospace\"><span style=\"color: #7fbfbf; text-decoration-color: #7fbfbf\">           </span><span style=\"color: #000080; text-decoration-color: #000080\">INFO    </span> <span style=\"font-weight: bold\">[</span>green<span style=\"font-weight: bold\">]</span>Created:<span style=\"font-weight: bold\">[</span><span style=\"color: #800080; text-decoration-color: #800080\">/</span><span style=\"color: #ff00ff; text-decoration-color: #ff00ff\">green</span><span style=\"font-weight: bold\">]</span> notebooks\\notebooks\\model_insight_analysis.ipynb       <a href=\"file://C:\\Users\\devil\\AppData\\Local\\Temp\\ipykernel_20900\\3340130049.py\" target=\"_blank\"><span style=\"color: #7f7f7f; text-decoration-color: #7f7f7f\">3340130049.py</span></a><span style=\"color: #7f7f7f; text-decoration-color: #7f7f7f\">:</span><a href=\"file://C:\\Users\\devil\\AppData\\Local\\Temp\\ipykernel_20900\\3340130049.py#37\" target=\"_blank\"><span style=\"color: #7f7f7f; text-decoration-color: #7f7f7f\">37</span></a>\n",
       "</pre>\n"
      ],
      "text/plain": [
       "\u001b[2;36m          \u001b[0m\u001b[2;36m \u001b[0m\u001b[34mINFO    \u001b[0m \u001b[1m[\u001b[0mgreen\u001b[1m]\u001b[0mCreated:\u001b[1m[\u001b[0m\u001b[35m/\u001b[0m\u001b[95mgreen\u001b[0m\u001b[1m]\u001b[0m notebooks\\notebooks\\model_insight_analysis.ipynb       \u001b]8;id=187647;file://C:\\Users\\devil\\AppData\\Local\\Temp\\ipykernel_20900\\3340130049.py\u001b\\\u001b[2m3340130049.py\u001b[0m\u001b]8;;\u001b\\\u001b[2m:\u001b[0m\u001b]8;id=495805;file://C:\\Users\\devil\\AppData\\Local\\Temp\\ipykernel_20900\\3340130049.py#37\u001b\\\u001b[2m37\u001b[0m\u001b]8;;\u001b\\\n"
      ]
     },
     "metadata": {},
     "output_type": "display_data"
    },
    {
     "data": {
      "text/html": [
       "<pre style=\"white-space:pre;overflow-x:auto;line-height:normal;font-family:Menlo,'DejaVu Sans Mono',consolas,'Courier New',monospace\"><span style=\"color: #7fbfbf; text-decoration-color: #7fbfbf\">           </span><span style=\"color: #000080; text-decoration-color: #000080\">INFO    </span> <span style=\"font-weight: bold\">[</span>green<span style=\"font-weight: bold\">]</span>Created:<span style=\"font-weight: bold\">[</span><span style=\"color: #800080; text-decoration-color: #800080\">/</span><span style=\"color: #ff00ff; text-decoration-color: #ff00ff\">green</span><span style=\"font-weight: bold\">]</span> notebooks\\notebooks\\prompt_design.ipynb                <a href=\"file://C:\\Users\\devil\\AppData\\Local\\Temp\\ipykernel_20900\\3340130049.py\" target=\"_blank\"><span style=\"color: #7f7f7f; text-decoration-color: #7f7f7f\">3340130049.py</span></a><span style=\"color: #7f7f7f; text-decoration-color: #7f7f7f\">:</span><a href=\"file://C:\\Users\\devil\\AppData\\Local\\Temp\\ipykernel_20900\\3340130049.py#37\" target=\"_blank\"><span style=\"color: #7f7f7f; text-decoration-color: #7f7f7f\">37</span></a>\n",
       "</pre>\n"
      ],
      "text/plain": [
       "\u001b[2;36m          \u001b[0m\u001b[2;36m \u001b[0m\u001b[34mINFO    \u001b[0m \u001b[1m[\u001b[0mgreen\u001b[1m]\u001b[0mCreated:\u001b[1m[\u001b[0m\u001b[35m/\u001b[0m\u001b[95mgreen\u001b[0m\u001b[1m]\u001b[0m notebooks\\notebooks\\prompt_design.ipynb                \u001b]8;id=584635;file://C:\\Users\\devil\\AppData\\Local\\Temp\\ipykernel_20900\\3340130049.py\u001b\\\u001b[2m3340130049.py\u001b[0m\u001b]8;;\u001b\\\u001b[2m:\u001b[0m\u001b]8;id=630360;file://C:\\Users\\devil\\AppData\\Local\\Temp\\ipykernel_20900\\3340130049.py#37\u001b\\\u001b[2m37\u001b[0m\u001b]8;;\u001b\\\n"
      ]
     },
     "metadata": {},
     "output_type": "display_data"
    },
    {
     "data": {
      "text/html": [
       "<pre style=\"white-space:pre;overflow-x:auto;line-height:normal;font-family:Menlo,'DejaVu Sans Mono',consolas,'Courier New',monospace\"><span style=\"color: #7fbfbf; text-decoration-color: #7fbfbf\">           </span><span style=\"color: #000080; text-decoration-color: #000080\">INFO    </span> <span style=\"font-weight: bold\">[</span>green<span style=\"font-weight: bold\">]</span>Created:<span style=\"font-weight: bold\">[</span><span style=\"color: #800080; text-decoration-color: #800080\">/</span><span style=\"color: #ff00ff; text-decoration-color: #ff00ff\">green</span><span style=\"font-weight: bold\">]</span> notebooks\\notebooks\\model_ablation_study.ipynb         <a href=\"file://C:\\Users\\devil\\AppData\\Local\\Temp\\ipykernel_20900\\3340130049.py\" target=\"_blank\"><span style=\"color: #7f7f7f; text-decoration-color: #7f7f7f\">3340130049.py</span></a><span style=\"color: #7f7f7f; text-decoration-color: #7f7f7f\">:</span><a href=\"file://C:\\Users\\devil\\AppData\\Local\\Temp\\ipykernel_20900\\3340130049.py#37\" target=\"_blank\"><span style=\"color: #7f7f7f; text-decoration-color: #7f7f7f\">37</span></a>\n",
       "</pre>\n"
      ],
      "text/plain": [
       "\u001b[2;36m          \u001b[0m\u001b[2;36m \u001b[0m\u001b[34mINFO    \u001b[0m \u001b[1m[\u001b[0mgreen\u001b[1m]\u001b[0mCreated:\u001b[1m[\u001b[0m\u001b[35m/\u001b[0m\u001b[95mgreen\u001b[0m\u001b[1m]\u001b[0m notebooks\\notebooks\\model_ablation_study.ipynb         \u001b]8;id=545178;file://C:\\Users\\devil\\AppData\\Local\\Temp\\ipykernel_20900\\3340130049.py\u001b\\\u001b[2m3340130049.py\u001b[0m\u001b]8;;\u001b\\\u001b[2m:\u001b[0m\u001b]8;id=143877;file://C:\\Users\\devil\\AppData\\Local\\Temp\\ipykernel_20900\\3340130049.py#37\u001b\\\u001b[2m37\u001b[0m\u001b]8;;\u001b\\\n"
      ]
     },
     "metadata": {},
     "output_type": "display_data"
    },
    {
     "data": {
      "text/html": [
       "<pre style=\"white-space:pre;overflow-x:auto;line-height:normal;font-family:Menlo,'DejaVu Sans Mono',consolas,'Courier New',monospace\"><span style=\"color: #7fbfbf; text-decoration-color: #7fbfbf\">           </span><span style=\"color: #000080; text-decoration-color: #000080\">INFO    </span> <span style=\"font-weight: bold\">[</span>green<span style=\"font-weight: bold\">]</span>Created:<span style=\"font-weight: bold\">[</span><span style=\"color: #800080; text-decoration-color: #800080\">/</span><span style=\"color: #ff00ff; text-decoration-color: #ff00ff\">green</span><span style=\"font-weight: bold\">]</span> tests\\tests\\__init__.py                                <a href=\"file://C:\\Users\\devil\\AppData\\Local\\Temp\\ipykernel_20900\\3340130049.py\" target=\"_blank\"><span style=\"color: #7f7f7f; text-decoration-color: #7f7f7f\">3340130049.py</span></a><span style=\"color: #7f7f7f; text-decoration-color: #7f7f7f\">:</span><a href=\"file://C:\\Users\\devil\\AppData\\Local\\Temp\\ipykernel_20900\\3340130049.py#37\" target=\"_blank\"><span style=\"color: #7f7f7f; text-decoration-color: #7f7f7f\">37</span></a>\n",
       "</pre>\n"
      ],
      "text/plain": [
       "\u001b[2;36m          \u001b[0m\u001b[2;36m \u001b[0m\u001b[34mINFO    \u001b[0m \u001b[1m[\u001b[0mgreen\u001b[1m]\u001b[0mCreated:\u001b[1m[\u001b[0m\u001b[35m/\u001b[0m\u001b[95mgreen\u001b[0m\u001b[1m]\u001b[0m tests\\tests\\__init__.py                                \u001b]8;id=533767;file://C:\\Users\\devil\\AppData\\Local\\Temp\\ipykernel_20900\\3340130049.py\u001b\\\u001b[2m3340130049.py\u001b[0m\u001b]8;;\u001b\\\u001b[2m:\u001b[0m\u001b]8;id=918620;file://C:\\Users\\devil\\AppData\\Local\\Temp\\ipykernel_20900\\3340130049.py#37\u001b\\\u001b[2m37\u001b[0m\u001b]8;;\u001b\\\n"
      ]
     },
     "metadata": {},
     "output_type": "display_data"
    },
    {
     "data": {
      "text/html": [
       "<pre style=\"white-space:pre;overflow-x:auto;line-height:normal;font-family:Menlo,'DejaVu Sans Mono',consolas,'Courier New',monospace\"><span style=\"color: #7fbfbf; text-decoration-color: #7fbfbf\">           </span><span style=\"color: #000080; text-decoration-color: #000080\">INFO    </span> <span style=\"font-weight: bold\">[</span>green<span style=\"font-weight: bold\">]</span>Created:<span style=\"font-weight: bold\">[</span><span style=\"color: #800080; text-decoration-color: #800080\">/</span><span style=\"color: #ff00ff; text-decoration-color: #ff00ff\">green</span><span style=\"font-weight: bold\">]</span> tests\\tests\\test_video_utils.py                        <a href=\"file://C:\\Users\\devil\\AppData\\Local\\Temp\\ipykernel_20900\\3340130049.py\" target=\"_blank\"><span style=\"color: #7f7f7f; text-decoration-color: #7f7f7f\">3340130049.py</span></a><span style=\"color: #7f7f7f; text-decoration-color: #7f7f7f\">:</span><a href=\"file://C:\\Users\\devil\\AppData\\Local\\Temp\\ipykernel_20900\\3340130049.py#37\" target=\"_blank\"><span style=\"color: #7f7f7f; text-decoration-color: #7f7f7f\">37</span></a>\n",
       "</pre>\n"
      ],
      "text/plain": [
       "\u001b[2;36m          \u001b[0m\u001b[2;36m \u001b[0m\u001b[34mINFO    \u001b[0m \u001b[1m[\u001b[0mgreen\u001b[1m]\u001b[0mCreated:\u001b[1m[\u001b[0m\u001b[35m/\u001b[0m\u001b[95mgreen\u001b[0m\u001b[1m]\u001b[0m tests\\tests\\test_video_utils.py                        \u001b]8;id=286372;file://C:\\Users\\devil\\AppData\\Local\\Temp\\ipykernel_20900\\3340130049.py\u001b\\\u001b[2m3340130049.py\u001b[0m\u001b]8;;\u001b\\\u001b[2m:\u001b[0m\u001b]8;id=60546;file://C:\\Users\\devil\\AppData\\Local\\Temp\\ipykernel_20900\\3340130049.py#37\u001b\\\u001b[2m37\u001b[0m\u001b]8;;\u001b\\\n"
      ]
     },
     "metadata": {},
     "output_type": "display_data"
    },
    {
     "data": {
      "text/html": [
       "<pre style=\"white-space:pre;overflow-x:auto;line-height:normal;font-family:Menlo,'DejaVu Sans Mono',consolas,'Courier New',monospace\"><span style=\"color: #7fbfbf; text-decoration-color: #7fbfbf\">           </span><span style=\"color: #000080; text-decoration-color: #000080\">INFO    </span> <span style=\"font-weight: bold\">[</span>green<span style=\"font-weight: bold\">]</span>Created:<span style=\"font-weight: bold\">[</span><span style=\"color: #800080; text-decoration-color: #800080\">/</span><span style=\"color: #ff00ff; text-decoration-color: #ff00ff\">green</span><span style=\"font-weight: bold\">]</span> tests\\tests\\test_pose_utils.py                         <a href=\"file://C:\\Users\\devil\\AppData\\Local\\Temp\\ipykernel_20900\\3340130049.py\" target=\"_blank\"><span style=\"color: #7f7f7f; text-decoration-color: #7f7f7f\">3340130049.py</span></a><span style=\"color: #7f7f7f; text-decoration-color: #7f7f7f\">:</span><a href=\"file://C:\\Users\\devil\\AppData\\Local\\Temp\\ipykernel_20900\\3340130049.py#37\" target=\"_blank\"><span style=\"color: #7f7f7f; text-decoration-color: #7f7f7f\">37</span></a>\n",
       "</pre>\n"
      ],
      "text/plain": [
       "\u001b[2;36m          \u001b[0m\u001b[2;36m \u001b[0m\u001b[34mINFO    \u001b[0m \u001b[1m[\u001b[0mgreen\u001b[1m]\u001b[0mCreated:\u001b[1m[\u001b[0m\u001b[35m/\u001b[0m\u001b[95mgreen\u001b[0m\u001b[1m]\u001b[0m tests\\tests\\test_pose_utils.py                         \u001b]8;id=588809;file://C:\\Users\\devil\\AppData\\Local\\Temp\\ipykernel_20900\\3340130049.py\u001b\\\u001b[2m3340130049.py\u001b[0m\u001b]8;;\u001b\\\u001b[2m:\u001b[0m\u001b]8;id=956547;file://C:\\Users\\devil\\AppData\\Local\\Temp\\ipykernel_20900\\3340130049.py#37\u001b\\\u001b[2m37\u001b[0m\u001b]8;;\u001b\\\n"
      ]
     },
     "metadata": {},
     "output_type": "display_data"
    },
    {
     "data": {
      "text/html": [
       "<pre style=\"white-space:pre;overflow-x:auto;line-height:normal;font-family:Menlo,'DejaVu Sans Mono',consolas,'Courier New',monospace\"><span style=\"color: #7fbfbf; text-decoration-color: #7fbfbf\">           </span><span style=\"color: #000080; text-decoration-color: #000080\">INFO    </span> <span style=\"font-weight: bold\">[</span>green<span style=\"font-weight: bold\">]</span>Created:<span style=\"font-weight: bold\">[</span><span style=\"color: #800080; text-decoration-color: #800080\">/</span><span style=\"color: #ff00ff; text-decoration-color: #ff00ff\">green</span><span style=\"font-weight: bold\">]</span> tests\\tests\\test_llm_prompt.py                         <a href=\"file://C:\\Users\\devil\\AppData\\Local\\Temp\\ipykernel_20900\\3340130049.py\" target=\"_blank\"><span style=\"color: #7f7f7f; text-decoration-color: #7f7f7f\">3340130049.py</span></a><span style=\"color: #7f7f7f; text-decoration-color: #7f7f7f\">:</span><a href=\"file://C:\\Users\\devil\\AppData\\Local\\Temp\\ipykernel_20900\\3340130049.py#37\" target=\"_blank\"><span style=\"color: #7f7f7f; text-decoration-color: #7f7f7f\">37</span></a>\n",
       "</pre>\n"
      ],
      "text/plain": [
       "\u001b[2;36m          \u001b[0m\u001b[2;36m \u001b[0m\u001b[34mINFO    \u001b[0m \u001b[1m[\u001b[0mgreen\u001b[1m]\u001b[0mCreated:\u001b[1m[\u001b[0m\u001b[35m/\u001b[0m\u001b[95mgreen\u001b[0m\u001b[1m]\u001b[0m tests\\tests\\test_llm_prompt.py                         \u001b]8;id=278078;file://C:\\Users\\devil\\AppData\\Local\\Temp\\ipykernel_20900\\3340130049.py\u001b\\\u001b[2m3340130049.py\u001b[0m\u001b]8;;\u001b\\\u001b[2m:\u001b[0m\u001b]8;id=704851;file://C:\\Users\\devil\\AppData\\Local\\Temp\\ipykernel_20900\\3340130049.py#37\u001b\\\u001b[2m37\u001b[0m\u001b]8;;\u001b\\\n"
      ]
     },
     "metadata": {},
     "output_type": "display_data"
    },
    {
     "data": {
      "text/html": [
       "<pre style=\"white-space:pre;overflow-x:auto;line-height:normal;font-family:Menlo,'DejaVu Sans Mono',consolas,'Courier New',monospace\"><span style=\"color: #7fbfbf; text-decoration-color: #7fbfbf\">           </span><span style=\"color: #000080; text-decoration-color: #000080\">INFO    </span> <span style=\"font-weight: bold\">[</span>green<span style=\"font-weight: bold\">]</span>Created:<span style=\"font-weight: bold\">[</span><span style=\"color: #800080; text-decoration-color: #800080\">/</span><span style=\"color: #ff00ff; text-decoration-color: #ff00ff\">green</span><span style=\"font-weight: bold\">]</span> tests\\tests\\test_api_endpoints.py                      <a href=\"file://C:\\Users\\devil\\AppData\\Local\\Temp\\ipykernel_20900\\3340130049.py\" target=\"_blank\"><span style=\"color: #7f7f7f; text-decoration-color: #7f7f7f\">3340130049.py</span></a><span style=\"color: #7f7f7f; text-decoration-color: #7f7f7f\">:</span><a href=\"file://C:\\Users\\devil\\AppData\\Local\\Temp\\ipykernel_20900\\3340130049.py#37\" target=\"_blank\"><span style=\"color: #7f7f7f; text-decoration-color: #7f7f7f\">37</span></a>\n",
       "</pre>\n"
      ],
      "text/plain": [
       "\u001b[2;36m          \u001b[0m\u001b[2;36m \u001b[0m\u001b[34mINFO    \u001b[0m \u001b[1m[\u001b[0mgreen\u001b[1m]\u001b[0mCreated:\u001b[1m[\u001b[0m\u001b[35m/\u001b[0m\u001b[95mgreen\u001b[0m\u001b[1m]\u001b[0m tests\\tests\\test_api_endpoints.py                      \u001b]8;id=574271;file://C:\\Users\\devil\\AppData\\Local\\Temp\\ipykernel_20900\\3340130049.py\u001b\\\u001b[2m3340130049.py\u001b[0m\u001b]8;;\u001b\\\u001b[2m:\u001b[0m\u001b]8;id=985854;file://C:\\Users\\devil\\AppData\\Local\\Temp\\ipykernel_20900\\3340130049.py#37\u001b\\\u001b[2m37\u001b[0m\u001b]8;;\u001b\\\n"
      ]
     },
     "metadata": {},
     "output_type": "display_data"
    },
    {
     "data": {
      "text/html": [
       "<pre style=\"white-space:pre;overflow-x:auto;line-height:normal;font-family:Menlo,'DejaVu Sans Mono',consolas,'Courier New',monospace\"><span style=\"color: #7fbfbf; text-decoration-color: #7fbfbf\">[22:42:12] </span><span style=\"color: #000080; text-decoration-color: #000080\">INFO    </span> <span style=\"font-weight: bold\">[</span>green<span style=\"font-weight: bold\">]</span>Created:<span style=\"font-weight: bold\">[</span><span style=\"color: #800080; text-decoration-color: #800080\">/</span><span style=\"color: #ff00ff; text-decoration-color: #ff00ff\">green</span><span style=\"font-weight: bold\">]</span> github\\workflows\\.github\\workflows\\ci.yml              <a href=\"file://C:\\Users\\devil\\AppData\\Local\\Temp\\ipykernel_20900\\3340130049.py\" target=\"_blank\"><span style=\"color: #7f7f7f; text-decoration-color: #7f7f7f\">3340130049.py</span></a><span style=\"color: #7f7f7f; text-decoration-color: #7f7f7f\">:</span><a href=\"file://C:\\Users\\devil\\AppData\\Local\\Temp\\ipykernel_20900\\3340130049.py#37\" target=\"_blank\"><span style=\"color: #7f7f7f; text-decoration-color: #7f7f7f\">37</span></a>\n",
       "</pre>\n"
      ],
      "text/plain": [
       "\u001b[2;36m[22:42:12]\u001b[0m\u001b[2;36m \u001b[0m\u001b[34mINFO    \u001b[0m \u001b[1m[\u001b[0mgreen\u001b[1m]\u001b[0mCreated:\u001b[1m[\u001b[0m\u001b[35m/\u001b[0m\u001b[95mgreen\u001b[0m\u001b[1m]\u001b[0m github\\workflows\\.github\\workflows\\ci.yml              \u001b]8;id=762801;file://C:\\Users\\devil\\AppData\\Local\\Temp\\ipykernel_20900\\3340130049.py\u001b\\\u001b[2m3340130049.py\u001b[0m\u001b]8;;\u001b\\\u001b[2m:\u001b[0m\u001b]8;id=533166;file://C:\\Users\\devil\\AppData\\Local\\Temp\\ipykernel_20900\\3340130049.py#37\u001b\\\u001b[2m37\u001b[0m\u001b]8;;\u001b\\\n"
      ]
     },
     "metadata": {},
     "output_type": "display_data"
    },
    {
     "data": {
      "text/html": [
       "<pre style=\"white-space:pre;overflow-x:auto;line-height:normal;font-family:Menlo,'DejaVu Sans Mono',consolas,'Courier New',monospace\"><span style=\"color: #7fbfbf; text-decoration-color: #7fbfbf\">           </span><span style=\"color: #000080; text-decoration-color: #000080\">INFO    </span> <span style=\"font-weight: bold\">[</span>green<span style=\"font-weight: bold\">]</span>Created:<span style=\"font-weight: bold\">[</span><span style=\"color: #800080; text-decoration-color: #800080\">/</span><span style=\"color: #ff00ff; text-decoration-color: #ff00ff\">green</span><span style=\"font-weight: bold\">]</span> github\\workflows\\.github\\workflows\\lint.yml            <a href=\"file://C:\\Users\\devil\\AppData\\Local\\Temp\\ipykernel_20900\\3340130049.py\" target=\"_blank\"><span style=\"color: #7f7f7f; text-decoration-color: #7f7f7f\">3340130049.py</span></a><span style=\"color: #7f7f7f; text-decoration-color: #7f7f7f\">:</span><a href=\"file://C:\\Users\\devil\\AppData\\Local\\Temp\\ipykernel_20900\\3340130049.py#37\" target=\"_blank\"><span style=\"color: #7f7f7f; text-decoration-color: #7f7f7f\">37</span></a>\n",
       "</pre>\n"
      ],
      "text/plain": [
       "\u001b[2;36m          \u001b[0m\u001b[2;36m \u001b[0m\u001b[34mINFO    \u001b[0m \u001b[1m[\u001b[0mgreen\u001b[1m]\u001b[0mCreated:\u001b[1m[\u001b[0m\u001b[35m/\u001b[0m\u001b[95mgreen\u001b[0m\u001b[1m]\u001b[0m github\\workflows\\.github\\workflows\\lint.yml            \u001b]8;id=553411;file://C:\\Users\\devil\\AppData\\Local\\Temp\\ipykernel_20900\\3340130049.py\u001b\\\u001b[2m3340130049.py\u001b[0m\u001b]8;;\u001b\\\u001b[2m:\u001b[0m\u001b]8;id=191143;file://C:\\Users\\devil\\AppData\\Local\\Temp\\ipykernel_20900\\3340130049.py#37\u001b\\\u001b[2m37\u001b[0m\u001b]8;;\u001b\\\n"
      ]
     },
     "metadata": {},
     "output_type": "display_data"
    },
    {
     "data": {
      "text/html": [
       "<pre style=\"white-space:pre;overflow-x:auto;line-height:normal;font-family:Menlo,'DejaVu Sans Mono',consolas,'Courier New',monospace\"><span style=\"color: #7fbfbf; text-decoration-color: #7fbfbf\">           </span><span style=\"color: #000080; text-decoration-color: #000080\">INFO    </span> <span style=\"font-weight: bold\">[</span>green<span style=\"font-weight: bold\">]</span>Created:<span style=\"font-weight: bold\">[</span><span style=\"color: #800080; text-decoration-color: #800080\">/</span><span style=\"color: #ff00ff; text-decoration-color: #ff00ff\">green</span><span style=\"font-weight: bold\">]</span> github\\workflows\\.github\\workflows\\deploy.yml          <a href=\"file://C:\\Users\\devil\\AppData\\Local\\Temp\\ipykernel_20900\\3340130049.py\" target=\"_blank\"><span style=\"color: #7f7f7f; text-decoration-color: #7f7f7f\">3340130049.py</span></a><span style=\"color: #7f7f7f; text-decoration-color: #7f7f7f\">:</span><a href=\"file://C:\\Users\\devil\\AppData\\Local\\Temp\\ipykernel_20900\\3340130049.py#37\" target=\"_blank\"><span style=\"color: #7f7f7f; text-decoration-color: #7f7f7f\">37</span></a>\n",
       "</pre>\n"
      ],
      "text/plain": [
       "\u001b[2;36m          \u001b[0m\u001b[2;36m \u001b[0m\u001b[34mINFO    \u001b[0m \u001b[1m[\u001b[0mgreen\u001b[1m]\u001b[0mCreated:\u001b[1m[\u001b[0m\u001b[35m/\u001b[0m\u001b[95mgreen\u001b[0m\u001b[1m]\u001b[0m github\\workflows\\.github\\workflows\\deploy.yml          \u001b]8;id=89573;file://C:\\Users\\devil\\AppData\\Local\\Temp\\ipykernel_20900\\3340130049.py\u001b\\\u001b[2m3340130049.py\u001b[0m\u001b]8;;\u001b\\\u001b[2m:\u001b[0m\u001b]8;id=974157;file://C:\\Users\\devil\\AppData\\Local\\Temp\\ipykernel_20900\\3340130049.py#37\u001b\\\u001b[2m37\u001b[0m\u001b]8;;\u001b\\\n"
      ]
     },
     "metadata": {},
     "output_type": "display_data"
    },
    {
     "data": {
      "text/html": [
       "<pre style=\"white-space:pre;overflow-x:auto;line-height:normal;font-family:Menlo,'DejaVu Sans Mono',consolas,'Courier New',monospace\"><span style=\"color: #7fbfbf; text-decoration-color: #7fbfbf\">           </span><span style=\"color: #000080; text-decoration-color: #000080\">INFO    </span> <span style=\"font-weight: bold\">[</span>blue<span style=\"font-weight: bold\">]</span>Summary saved to creation_result.json<span style=\"font-weight: bold\">[</span><span style=\"color: #800080; text-decoration-color: #800080\">/</span><span style=\"color: #ff00ff; text-decoration-color: #ff00ff\">blue</span><span style=\"font-weight: bold\">]</span>                             <a href=\"file://C:\\Users\\devil\\AppData\\Local\\Temp\\ipykernel_20900\\3340130049.py\" target=\"_blank\"><span style=\"color: #7f7f7f; text-decoration-color: #7f7f7f\">3340130049.py</span></a><span style=\"color: #7f7f7f; text-decoration-color: #7f7f7f\">:</span><a href=\"file://C:\\Users\\devil\\AppData\\Local\\Temp\\ipykernel_20900\\3340130049.py#76\" target=\"_blank\"><span style=\"color: #7f7f7f; text-decoration-color: #7f7f7f\">76</span></a>\n",
       "</pre>\n"
      ],
      "text/plain": [
       "\u001b[2;36m          \u001b[0m\u001b[2;36m \u001b[0m\u001b[34mINFO    \u001b[0m \u001b[1m[\u001b[0mblue\u001b[1m]\u001b[0mSummary saved to creation_result.json\u001b[1m[\u001b[0m\u001b[35m/\u001b[0m\u001b[95mblue\u001b[0m\u001b[1m]\u001b[0m                             \u001b]8;id=362698;file://C:\\Users\\devil\\AppData\\Local\\Temp\\ipykernel_20900\\3340130049.py\u001b\\\u001b[2m3340130049.py\u001b[0m\u001b]8;;\u001b\\\u001b[2m:\u001b[0m\u001b]8;id=235647;file://C:\\Users\\devil\\AppData\\Local\\Temp\\ipykernel_20900\\3340130049.py#76\u001b\\\u001b[2m76\u001b[0m\u001b]8;;\u001b\\\n"
      ]
     },
     "metadata": {},
     "output_type": "display_data"
    }
   ],
   "source": [
    "from pathlib import Path\n",
    "import yaml\n",
    "import json\n",
    "import logging\n",
    "from rich.logging import RichHandler\n",
    "from rich.console import Console\n",
    "from datetime import datetime\n",
    "\n",
    "# Rich console for errors and info\n",
    "console = Console()\n",
    "\n",
    "# Configure logging with RichHandler\n",
    "logging.basicConfig(\n",
    "    level=logging.INFO,\n",
    "    format=\"%(message)s\",\n",
    "    datefmt=\"[%X]\",\n",
    "    handlers=[RichHandler(rich_tracebacks=True)]\n",
    ")\n",
    "logger = logging.getLogger(\"project_builder\")\n",
    "\n",
    "def load_yaml(yaml_path):\n",
    "    try:\n",
    "        with open(yaml_path, \"r\") as file:\n",
    "            return yaml.safe_load(file)\n",
    "    except Exception as e:\n",
    "        logger.exception(\"Failed to load YAML file.\")\n",
    "        raise\n",
    "\n",
    "def create_file(path, created, skipped, errors):\n",
    "    try:\n",
    "        if path.exists():\n",
    "            logger.warning(f\"[yellow]Skipped (exists): {path}[/yellow]\")\n",
    "            skipped.append(str(path))\n",
    "            return\n",
    "        path.parent.mkdir(parents=True, exist_ok=True)\n",
    "        path.touch()\n",
    "        logger.info(f\"[green]Created:[/green] {path}\")\n",
    "        created.append(str(path))\n",
    "    except Exception as e:\n",
    "        error_msg = f\"Error creating {path}: {e}\"\n",
    "        logger.error(f\"[red]{error_msg}[/red]\")\n",
    "        errors.append({\"file\": str(path), \"error\": str(e)})\n",
    "\n",
    "def process_structure(base_path, structure, created, skipped, errors):\n",
    "    if isinstance(structure, list):\n",
    "        for item in structure:\n",
    "            if isinstance(item, str):\n",
    "                create_file(base_path / item, created, skipped, errors)\n",
    "            elif isinstance(item, dict):\n",
    "                for k, v in item.items():\n",
    "                    process_structure(base_path / k, v, created, skipped, errors)\n",
    "    elif isinstance(structure, dict):\n",
    "        for k, v in structure.items():\n",
    "            process_structure(base_path / k, v, created, skipped, errors)\n",
    "\n",
    "def build_project_from_yaml(yaml_file=r\"C:\\Users\\devil\\Documents\\Projects\\Pickleball-Vision-LLM\\project_structure.yaml\", result_output=\"creation_result.json\"):\n",
    "    try:\n",
    "        yaml_content = load_yaml(yaml_file)\n",
    "        structure = yaml_content.get(\"project\", {}).get(\"structure\", {})\n",
    "    except Exception:\n",
    "        logger.error(\"[bold red]YAML parsing failed. Exiting.[/bold red]\")\n",
    "        return\n",
    "\n",
    "    created, skipped, errors = [], [], []\n",
    "    process_structure(Path(\".\"), structure, created, skipped, errors)\n",
    "\n",
    "    result = {\n",
    "        \"timestamp\": datetime.now().isoformat(),\n",
    "        \"created\": created,\n",
    "        \"skipped\": skipped,\n",
    "        \"errors\": errors\n",
    "    }\n",
    "\n",
    "    try:\n",
    "        Path(result_output).write_text(json.dumps(result, indent=2))\n",
    "        logger.info(f\"[blue]Summary saved to {result_output}[/blue]\")\n",
    "    except Exception as e:\n",
    "        logger.error(f\"[red]Failed to write summary: {e}[/red]\")\n",
    "\n",
    "if __name__ == \"__main__\":\n",
    "    build_project_from_yaml()\n"
   ]
  }
 ],
 "metadata": {
  "kernelspec": {
   "display_name": "Python 3",
   "language": "python",
   "name": "python3"
  },
  "language_info": {
   "codemirror_mode": {
    "name": "ipython",
    "version": 3
   },
   "file_extension": ".py",
   "mimetype": "text/x-python",
   "name": "python",
   "nbconvert_exporter": "python",
   "pygments_lexer": "ipython3",
   "version": "3.11.11"
  }
 },
 "nbformat": 4,
 "nbformat_minor": 2
}
